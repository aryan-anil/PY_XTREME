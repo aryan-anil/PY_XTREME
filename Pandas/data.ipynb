{
  "nbformat": 4,
  "nbformat_minor": 0,
  "metadata": {
    "colab": {
      "provenance": [],
      "authorship_tag": "ABX9TyODhHVULVez5W4WrIfMiwTA",
      "include_colab_link": true
    },
    "kernelspec": {
      "name": "python3",
      "display_name": "Python 3"
    },
    "language_info": {
      "name": "python"
    }
  },
  "cells": [
    {
      "cell_type": "markdown",
      "metadata": {
        "id": "view-in-github",
        "colab_type": "text"
      },
      "source": [
        "<a href=\"https://colab.research.google.com/github/Vishnupriya286/PY_XTREME/blob/main/Pandas/data.ipynb\" target=\"_parent\"><img src=\"https://colab.research.google.com/assets/colab-badge.svg\" alt=\"Open In Colab\"/></a>"
      ]
    },
    {
      "cell_type": "code",
      "execution_count": null,
      "metadata": {
        "id": "ZGUwv4JEd4mK"
      },
      "outputs": [],
      "source": [
        "# importing pandas as pd\n",
        "import pandas as pd\n",
        " \n",
        "# import the StrinIO function\n",
        "# from io module\n",
        "from io import StringIO\n",
        " \n",
        "# wrap the string data in StringIO function\n",
        "StringData = StringIO(\"\"\"Date;Event;Cost\n",
        "    10/2/2011;Music;10000\n",
        "    11/2/2011;Poetry;12000\n",
        "    12/2/2011;Theatre;5000\n",
        "    13/2/2011;Comedy;8000\n",
        "    \"\"\")\n",
        " \n",
        "# let's read the data using the Pandas\n",
        "# read_csv() function\n",
        "df = pd.read_csv(StringData, sep =\";\")\n",
        " \n",
        "# Print the dataframe\n",
        "print(df)"
      ]
    }
  ]
}