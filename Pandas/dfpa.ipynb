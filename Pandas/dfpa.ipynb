{
  "nbformat": 4,
  "nbformat_minor": 0,
  "metadata": {
    "colab": {
      "provenance": []
    },
    "kernelspec": {
      "name": "python3",
      "display_name": "Python 3"
    },
    "language_info": {
      "name": "python"
    }
  },
  "cells": [
    {
      "cell_type": "code",
      "execution_count": 6,
      "metadata": {
        "id": "1s3XiPM7H9Z7",
        "colab": {
          "base_uri": "https://localhost:8080/"
        },
        "outputId": "b2c8a38b-f7b6-4f4d-9766-52825000a3a9"
      },
      "outputs": [
        {
          "output_type": "stream",
          "name": "stdout",
          "text": [
            "   first  second third\n",
            "0      1     1.1     a\n",
            "1      3     3.5     b\n",
            "2      4     4.7     c\n",
            "3      5     5.8     d\n",
            "4      6     2.9     e\n",
            "5      2     9.3   NaN\n",
            "6      9     NaN   NaN\n"
          ]
        }
      ],
      "source": [
        "#Joel Peter Joseph\n",
        "\n",
        "\n",
        "# Program to create Dataframe of three series\n",
        "import pandas as pd\n",
        "\n",
        "# Define series 1\n",
        "s1 = pd.Series([1, 3, 4, 5, 6, 2, 9])\n",
        "\n",
        "# Define series 2\t\n",
        "s2 = pd.Series([1.1, 3.5, 4.7, 5.8, 2.9, 9.3])\n",
        "\n",
        "# Define series 3\n",
        "s3 = pd.Series(['a', 'b', 'c', 'd', 'e'])\t\n",
        "\n",
        "# Define Data\n",
        "Data ={'first':s1, 'second':s2, 'third':s3}\n",
        "\n",
        "# Create DataFrame\n",
        "dfseries = pd.DataFrame(Data)\t\n",
        "print(dfseries)\t\t\n"
      ]
    }
  ]
}