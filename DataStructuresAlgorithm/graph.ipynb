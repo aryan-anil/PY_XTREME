{
  "cells": [
    {
      "cell_type": "code",
      "execution_count": 23,
      "metadata": {
        "colab": {
          "base_uri": "https://localhost:8080/"
        },
        "id": "N3GiIvRltslR",
        "outputId": "6c308a14-7053-4775-9cc7-6d80057fd92b"
      },
      "outputs": [
        {
          "output_type": "stream",
          "name": "stdout",
          "text": [
            "[('a', 'c'), ('b', 'c'), ('b', 'e'), ('c', 'd'), ('c', 'e'), ('c', 'a'), ('c', 'b'), ('e', 'b'), ('e', 'c'), ('d', 'c')]\n"
          ]
        }
      ],
      "source": [
        "#Joel Peter Joseph\n",
        "\n",
        "# Python program for\n",
        "# validation of a graph\n",
        "\n",
        "# import dictionary for graph\n",
        "from collections import defaultdict\n",
        "\n",
        "# function for adding edge to graph\n",
        "graph = defaultdict(list)\n",
        "def addEdge(graph,u,v):\n",
        "\tgraph[u].append(v)\n",
        "\n",
        "# definition of function\n",
        "def generate_edges(graph):\n",
        "\tedges = []\n",
        "\n",
        "\t# for each node in graph\n",
        "\tfor node in graph:\n",
        "\t\t\n",
        "\t\t# for each neighbour node of a single node\n",
        "\t\tfor neighbour in graph[node]:\n",
        "\t\t\t\n",
        "\t\t\t# if edge exists then append\n",
        "\t\t\tedges.append((node, neighbour))\n",
        "\treturn edges\n",
        "\n",
        "# declaration of graph as dictionary\n",
        "addEdge(graph,'a','c')\n",
        "addEdge(graph,'b','c')\n",
        "addEdge(graph,'b','e')\n",
        "addEdge(graph,'c','d')\n",
        "addEdge(graph,'c','e')\n",
        "addEdge(graph,'c','a')\n",
        "addEdge(graph,'c','b')\n",
        "addEdge(graph,'e','b')\n",
        "addEdge(graph,'d','c')\n",
        "addEdge(graph,'e','c')\n",
        "\n",
        "# Driver Function call\n",
        "# to print generated graph\n",
        "print(generate_edges(graph))\n",
        "\n",
        "\n",
        "\n",
        "\n"
      ]
    }
  ],
  "metadata": {
    "colab": {
      "provenance": []
    },
    "kernelspec": {
      "display_name": "Python 3",
      "name": "python3"
    },
    "language_info": {
      "name": "python"
    }
  },
  "nbformat": 4,
  "nbformat_minor": 0
}