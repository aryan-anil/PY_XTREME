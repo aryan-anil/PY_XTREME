{
  "cells": [
    {
      "cell_type": "code",
      "execution_count": 22,
      "metadata": {
        "colab": {
          "base_uri": "https://localhost:8080/"
        },
        "id": "N3GiIvRltslR",
        "outputId": "cec0489c-9755-4273-edee-3b54e02703eb"
      },
      "outputs": [
        {
          "output_type": "stream",
          "name": "stdout",
          "text": [
            "3\n",
            "6\n",
            "12\n",
            "14\n"
          ]
        }
      ],
      "source": [
        "#Joel Peter Joseph\n",
        "#Python program to show tree\n",
        "class Node:\n",
        "   def __init__(self, data):\n",
        "      self.left = None\n",
        "      self.right = None\n",
        "      self.data = data\n",
        "\n",
        "   def insert(self, data):\n",
        "# Compare the new value with the parent node\n",
        "      if self.data:\n",
        "         if data < self.data:\n",
        "            if self.left is None:\n",
        "               self.left = Node(data)\n",
        "            else:\n",
        "               self.left.insert(data)\n",
        "         elif data > self.data:\n",
        "               if self.right is None:\n",
        "                  self.right = Node(data)\n",
        "               else:\n",
        "                  self.right.insert(data)\n",
        "      else:\n",
        "         self.data = data\n",
        "\n",
        "# Print the tree\n",
        "   def PrintTree(self):\n",
        "      if self.left:\n",
        "         self.left.PrintTree()\n",
        "      print( self.data),\n",
        "      if self.right:\n",
        "         self.right.PrintTree()\n",
        "\n",
        "# Use the insert method to add nodes\n",
        "root = Node(12)\n",
        "root.insert(6)\n",
        "root.insert(14)\n",
        "root.insert(3)\n",
        "root.PrintTree()\n",
        "\n",
        "\n",
        "\n",
        "\n"
      ]
    }
  ],
  "metadata": {
    "colab": {
      "provenance": []
    },
    "kernelspec": {
      "display_name": "Python 3",
      "name": "python3"
    },
    "language_info": {
      "name": "python"
    }
  },
  "nbformat": 4,
  "nbformat_minor": 0
}