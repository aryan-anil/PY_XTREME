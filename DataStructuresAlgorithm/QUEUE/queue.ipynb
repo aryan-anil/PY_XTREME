{
  "nbformat": 4,
  "nbformat_minor": 0,
  "metadata": {
    "colab": {
      "provenance": [],
      "authorship_tag": "ABX9TyPbWlvatoywEd7sh9GLpcwV",
      "include_colab_link": true
    },
    "kernelspec": {
      "name": "python3",
      "display_name": "Python 3"
    },
    "language_info": {
      "name": "python"
    }
  },
  "cells": [
    {
      "cell_type": "markdown",
      "metadata": {
        "id": "view-in-github",
        "colab_type": "text"
      },
      "source": [
        "<a href=\"https://colab.research.google.com/github/akhilamoh/PY_XTREME/blob/main/queue.ipynb\" target=\"_parent\"><img src=\"https://colab.research.google.com/assets/colab-badge.svg\" alt=\"Open In Colab\"/></a>"
      ]
    },
    {
      "cell_type": "code",
      "execution_count": 17,
      "metadata": {
        "id": "1fR-K0O3aOHM",
        "colab": {
          "base_uri": "https://localhost:8080/"
        },
        "outputId": "993b9016-6bbc-40ae-82fd-7158849edb23"
      },
      "outputs": [
        {
          "name": "stdout",
          "output_type": "stream",
          "text": [
            "---QUEUE OPERATION---\n",
            "1.enqueue:- INSERT ELEMENTS INTO queue\n",
            "2.dequeue:- DELETE ELEMENTS FROM queue\n",
            "3.DISPLAY queue\n",
            "4.EXIST\n",
            "enter your choice: 1\n",
            "enter the element to be enqueueed into queue: 4\n",
            "enqueueed item:  4\n",
            "---QUEUE OPERATION---\n",
            "1.enqueue:- INSERT ELEMENTS INTO queue\n",
            "2.dequeue:- DELETE ELEMENTS FROM queue\n",
            "3.DISPLAY queue\n",
            "4.EXIST\n",
            "enter your choice: 1\n",
            "enter the element to be enqueueed into queue: 8\n",
            "enqueueed item:  8\n",
            "---QUEUE OPERATION---\n",
            "1.enqueue:- INSERT ELEMENTS INTO queue\n",
            "2.dequeue:- DELETE ELEMENTS FROM queue\n",
            "3.DISPLAY queue\n",
            "4.EXIST\n",
            "enter your choice: 1\n",
            "enter the element to be enqueueed into queue: 9\n",
            "enqueueed item:  9\n",
            "---QUEUE OPERATION---\n",
            "1.enqueue:- INSERT ELEMENTS INTO queue\n",
            "2.dequeue:- DELETE ELEMENTS FROM queue\n",
            "3.DISPLAY queue\n",
            "4.EXIST\n",
            "enter your choice: 3\n",
            "the elements in queue are:\n",
            "4\n",
            "8\n",
            "9\n",
            "---QUEUE OPERATION---\n",
            "1.enqueue:- INSERT ELEMENTS INTO queue\n",
            "2.dequeue:- DELETE ELEMENTS FROM queue\n",
            "3.DISPLAY queue\n",
            "4.EXIST\n",
            "enter your choice: 2\n",
            "---QUEUE OPERATION---\n",
            "1.enqueue:- INSERT ELEMENTS INTO queue\n",
            "2.dequeue:- DELETE ELEMENTS FROM queue\n",
            "3.DISPLAY queue\n",
            "4.EXIST\n",
            "enter your choice: 3\n",
            "the elements in queue are:\n",
            "8\n",
            "9\n",
            "---QUEUE OPERATION---\n",
            "1.enqueue:- INSERT ELEMENTS INTO queue\n",
            "2.dequeue:- DELETE ELEMENTS FROM queue\n",
            "3.DISPLAY queue\n",
            "4.EXIST\n",
            "enter your choice: 4\n"
          ]
        }
      ],
      "source": [
        "# queue implementation in python\n",
        "\n",
        "\n",
        "# Creating a QUEUE \n",
        "def create_queue():\n",
        "  queue = []\n",
        "  return queue\n",
        "\n",
        "\n",
        "# Creating an empty queue\n",
        "def check_empty(queue):\n",
        "  return len(queue) == 0\n",
        "\n",
        "\n",
        "# Adding items into the queue\n",
        "def enqueue(queue, item):\n",
        "  queue.append(item)\n",
        "  print(\"enqueueed item: \" ,item)\n",
        "\n",
        "\n",
        "# Removing an element from the queue\n",
        "def dequeue(queue):\n",
        "  if (check_empty(queue)):\n",
        "    return \"queue is empty\"\n",
        "  return queue.pop(0)\n",
        "\n",
        "def display(queue):\n",
        "  print(\"the elements in queue are:\")\n",
        "  for i in range(len(queue)):\n",
        "    print(queue[i])\n",
        "\n",
        "queue=create_queue()\n",
        "while True:\n",
        "  print(\"---QUEUE OPERATION---\")\n",
        "  print(\"1.enqueue:- INSERT ELEMENTS INTO queue\")\n",
        "  print(\"2.dequeue:- DELETE ELEMENTS FROM queue\")\n",
        "  print(\"3.DISPLAY queue\")\n",
        "  print(\"4.EXIST\")\n",
        "  ch=int(input(\"enter your choice: \"))\n",
        "  if ch==1:\n",
        "    iteam=int(input(\"enter the element to be enqueueed into queue: \"))\n",
        "    enqueue(queue,iteam)\n",
        "  elif ch==2:\n",
        "    dequeue(queue)\n",
        "  elif ch==3:\n",
        "    display(queue)\n",
        "  elif ch==4:\n",
        "    break\n",
        "  else :   \n",
        "    print(\"invalid entry\")"
      ]
    },
    {
      "cell_type": "code",
      "execution_count": null,
      "metadata": {
        "id": "_9rc0w8ywDIJ"
      },
      "outputs": [],
      "source": []
    }
  ]
}
