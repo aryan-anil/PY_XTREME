{
  "cells": [
    {
      "cell_type": "code",
      "execution_count": 24,
      "metadata": {
        "colab": {
          "base_uri": "https://localhost:8080/"
        },
        "id": "N3GiIvRltslR",
        "outputId": "ac3d929c-59e6-4cce-bba3-1e634edb3c34"
      },
      "outputs": [
        {
          "output_type": "stream",
          "name": "stdout",
          "text": [
            "Array before insertion :  1 2 3 \n",
            "Array after insertion :  1 4 2 3 \n",
            "Array before insertion :  2.5 3.2 3.3 \n",
            "Array after insertion :  2.5 3.2 3.3 4.4 \n"
          ]
        }
      ],
      "source": [
        "#Joel Peter Joseph\n",
        "\n",
        "# Python program to demonstrate\n",
        "# Adding Elements to a Array\n",
        "\n",
        "# importing \"array\" for array creations\n",
        "import array as arr\n",
        "\n",
        "# array with int type\n",
        "a = arr.array('i', [1, 2, 3])\n",
        "\n",
        "\n",
        "print (\"Array before insertion : \", end =\" \")\n",
        "for i in range (0, 3):\n",
        "\tprint (a[i], end =\" \")\n",
        "print()\n",
        "\n",
        "# inserting array using\n",
        "# insert() function\n",
        "a.insert(1, 4)\n",
        "\n",
        "print (\"Array after insertion : \", end =\" \")\n",
        "for i in (a):\n",
        "\tprint (i, end =\" \")\n",
        "print()\n",
        "\n",
        "# array with float type\n",
        "b = arr.array('d', [2.5, 3.2, 3.3])\n",
        "\n",
        "print (\"Array before insertion : \", end =\" \")\n",
        "for i in range (0, 3):\n",
        "\tprint (b[i], end =\" \")\n",
        "print()\n",
        "\n",
        "# adding an element using append()\n",
        "b.append(4.4)\n",
        "\n",
        "print (\"Array after insertion : \", end =\" \")\n",
        "for i in (b):\n",
        "\tprint (i, end =\" \")\n",
        "print()\n",
        "\n",
        "\n",
        "\n",
        "\n"
      ]
    }
  ],
  "metadata": {
    "colab": {
      "provenance": []
    },
    "kernelspec": {
      "display_name": "Python 3",
      "name": "python3"
    },
    "language_info": {
      "name": "python"
    }
  },
  "nbformat": 4,
  "nbformat_minor": 0
}