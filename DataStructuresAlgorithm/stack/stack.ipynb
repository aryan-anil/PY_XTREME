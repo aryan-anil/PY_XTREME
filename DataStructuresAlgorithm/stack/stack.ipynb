{
  "nbformat": 4,
  "nbformat_minor": 0,
  "metadata": {
    "colab": {
      "provenance": [],
      "authorship_tag": "ABX9TyO+HSbMnAhCU7WqS9w/qXck",
      "include_colab_link": true
    },
    "kernelspec": {
      "name": "python3",
      "display_name": "Python 3"
    },
    "language_info": {
      "name": "python"
    }
  },
  "cells": [
    {
      "cell_type": "markdown",
      "metadata": {
        "id": "view-in-github",
        "colab_type": "text"
      },
      "source": [
        "<a href=\"https://colab.research.google.com/github/akhilamoh/PY_XTREME/blob/main/stack.ipynb\" target=\"_parent\"><img src=\"https://colab.research.google.com/assets/colab-badge.svg\" alt=\"Open In Colab\"/></a>"
      ]
    },
    {
      "cell_type": "code",
      "execution_count": 11,
      "metadata": {
        "id": "1fR-K0O3aOHM",
        "colab": {
          "base_uri": "https://localhost:8080/"
        },
        "outputId": "ef9cc16a-4eac-4f9f-f781-913e67a42844"
      },
      "outputs": [
        {
          "name": "stdout",
          "output_type": "stream",
          "text": [
            "---STACK OPERATION---\n",
            "1.PUSH:- INSERT ELEMENTS INTO STACK\n",
            "2.POP:- DELETE ELEMENTS FROM STACK\n",
            "3.DISPLAY STACK\n",
            "4.EXIST\n",
            "enter your choice: 1\n",
            "enter the element to be pushed into stack: 5\n",
            "pushed item:  5\n",
            "---STACK OPERATION---\n",
            "1.PUSH:- INSERT ELEMENTS INTO STACK\n",
            "2.POP:- DELETE ELEMENTS FROM STACK\n",
            "3.DISPLAY STACK\n",
            "4.EXIST\n",
            "enter your choice: 1\n",
            "enter the element to be pushed into stack: 7\n",
            "pushed item:  7\n",
            "---STACK OPERATION---\n",
            "1.PUSH:- INSERT ELEMENTS INTO STACK\n",
            "2.POP:- DELETE ELEMENTS FROM STACK\n",
            "3.DISPLAY STACK\n",
            "4.EXIST\n",
            "enter your choice: 1\n",
            "enter the element to be pushed into stack: 3\n",
            "pushed item:  3\n",
            "---STACK OPERATION---\n",
            "1.PUSH:- INSERT ELEMENTS INTO STACK\n",
            "2.POP:- DELETE ELEMENTS FROM STACK\n",
            "3.DISPLAY STACK\n",
            "4.EXIST\n",
            "enter your choice: 3\n",
            "the elements in stack are:\n",
            "5\n",
            "7\n",
            "3\n",
            "---STACK OPERATION---\n",
            "1.PUSH:- INSERT ELEMENTS INTO STACK\n",
            "2.POP:- DELETE ELEMENTS FROM STACK\n",
            "3.DISPLAY STACK\n",
            "4.EXIST\n",
            "enter your choice: 2\n",
            "---STACK OPERATION---\n",
            "1.PUSH:- INSERT ELEMENTS INTO STACK\n",
            "2.POP:- DELETE ELEMENTS FROM STACK\n",
            "3.DISPLAY STACK\n",
            "4.EXIST\n",
            "enter your choice: 3\n",
            "the elements in stack are:\n",
            "5\n",
            "7\n",
            "---STACK OPERATION---\n",
            "1.PUSH:- INSERT ELEMENTS INTO STACK\n",
            "2.POP:- DELETE ELEMENTS FROM STACK\n",
            "3.DISPLAY STACK\n",
            "4.EXIST\n",
            "enter your choice: 4\n"
          ]
        }
      ],
      "source": [
        "# Stack implementation in python\n",
        "\n",
        "\n",
        "# Creating a stack\n",
        "def create_stack():\n",
        "  stack = []\n",
        "  return stack\n",
        "\n",
        "\n",
        "# Creating an empty stack\n",
        "def check_empty(stack):\n",
        "  return len(stack) == 0\n",
        "\n",
        "\n",
        "# Adding items into the stack\n",
        "def push(stack, item):\n",
        "  stack.append(item)\n",
        "  print(\"pushed item: \" ,item)\n",
        "\n",
        "\n",
        "# Removing an element from the stack\n",
        "def pop(stack):\n",
        "  if (check_empty(stack)):\n",
        "    return \"stack is empty\"\n",
        "  return stack.pop()\n",
        "\n",
        "def display(stack):\n",
        "  print(\"the elements in stack are:\")\n",
        "  for i in range(len(stack)):\n",
        "    print(stack[i])\n",
        "\n",
        "stack=create_stack()\n",
        "while True:\n",
        "  print(\"---STACK OPERATION---\")\n",
        "  print(\"1.PUSH:- INSERT ELEMENTS INTO STACK\")\n",
        "  print(\"2.POP:- DELETE ELEMENTS FROM STACK\")\n",
        "  print(\"3.DISPLAY STACK\")\n",
        "  print(\"4.EXIST\")\n",
        "  ch=int(input(\"enter your choice: \"))\n",
        "  if ch==1:\n",
        "    iteam=int(input(\"enter the element to be pushed into stack: \"))\n",
        "    push(stack,iteam)\n",
        "  elif ch==2:\n",
        "    pop(stack)\n",
        "  elif ch==3:\n",
        "    display(stack)\n",
        "  elif ch==4:\n",
        "    break\n",
        "  else :\n",
        "    print(\"invalid entry\")"
      ]
    },
    {
      "cell_type": "code",
      "execution_count": null,
      "metadata": {
        "id": "_9rc0w8ywDIJ"
      },
      "outputs": [],
      "source": []
    }
  ]
}
