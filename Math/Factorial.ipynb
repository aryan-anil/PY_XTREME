{
  "nbformat": 4,
  "nbformat_minor": 0,
  "metadata": {
    "colab": {
      "provenance": [],
      "authorship_tag": "ABX9TyNNI7w3rMNVsrIjj1B1VSWa",
      "include_colab_link": true
    },
    "kernelspec": {
      "name": "python3",
      "display_name": "Python 3"
    },
    "language_info": {
      "name": "python"
    }
  },
  "cells": [
    {
      "cell_type": "markdown",
      "metadata": {
        "id": "view-in-github",
        "colab_type": "text"
      },
      "source": [
        "<a href=\"https://colab.research.google.com/github/dsg1320/PY_XTREME/blob/main/Math/Factorial.ipynb\" target=\"_parent\"><img src=\"https://colab.research.google.com/assets/colab-badge.svg\" alt=\"Open In Colab\"/></a>"
      ]
    },
    {
      "cell_type": "code",
      "execution_count": 2,
      "metadata": {
        "colab": {
          "base_uri": "https://localhost:8080/"
        },
        "id": "6emsha0PWtn-",
        "outputId": "06130493-e916-4310-c00d-4f3dff3b6d6e"
      },
      "outputs": [
        {
          "output_type": "stream",
          "name": "stdout",
          "text": [
            "Enter the number:5\n",
            "Factorial of 5 is 120\n"
          ]
        }
      ],
      "source": [
        "import math  \n",
        "def fact(n):  \n",
        "    return(math.factorial(n))  \n",
        "  \n",
        "num = int(input(\"Enter the number:\"))  \n",
        "f = fact(num)  \n",
        "print(\"Factorial of\", num, \"is\", f) "
      ]
    }
  ]
}