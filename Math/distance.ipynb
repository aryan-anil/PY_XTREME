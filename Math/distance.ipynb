{
  "nbformat": 4,
  "nbformat_minor": 0,
  "metadata": {
    "colab": {
      "provenance": [],
      "authorship_tag": "ABX9TyNZN7IThKGLhXnVFsY1qWxP",
      "include_colab_link": true
    },
    "kernelspec": {
      "name": "python3",
      "display_name": "Python 3"
    },
    "language_info": {
      "name": "python"
    }
  },
  "cells": [
    {
      "cell_type": "markdown",
      "metadata": {
        "id": "view-in-github",
        "colab_type": "text"
      },
      "source": [
        "<a href=\"https://colab.research.google.com/github/ahadanzar/PY_XTREME/blob/main/Math/distance.ipynb\" target=\"_parent\"><img src=\"https://colab.research.google.com/assets/colab-badge.svg\" alt=\"Open In Colab\"/></a>"
      ]
    },
    {
      "cell_type": "code",
      "execution_count": 2,
      "metadata": {
        "colab": {
          "base_uri": "https://localhost:8080/"
        },
        "id": "KgYiO9MIgDlq",
        "outputId": "6e5ed041-4108-4fa1-ee53-1bd3498c09c2"
      },
      "outputs": [
        {
          "output_type": "stream",
          "name": "stdout",
          "text": [
            "2.8284271247461903\n"
          ]
        }
      ],
      "source": [
        "#Ahad Anzar\n",
        "#Python program to find the Euclidean distance between 2 points\n",
        "\n",
        "import math\n",
        "\n",
        "x = (3, 4)\n",
        "y = (1, 2)\n",
        "distance = math.dist(x, y)\n",
        "\n",
        "print(distance)"
      ]
    }
  ]
}