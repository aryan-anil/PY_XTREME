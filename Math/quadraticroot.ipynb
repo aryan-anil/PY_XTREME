{
  "nbformat": 4,
  "nbformat_minor": 0,
  "metadata": {
    "colab": {
      "provenance": [],
      "authorship_tag": "ABX9TyNrp+q0tSsmBkBk+uwNWQJI",
      "include_colab_link": true
    },
    "kernelspec": {
      "name": "python3",
      "display_name": "Python 3"
    },
    "language_info": {
      "name": "python"
    }
  },
  "cells": [
    {
      "cell_type": "markdown",
      "metadata": {
        "id": "view-in-github",
        "colab_type": "text"
      },
      "source": [
        "<a href=\"https://colab.research.google.com/github/HarrelAlex/24req/blob/main/Math/quadraticroot.ipynb\" target=\"_parent\"><img src=\"https://colab.research.google.com/assets/colab-badge.svg\" alt=\"Open In Colab\"/></a>"
      ]
    },
    {
      "cell_type": "code",
      "execution_count": 3,
      "metadata": {
        "colab": {
          "base_uri": "https://localhost:8080/"
        },
        "id": "7Up_0z3T8YYs",
        "outputId": "c6e39247-4151-4f60-9421-8b84a1b65db6"
      },
      "outputs": [
        {
          "output_type": "stream",
          "name": "stdout",
          "text": [
            "Please Enter a Value of a Quadratic Equation : 1\n",
            "Please Enter b Value of a Quadratic Equation : 4\n",
            "Please Enter c Value of a Quadratic Equation : 2\n",
            "Two Distinct Real Roots Exists: root1 = -2.59 and root2 = -5.41\n"
          ]
        }
      ],
      "source": [
        "import math\n",
        "\n",
        "a = int(input(\"Please Enter a Value of a Quadratic Equation : \"))\n",
        "b = int(input(\"Please Enter b Value of a Quadratic Equation : \"))\n",
        "c = int(input(\"Please Enter c Value of a Quadratic Equation : \"))\n",
        "\n",
        "discriminant = (b * b) - (4 * a * c)\n",
        "\n",
        "if(discriminant > 0):\n",
        "    root1 = (-b + math.sqrt(discriminant) / (2 * a))\n",
        "    root2 = (-b - math.sqrt(discriminant) / (2 * a))\n",
        "    print(\"Two Distinct Real Roots Exists: root1 = %.2f and root2 = %.2f\" %(root1, root2))\n",
        "elif(discriminant == 0):\n",
        "    root1 = root2 = -b / (2 * a)\n",
        "    print(\"Two Equal and Real Roots Exists: root1 = %.2f and root2 = %.2f\" %(root1, root2))\n",
        "elif(discriminant < 0):\n",
        "    root1 = root2 = -b / (2 * a)\n",
        "    imaginary = math.sqrt(-discriminant) / (2 * a)\n",
        "    print(\"Two Distinct Complex Roots Exists: root1 = %.2f+%.2f and root2 = %.2f-%.2f\" %(root1, imaginary, root2, imaginary))"
      ]
    }
  ]
}