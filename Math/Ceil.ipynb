{
  "nbformat": 4,
  "nbformat_minor": 0,
  "metadata": {
    "colab": {
      "provenance": []
    },
    "kernelspec": {
      "name": "python3",
      "display_name": "Python 3"
    },
    "language_info": {
      "name": "python"
    }
  },
  "cells": [
    {
      "cell_type": "code",
      "execution_count": 3,
      "metadata": {
        "colab": {
          "base_uri": "https://localhost:8080/"
        },
        "id": "1s3XiPM7H9Z7",
        "outputId": "2ca07a68-786d-419e-b3e8-ff700efabbc8"
      },
      "outputs": [
        {
          "output_type": "stream",
          "name": "stdout",
          "text": [
            "Enter the number:34.99\n",
            "The final value is : 35\n"
          ]
        }
      ],
      "source": [
        "#Joel Peter Joseph\n",
        "#Program to demonstrate ceil\n",
        "import math\n",
        "n=float(input(\"Enter the number:\"))\n",
        "a=math.ceil(n)\n",
        "print(\"The final value is :\",a)"
      ]
    }
  ]
}