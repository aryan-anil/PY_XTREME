{
  "nbformat": 4,
  "nbformat_minor": 0,
  "metadata": {
    "colab": {
      "provenance": [],
      "authorship_tag": "ABX9TyNvIBOVrzSYlE64rjAsYrNH",
      "include_colab_link": true
    },
    "kernelspec": {
      "name": "python3",
      "display_name": "Python 3"
    },
    "language_info": {
      "name": "python"
    }
  },
  "cells": [
    {
      "cell_type": "markdown",
      "metadata": {
        "id": "view-in-github",
        "colab_type": "text"
      },
      "source": [
        "<a href=\"https://colab.research.google.com/github/gadhalekshmip/PY_XTREME/blob/main/PY_XTREME/Math/sum_of_gp.ipynb\" target=\"_parent\"><img src=\"https://colab.research.google.com/assets/colab-badge.svg\" alt=\"Open In Colab\"/></a>"
      ]
    },
    {
      "cell_type": "code",
      "execution_count": 2,
      "metadata": {
        "colab": {
          "base_uri": "https://localhost:8080/"
        },
        "id": "COAVX7aWvHSw",
        "outputId": "eb9ff94e-c6a3-488f-fe91-a1b60ee7f566"
      },
      "outputs": [
        {
          "output_type": "stream",
          "name": "stdout",
          "text": [
            "Please Enter First Number of an G.P Series: : 1\n",
            "Please Enter the Total Numbers in this G.P Series: : 5\n",
            "Please Enter the Common Ratio : 2\n",
            "\n",
            "The Sum of Geometric Progression Series =  31.0\n",
            "The tn Term of Geometric Progression Series =  16.0\n"
          ]
        }
      ],
      "source": [
        "#gadhalekshmi p\n",
        "# Python Program to find Sum of Geometric Progression Series\n",
        "\n",
        "import math\n",
        "\n",
        "a = int(input(\"Please Enter First Number of an G.P Series: : \"))\n",
        "n = int(input(\"Please Enter the Total Numbers in this G.P Series: : \"))\n",
        "r = int(input(\"Please Enter the Common Ratio : \"))\n",
        "\n",
        "total = (a * (1 - math.pow(r, n ))) / (1- r)\n",
        "tn = a * (math.pow(r, n - 1))\n",
        "\n",
        "print(\"\\nThe Sum of Geometric Progression Series = \" , total)\n",
        "print(\"The tn Term of Geometric Progression Series = \" , tn)"
      ]
    }
  ]
}
