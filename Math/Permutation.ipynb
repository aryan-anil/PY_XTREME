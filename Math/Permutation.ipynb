{
  "nbformat": 4,
  "nbformat_minor": 0,
  "metadata": {
    "colab": {
      "provenance": [],
      "authorship_tag": "ABX9TyM+WvX4fLW7AvKhhwYyvt6/",
      "include_colab_link": true
    },
    "kernelspec": {
      "name": "python3",
      "display_name": "Python 3"
    },
    "language_info": {
      "name": "python"
    }
  },
  "cells": [
    {
      "cell_type": "markdown",
      "metadata": {
        "id": "view-in-github",
        "colab_type": "text"
      },
      "source": [
        "<a href=\"https://colab.research.google.com/github/ahadanzar/PY_XTREME/blob/main/Math/Permutation.ipynb\" target=\"_parent\"><img src=\"https://colab.research.google.com/assets/colab-badge.svg\" alt=\"Open In Colab\"/></a>"
      ]
    },
    {
      "cell_type": "code",
      "execution_count": 3,
      "metadata": {
        "colab": {
          "base_uri": "https://localhost:8080/"
        },
        "id": "Eeh7_oF6bKXj",
        "outputId": "e415376f-4cad-4cff-bbb4-6e189c85c670"
      },
      "outputs": [
        {
          "output_type": "stream",
          "name": "stdout",
          "text": [
            "1320\n"
          ]
        }
      ],
      "source": [
        "#Ahad Anzar\n",
        "#Python program to find the number of ways to choose k items from n items with order and without repetition\n",
        "\n",
        "import math\n",
        "\n",
        "k=3\n",
        "n=12\n",
        "n = math.perm(n, k)\n",
        "print(n)"
      ]
    }
  ]
}