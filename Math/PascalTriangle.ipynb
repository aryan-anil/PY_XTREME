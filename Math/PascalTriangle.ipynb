{
  "nbformat": 4,
  "nbformat_minor": 0,
  "metadata": {
    "colab": {
      "provenance": [],
      "authorship_tag": "ABX9TyPn+8TTq94QtZYybE3EJDRN",
      "include_colab_link": true
    },
    "kernelspec": {
      "name": "python3",
      "display_name": "Python 3"
    },
    "language_info": {
      "name": "python"
    }
  },
  "cells": [
    {
      "cell_type": "markdown",
      "metadata": {
        "id": "view-in-github",
        "colab_type": "text"
      },
      "source": [
        "<a href=\"https://colab.research.google.com/github/HarrelAlex/24req/blob/main/Math/PascalTriangle.ipynb\" target=\"_parent\"><img src=\"https://colab.research.google.com/assets/colab-badge.svg\" alt=\"Open In Colab\"/></a>"
      ]
    },
    {
      "cell_type": "code",
      "execution_count": 1,
      "metadata": {
        "colab": {
          "base_uri": "https://localhost:8080/"
        },
        "id": "9umFTy82dEWO",
        "outputId": "3d7642f4-8959-4d99-cc24-1ecf406d26b6"
      },
      "outputs": [
        {
          "output_type": "stream",
          "name": "stdout",
          "text": [
            "Enter the Value of n: 7\n",
            "      1 \n",
            "     1 1 \n",
            "    1 2 1 \n",
            "   1 3 3 1 \n",
            "  1 4 6 4 1 \n",
            " 1 5 10 10 5 1 \n",
            "1 6 15 20 15 6 1 \n"
          ]
        }
      ],
      "source": [
        "import math\n",
        "\n",
        "print(end=\"Enter the Value of n: \")\n",
        "n = int(input())\n",
        "for i in range(n):\n",
        "  for col in range(n-1, i, -1):\n",
        "    print(end=\" \")\n",
        "  for col in range(i+1):\n",
        "    val = int(math.factorial(i)/(math.factorial(col)*math.factorial(i-col)))\n",
        "    print(val, end=\" \")\n",
        "  print()"
      ]
    }
  ]
}