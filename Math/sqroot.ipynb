{
  "nbformat": 4,
  "nbformat_minor": 0,
  "metadata": {
    "colab": {
      "provenance": [],
      "authorship_tag": "ABX9TyNM0zvKRAAgT1lEjKmnrO8m",
      "include_colab_link": true
    },
    "kernelspec": {
      "name": "python3",
      "display_name": "Python 3"
    },
    "language_info": {
      "name": "python"
    }
  },
  "cells": [
    {
      "cell_type": "markdown",
      "metadata": {
        "id": "view-in-github",
        "colab_type": "text"
      },
      "source": [
        "<a href=\"https://colab.research.google.com/github/madhavc21/PY_XTREME/blob/main/Math/sqroot.ipynb\" target=\"_parent\"><img src=\"https://colab.research.google.com/assets/colab-badge.svg\" alt=\"Open In Colab\"/></a>"
      ]
    },
    {
      "cell_type": "code",
      "execution_count": 3,
      "metadata": {
        "colab": {
          "base_uri": "https://localhost:8080/"
        },
        "id": "VJejkiO6zvBA",
        "outputId": "7d8d3265-6f8b-44ae-caea-df055ff6a873"
      },
      "outputs": [
        {
          "output_type": "stream",
          "name": "stdout",
          "text": [
            "enter the num100\n",
            "sq root is 10\n"
          ]
        }
      ],
      "source": [
        "#Madhav C \n",
        "import math\n",
        "n=int(input(\"enter the num\"))\n",
        "sqrt=math.isqrt(n)\n",
        "print(\"sq root is\",sqrt)"
      ]
    }
  ]
}