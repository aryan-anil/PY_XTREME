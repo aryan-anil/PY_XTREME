{
  "nbformat": 4,
  "nbformat_minor": 0,
  "metadata": {
    "colab": {
      "provenance": [],
      "authorship_tag": "ABX9TyOZHNCSEw0z1rerKKod5WYn",
      "include_colab_link": true
    },
    "kernelspec": {
      "name": "python3",
      "display_name": "Python 3"
    },
    "language_info": {
      "name": "python"
    }
  },
  "cells": [
    {
      "cell_type": "markdown",
      "metadata": {
        "id": "view-in-github",
        "colab_type": "text"
      },
      "source": [
        "<a href=\"https://colab.research.google.com/github/amithbiju/PY_XTREME/blob/main/Math/Isclose.ipynb\" target=\"_parent\"><img src=\"https://colab.research.google.com/assets/colab-badge.svg\" alt=\"Open In Colab\"/></a>"
      ]
    },
    {
      "cell_type": "code",
      "execution_count": 1,
      "metadata": {
        "colab": {
          "base_uri": "https://localhost:8080/"
        },
        "id": "ksPDXub2tgV6",
        "outputId": "515c761b-422b-47c6-ab60-f08e3668a14c"
      },
      "outputs": [
        {
          "output_type": "stream",
          "name": "stdout",
          "text": [
            "False\n",
            "True\n",
            "False\n",
            "True\n",
            "True\n"
          ]
        }
      ],
      "source": [
        "#The isclose() method of the math module uses relative and absolute tolerance to check the closeness of two values. Tolerance is defined as the threshold to check the closeness of the numbers.\n",
        "import math\n",
        "print(math.isclose(12.014, 12.56))\n",
        "print(math.isclose(12.014, 12.014))\n",
        "print(math.isclose(12.45, 12.46))\n",
        "print(math.isclose(12.014, 12.434, abs_tol = 0.5))\n",
        "print(math.isclose(12.014, 12.018, rel_tol = 0.2))"
      ]
    }
  ]
}