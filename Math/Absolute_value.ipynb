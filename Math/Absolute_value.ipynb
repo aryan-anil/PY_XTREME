{
  "nbformat": 4,
  "nbformat_minor": 0,
  "metadata": {
    "colab": {
      "provenance": [],
      "authorship_tag": "ABX9TyMqTz0EGko2bFy85Q+amxU1",
      "include_colab_link": true
    },
    "kernelspec": {
      "name": "python3",
      "display_name": "Python 3"
    },
    "language_info": {
      "name": "python"
    }
  },
  "cells": [
    {
      "cell_type": "markdown",
      "metadata": {
        "id": "view-in-github",
        "colab_type": "text"
      },
      "source": [
        "<a href=\"https://colab.research.google.com/github/HKRcodes/PY_XTREME/blob/main/Math/Absolute_value.ipynb\" target=\"_parent\"><img src=\"https://colab.research.google.com/assets/colab-badge.svg\" alt=\"Open In Colab\"/></a>"
      ]
    },
    {
      "cell_type": "code",
      "execution_count": 3,
      "metadata": {
        "colab": {
          "base_uri": "https://localhost:8080/"
        },
        "id": "SCRO82vaoPf0",
        "outputId": "43ead7be-401a-4fe2-cfcc-f3d4df557a06"
      },
      "outputs": [
        {
          "output_type": "stream",
          "name": "stdout",
          "text": [
            "Enter a number :-3.5\n",
            "The absolute value is :  3.5\n"
          ]
        }
      ],
      "source": [
        "# In built Math function for absolute value of numbers\n",
        "# Function : abs(parameter)\n",
        "\n",
        "x = float(input(\"Enter a number :\"))\n",
        "print(\"The absolute value is : \",abs(x)) \n",
        "\n",
        "# Function syntax :- abs(number, /)\n",
        "# The abs function returns the absolute value of the number."
      ]
    }
  ]
}