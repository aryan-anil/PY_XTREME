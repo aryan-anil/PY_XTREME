{
  "nbformat": 4,
  "nbformat_minor": 0,
  "metadata": {
    "colab": {
      "provenance": [],
      "authorship_tag": "ABX9TyNGcBJj23Rtq4jFbPvLLMz0",
      "include_colab_link": true
    },
    "kernelspec": {
      "name": "python3",
      "display_name": "Python 3"
    },
    "language_info": {
      "name": "python"
    }
  },
  "cells": [
    {
      "cell_type": "markdown",
      "metadata": {
        "id": "view-in-github",
        "colab_type": "text"
      },
      "source": [
        "<a href=\"https://colab.research.google.com/github/amithbiju/PY_XTREME/blob/main/Math/Circumference_of_circle.ipynb\" target=\"_parent\"><img src=\"https://colab.research.google.com/assets/colab-badge.svg\" alt=\"Open In Colab\"/></a>"
      ]
    },
    {
      "cell_type": "code",
      "execution_count": 2,
      "metadata": {
        "colab": {
          "base_uri": "https://localhost:8080/"
        },
        "id": "Sx5S170ZrB-c",
        "outputId": "7605bfab-7cfa-438d-822f-6fe389c554b3"
      },
      "outputs": [
        {
          "output_type": "stream",
          "name": "stdout",
          "text": [
            "ENTER THE RADIUS67\n",
            "Circumference of circle =  420.97341558103227\n"
          ]
        }
      ],
      "source": [
        "import math\n",
        "radius = int(input(\"ENTER THE RADIUS\"))\n",
        "circumference = 2 * math.pi * radius\n",
        "print (\"Circumference of circle = \", circumference)"
      ]
    }
  ]
}