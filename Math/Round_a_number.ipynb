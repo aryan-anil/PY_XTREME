{
  "nbformat": 4,
  "nbformat_minor": 0,
  "metadata": {
    "colab": {
      "provenance": [],
      "authorship_tag": "ABX9TyM/PVOIF9rcmyBVpXy+pVqw",
      "include_colab_link": true
    },
    "kernelspec": {
      "name": "python3",
      "display_name": "Python 3"
    },
    "language_info": {
      "name": "python"
    }
  },
  "cells": [
    {
      "cell_type": "markdown",
      "metadata": {
        "id": "view-in-github",
        "colab_type": "text"
      },
      "source": [
        "<a href=\"https://colab.research.google.com/github/HKRcodes/PY_XTREME/blob/main/Math/Round_a_number.ipynb\" target=\"_parent\"><img src=\"https://colab.research.google.com/assets/colab-badge.svg\" alt=\"Open In Colab\"/></a>"
      ]
    },
    {
      "cell_type": "code",
      "execution_count": 1,
      "metadata": {
        "colab": {
          "base_uri": "https://localhost:8080/"
        },
        "id": "SCRO82vaoPf0",
        "outputId": "022f9bc0-9cc6-4a62-eb68-4e9fc0918b7c"
      },
      "outputs": [
        {
          "output_type": "stream",
          "name": "stdout",
          "text": [
            "Enter a number :2.9\n",
            "The rounded value is :  3\n"
          ]
        }
      ],
      "source": [
        "# In built Math function to round numbers\n",
        "# Function : round(parameter)\n",
        "\n",
        "x = float(input(\"Enter a number :\"))\n",
        "print(\"The rounded value is : \",round(x)) \n",
        "\n",
        "# Function syntax :- round(number, ndigits=None)\n",
        "# The round function rounds a number to a given precision in decimal digits.\n",
        "# The return value is an integer if ndigits is omitted or None.  Otherwise the return value has the same type as the number. ndigits may be negative."
      ]
    }
  ]
}