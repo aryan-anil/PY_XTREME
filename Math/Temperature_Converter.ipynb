{
  "nbformat": 4,
  "nbformat_minor": 0,
  "metadata": {
    "colab": {
      "provenance": [],
      "authorship_tag": "ABX9TyM1hJR4zMEb4Gago2mZaAbb",
      "include_colab_link": true
    },
    "kernelspec": {
      "name": "python3",
      "display_name": "Python 3"
    },
    "language_info": {
      "name": "python"
    }
  },
  "cells": [
    {
      "cell_type": "markdown",
      "metadata": {
        "id": "view-in-github",
        "colab_type": "text"
      },
      "source": [
        "<a href=\"https://colab.research.google.com/github/amithbiju/PY_XTREME/blob/main/Math/Temperature_Converter.ipynb\" target=\"_parent\"><img src=\"https://colab.research.google.com/assets/colab-badge.svg\" alt=\"Open In Colab\"/></a>"
      ]
    },
    {
      "cell_type": "code",
      "execution_count": 3,
      "metadata": {
        "colab": {
          "base_uri": "https://localhost:8080/"
        },
        "id": "Y5NjIlAPorRy",
        "outputId": "9144bf2c-cf37-4d34-b3e6-aef00ba6a8af"
      },
      "outputs": [
        {
          "output_type": "stream",
          "name": "stdout",
          "text": [
            "Welcome to the Temperature Conventer. Type C for Celsuis, F for Fahreinheit and K for Kelvin\n",
            "\n",
            "your temperature | C | F | K | c\n",
            "The temperature you want to convert to | C | F | K | f\n",
            "enter the degree: 35\n",
            "95.0°F \n",
            "The equation: (35.0 × 9/5) + 32 = 95.0\n",
            "\n",
            "Do you want to try again?\n",
            "Yes | No | no\n",
            "Goodbye\n"
          ]
        }
      ],
      "source": [
        "# Python Math & Time Modules\n",
        "import math\n",
        "import time\n",
        "\n",
        "# Intro\n",
        "print(\"Welcome to the Temperature Conventer. Type C for Celsuis, F for Fahreinheit and K for Kelvin\")\n",
        "\n",
        "# Function\n",
        "def again():\n",
        "    try_again = print()\n",
        "    # Letting the user choose the temperature and convert it to another temperature else\n",
        "    User_Temperature = input(\"your temperature | C | F | K | \").upper()\n",
        "    convert_Temperature = input(\"The temperature you want to convert to | C | F | K | \").upper()\n",
        "  \n",
        "    # If the user's intial temperature (C, F, or K) convert it to what the user wants to convert to (C, F, or K) and give him the equation\n",
        "    if User_Temperature == \"C\":\n",
        "        if convert_Temperature == \"F\":\n",
        "            degree = float(input(\"enter the degree: \"))\n",
        "            result = (degree * 9/5) + 32\n",
        "            print(f\"{result}°F \\nThe equation: ({degree} × 9/5) + 32 = {result}\")\n",
        "        elif convert_Temperature == \"K\":\n",
        "            degree = float(input(\"enter the degree: \"))\n",
        "            result = degree + 273.15\n",
        "            print(f\"{result}°K \\nThe equation: {degree} + 273.15 = {result}\")\n",
        "        elif convert_Temperature == \"C\":\n",
        "            print(\"This is the same type of temperature\")\n",
        "            time.sleep(1)\n",
        "            again()\n",
        "        else:\n",
        "            print(\"Type a temperature\")\n",
        "            time.sleep(1)\n",
        "            again()\n",
        "\n",
        "    elif User_Temperature == \"F\":\n",
        "        if convert_Temperature == \"C\":\n",
        "            degree = float(input(\"enter the degree: \"))\n",
        "            result = (degree - 32) * 5/9\n",
        "            print(f\"{result}°F \\nThe equation: ({degree} - 32) × 5/9 = {result}\")\n",
        "        elif convert_Temperature == \"K\":\n",
        "            degree = float(input(\"enter the degree: \"))\n",
        "            result = (degree - 32) * 5/9 + 273.15\n",
        "            print(f\"{result}°K \\nThe equation: ({degree} - 32) × 5/9 + 273.15 = {result}\")\n",
        "        elif convert_Temperature == \"F\":\n",
        "            print(\"This is the same type of temperature\")\n",
        "            time.sleep(1)\n",
        "            again()\n",
        "        else:\n",
        "            print(\"Type a temperature\")\n",
        "            time.sleep(1)\n",
        "            again()\n",
        "\n",
        "    elif User_Temperature == \"K\":\n",
        "        if convert_Temperature == \"C\":\n",
        "            degree = float(input(\"enter the degree: \"))\n",
        "            result = degree - 273.15\n",
        "            print(f\"{result}°F \\nThe equation: {degree} - 273.15 = {result}\")\n",
        "        elif convert_Temperature == \"F\":\n",
        "            degree = float(input(\"enter the degree: \"))\n",
        "            result = (degree - 273.15) * 9/5 + 32\n",
        "            print(f\"{result}°K \\nThe equation: ({degree} - 273.15) × 9/5 + 32 = {result}\")\n",
        "        elif convert_Temperature == \"K\":\n",
        "            print(\"This is the same type of temperature\")\n",
        "            time.sleep(1)\n",
        "            again()\n",
        "        else:\n",
        "            print(\"Type a temperature\")\n",
        "            time.sleep(1)\n",
        "            again()\n",
        "\n",
        "    else:\n",
        "        print(\"Type a temperature\")\n",
        "        time.sleep(1)\n",
        "        again()\n",
        "\n",
        "  # Aking if the user wants to convert again\n",
        "    while try_again != \"Yes\" and try_again != \"No\":\n",
        "        print(\"\\nDo you want to try again?\")\n",
        "        try_again = input(\"Yes | No | \").lower().capitalize()\n",
        "        if try_again == \"Yes\":\n",
        "            again()\n",
        "            break\n",
        "        elif try_again == \"No\":\n",
        "            print(\"Goodbye\")\n",
        "            break\n",
        "\n",
        "again()"
      ]
    }
  ]
}