{
  "nbformat": 4,
  "nbformat_minor": 0,
  "metadata": {
    "colab": {
      "provenance": [],
      "authorship_tag": "ABX9TyNm1cp53NXRBmgGsdpRWhuX",
      "include_colab_link": true
    },
    "kernelspec": {
      "name": "python3",
      "display_name": "Python 3"
    },
    "language_info": {
      "name": "python"
    }
  },
  "cells": [
    {
      "cell_type": "markdown",
      "metadata": {
        "id": "view-in-github",
        "colab_type": "text"
      },
      "source": [
        "<a href=\"https://colab.research.google.com/github/HarrelAlex/24req/blob/main/Math/sumGP.ipynb\" target=\"_parent\"><img src=\"https://colab.research.google.com/assets/colab-badge.svg\" alt=\"Open In Colab\"/></a>"
      ]
    },
    {
      "cell_type": "code",
      "execution_count": 1,
      "metadata": {
        "colab": {
          "base_uri": "https://localhost:8080/"
        },
        "id": "U6YNbGga-fBT",
        "outputId": "5bee7089-d185-430d-a476-9a26fadaa1cf"
      },
      "outputs": [
        {
          "output_type": "stream",
          "name": "stdout",
          "text": [
            "Please Enter First Number of an G.P Series: : 3\n",
            "Please Enter the Total Numbers in this G.P Series: : 4\n",
            "Please Enter the Common Ratio : 5\n",
            "\n",
            "The Sum of Geometric Progression Series =  468.0\n",
            "The tn Term of Geometric Progression Series =  375.0\n"
          ]
        }
      ],
      "source": [
        "import math\n",
        "\n",
        "a = int(input(\"Please Enter First Number of an G.P Series: : \"))\n",
        "n = int(input(\"Please Enter the Total Numbers in this G.P Series: : \"))\n",
        "r = int(input(\"Please Enter the Common Ratio : \"))\n",
        "\n",
        "total = (a * (1 - math.pow(r, n ))) / (1- r)\n",
        "tn = a * (math.pow(r, n - 1))\n",
        "\n",
        "print(\"\\nThe Sum of Geometric Progression Series = \" , total)\n",
        "print(\"The tn Term of Geometric Progression Series = \" , tn)"
      ]
    }
  ]
}