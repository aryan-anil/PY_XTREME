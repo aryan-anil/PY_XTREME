{
  "nbformat": 4,
  "nbformat_minor": 0,
  "metadata": {
    "colab": {
      "provenance": [],
      "authorship_tag": "ABX9TyPecCBDBZmoNjmINCS3bO7x",
      "include_colab_link": true
    },
    "kernelspec": {
      "name": "python3",
      "display_name": "Python 3"
    },
    "language_info": {
      "name": "python"
    }
  },
  "cells": [
    {
      "cell_type": "markdown",
      "metadata": {
        "id": "view-in-github",
        "colab_type": "text"
      },
      "source": [
        "<a href=\"https://colab.research.google.com/github/gadhalekshmip/PY_XTREME/blob/main/Math/Sum_of_Arithmetic_Progression.ipynb\" target=\"_parent\"><img src=\"https://colab.research.google.com/assets/colab-badge.svg\" alt=\"Open In Colab\"/></a>"
      ]
    },
    {
      "cell_type": "code",
      "execution_count": 4,
      "metadata": {
        "colab": {
          "base_uri": "https://localhost:8080/"
        },
        "id": "COAVX7aWvHSw",
        "outputId": "c8bdc69c-3a83-455b-c6fc-5e6be17dd5a0"
      },
      "outputs": [
        {
          "output_type": "stream",
          "name": "stdout",
          "text": [
            "Please Enter First Number of an A.P Series: : 2\n",
            "Please Enter the Total Numbers in this A.P Series: : 6\n",
            "Please Enter the Common Difference : 4\n",
            "\n",
            "The tn Term of Arithmetic Progression Series =  22\n",
            "The Sum of Arithmetic Progression Series : \n",
            "2 +  6 +  10 +  14 +  18 +  22 = 72\n"
          ]
        }
      ],
      "source": [
        "#gadhalekshmi p\n",
        "# Python Program to find Sum of Arithmetic Progression Series\n",
        "\n",
        "a = int(input(\"Please Enter First Number of an A.P Series: : \"))\n",
        "n = int(input(\"Please Enter the Total Numbers in this A.P Series: : \"))\n",
        "d = int(input(\"Please Enter the Common Difference : \"))\n",
        "\n",
        "total = (n * (2 * a + (n - 1) * d)) / 2\n",
        "tn = a + (n - 1) * d\n",
        "i = a\n",
        "print(\"\\nThe tn Term of Arithmetic Progression Series = \" , tn)\n",
        "print(\"The Sum of Arithmetic Progression Series : \")\n",
        "while(i <= tn):\n",
        "    if(i != tn):\n",
        "        print(\"%d + \" %i, end = \" \")\n",
        "    else:\n",
        "        print(\"%d = %d\" %(i, total))\n",
        "    i = i + d"
      ]
    }
  ]
}