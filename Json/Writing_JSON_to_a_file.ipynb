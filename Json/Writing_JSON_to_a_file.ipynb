{
  "nbformat": 4,
  "nbformat_minor": 0,
  "metadata": {
    "colab": {
      "provenance": [],
      "authorship_tag": "ABX9TyMUbCNzIcbwxabyQnOEvn35",
      "include_colab_link": true
    },
    "kernelspec": {
      "name": "python3",
      "display_name": "Python 3"
    },
    "language_info": {
      "name": "python"
    }
  },
  "cells": [
    {
      "cell_type": "markdown",
      "metadata": {
        "id": "view-in-github",
        "colab_type": "text"
      },
      "source": [
        "<a href=\"https://colab.research.google.com/github/amithbiju/PY_XTREME/blob/main/Json/Writing_JSON_to_a_file.ipynb\" target=\"_parent\"><img src=\"https://colab.research.google.com/assets/colab-badge.svg\" alt=\"Open In Colab\"/></a>"
      ]
    },
    {
      "cell_type": "code",
      "execution_count": 1,
      "metadata": {
        "id": "okGgKVFAL_M1"
      },
      "outputs": [],
      "source": [
        "import json\n",
        "\n",
        "person_dict = {\"name\": \"Bob\",\n",
        "\"languages\": [\"English\", \"French\"],\n",
        "\"married\": True,\n",
        "\"age\": 32\n",
        "}\n",
        "\n",
        "with open('person.txt', 'w') as json_file:\n",
        "  json.dump(person_dict, json_file)"
      ]
    }
  ]
}