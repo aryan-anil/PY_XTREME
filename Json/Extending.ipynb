{
  "nbformat": 4,
  "nbformat_minor": 0,
  "metadata": {
    "colab": {
      "provenance": [],
      "authorship_tag": "ABX9TyPwSoQUF4YSrzMMSxEd5NPr",
      "include_colab_link": true
    },
    "kernelspec": {
      "name": "python3",
      "display_name": "Python 3"
    },
    "language_info": {
      "name": "python"
    }
  },
  "cells": [
    {
      "cell_type": "markdown",
      "metadata": {
        "id": "view-in-github",
        "colab_type": "text"
      },
      "source": [
        "<a href=\"https://colab.research.google.com/github/amithbiju/PY_XTREME/blob/main/Json/Extending.ipynb\" target=\"_parent\"><img src=\"https://colab.research.google.com/assets/colab-badge.svg\" alt=\"Open In Colab\"/></a>"
      ]
    },
    {
      "cell_type": "code",
      "source": [
        "import json\n",
        "class ComplexEncoder(json.JSONEncoder):\n",
        "    def default(self, obj):\n",
        "        if isinstance(obj, complex):\n",
        "            return [obj.real, obj.imag]\n",
        "        # Let the base class default method raise the TypeError\n",
        "        return json.JSONEncoder.default(self, obj)\n",
        "\n",
        "json.dumps(2 + 1j, cls=ComplexEncoder)\n",
        "'[2.0, 1.0]'\n",
        "ComplexEncoder().encode(2 + 1j)\n",
        "'[2.0, 1.0]'\n",
        "list(ComplexEncoder().iterencode(2 + 1j))\n",
        "['[2.0', ', 1.0', ']']"
      ],
      "metadata": {
        "colab": {
          "base_uri": "https://localhost:8080/"
        },
        "id": "QOi2V_ph-TGk",
        "outputId": "e299a142-48dc-403e-cd9c-43f36e44b706"
      },
      "execution_count": 4,
      "outputs": [
        {
          "output_type": "execute_result",
          "data": {
            "text/plain": [
              "['[2.0', ', 1.0', ']']"
            ]
          },
          "metadata": {},
          "execution_count": 4
        }
      ]
    }
  ]
}