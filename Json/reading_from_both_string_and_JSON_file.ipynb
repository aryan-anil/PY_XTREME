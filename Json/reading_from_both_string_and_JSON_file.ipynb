{
  "nbformat": 4,
  "nbformat_minor": 0,
  "metadata": {
    "colab": {
      "provenance": [],
      "authorship_tag": "ABX9TyOZn3K8gKoaxoxDM94BUbV/",
      "include_colab_link": true
    },
    "kernelspec": {
      "name": "python3",
      "display_name": "Python 3"
    },
    "language_info": {
      "name": "python"
    }
  },
  "cells": [
    {
      "cell_type": "markdown",
      "metadata": {
        "id": "view-in-github",
        "colab_type": "text"
      },
      "source": [
        "<a href=\"https://colab.research.google.com/github/amithbiju/PY_XTREME/blob/main/Json/reading_from_both_string_and_JSON_file.ipynb\" target=\"_parent\"><img src=\"https://colab.research.google.com/assets/colab-badge.svg\" alt=\"Open In Colab\"/></a>"
      ]
    },
    {
      "cell_type": "code",
      "execution_count": null,
      "metadata": {
        "id": "WthdGOH96koO"
      },
      "outputs": [],
      "source": [
        "# Python program to read\n",
        "# json file\n",
        "\n",
        "\n",
        "import json\n",
        "\n",
        "\n",
        "# JSON string\n",
        "a = '{\"name\": \"Bob\", \"languages\": \"English\"}'\n",
        "\n",
        "# deserializes into dict\n",
        "# and returns dict.\n",
        "y = json.loads(a)\n",
        "\n",
        "print(\"JSON string = \", y)\n",
        "print()\n",
        "\n",
        "\n",
        "\n",
        "# JSON file\n",
        "f = open ('data.json', \"r\")\n",
        "\n",
        "# Reading from file\n",
        "data = json.loads(f.read())\n",
        "\n",
        "# Iterating through the json\n",
        "# list\n",
        "for i in data['emp_details']:\n",
        "\tprint(i)\n",
        "\n",
        "# Closing file\n",
        "f.close()\n"
      ]
    }
  ]
}