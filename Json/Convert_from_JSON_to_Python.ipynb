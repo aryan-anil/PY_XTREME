{
  "nbformat": 4,
  "nbformat_minor": 0,
  "metadata": {
    "colab": {
      "provenance": [],
      "authorship_tag": "ABX9TyPFtJvQ0eM8FZGk+o27I9+j",
      "include_colab_link": true
    },
    "kernelspec": {
      "name": "python3",
      "display_name": "Python 3"
    },
    "language_info": {
      "name": "python"
    }
  },
  "cells": [
    {
      "cell_type": "markdown",
      "metadata": {
        "id": "view-in-github",
        "colab_type": "text"
      },
      "source": [
        "<a href=\"https://colab.research.google.com/github/amithbiju/PY_XTREME/blob/main/Json/Convert_from_JSON_to_Python.ipynb\" target=\"_parent\"><img src=\"https://colab.research.google.com/assets/colab-badge.svg\" alt=\"Open In Colab\"/></a>"
      ]
    },
    {
      "cell_type": "code",
      "source": [
        "import json\n",
        "\n",
        "# some JSON:\n",
        "x =  '{ \"name\":\"John\", \"age\":30, \"city\":\"New York\"}'\n",
        "\n",
        "# parse x:\n",
        "y = json.loads(x)\n",
        "\n",
        "# the result is a Python dictionary:\n",
        "print(y[\"age\"])"
      ],
      "metadata": {
        "colab": {
          "base_uri": "https://localhost:8080/"
        },
        "id": "iMOob-di2We9",
        "outputId": "aa6daa5b-a3fd-4836-a2c5-7e502458ef0d"
      },
      "execution_count": 1,
      "outputs": [
        {
          "output_type": "stream",
          "name": "stdout",
          "text": [
            "30\n"
          ]
        }
      ]
    }
  ]
}