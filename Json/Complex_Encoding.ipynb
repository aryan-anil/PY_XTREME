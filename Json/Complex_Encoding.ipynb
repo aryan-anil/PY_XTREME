{
  "nbformat": 4,
  "nbformat_minor": 0,
  "metadata": {
    "colab": {
      "provenance": [],
      "authorship_tag": "ABX9TyMZp3tKBRVrURvDl3dP1cyQ",
      "include_colab_link": true
    },
    "kernelspec": {
      "name": "python3",
      "display_name": "Python 3"
    },
    "language_info": {
      "name": "python"
    }
  },
  "cells": [
    {
      "cell_type": "markdown",
      "metadata": {
        "id": "view-in-github",
        "colab_type": "text"
      },
      "source": [
        "<a href=\"https://colab.research.google.com/github/amithbiju/PY_XTREME/blob/main/Json/Complex_Encoding.ipynb\" target=\"_parent\"><img src=\"https://colab.research.google.com/assets/colab-badge.svg\" alt=\"Open In Colab\"/></a>"
      ]
    },
    {
      "cell_type": "code",
      "execution_count": 1,
      "metadata": {
        "colab": {
          "base_uri": "https://localhost:8080/",
          "height": 105
        },
        "id": "XdjCIipR-8KI",
        "outputId": "4f94380d-e098-448b-cd7a-1c62157c8d56"
      },
      "outputs": [
        {
          "output_type": "stream",
          "name": "stdout",
          "text": [
            "\"\\\"foo\\bar\"\n",
            "\"\\u1234\"\n",
            "\"\\\\\"\n",
            "{\"a\": 0, \"b\": 0, \"c\": 0}\n"
          ]
        },
        {
          "output_type": "execute_result",
          "data": {
            "text/plain": [
              "'[\"streaming API\"]'"
            ],
            "application/vnd.google.colaboratory.intrinsic+json": {
              "type": "string"
            }
          },
          "metadata": {},
          "execution_count": 1
        }
      ],
      "source": [
        "import json\n",
        "json.dumps(['foo', {'bar': ('baz', None, 1.0, 2)}])\n",
        "'[\"foo\", {\"bar\": [\"baz\", null, 1.0, 2]}]'\n",
        "print(json.dumps(\"\\\"foo\\bar\"))\n",
        "\"\\\"foo\\bar\"\n",
        "print(json.dumps('\\u1234'))\n",
        "\"\\u1234\"\n",
        "print(json.dumps('\\\\'))\n",
        "\"\\\\\"\n",
        "print(json.dumps({\"c\": 0, \"b\": 0, \"a\": 0}, sort_keys=True))\n",
        "{\"a\": 0, \"b\": 0, \"c\": 0}\n",
        "from io import StringIO\n",
        "io = StringIO()\n",
        "json.dump(['streaming API'], io)\n",
        "io.getvalue()\n",
        "'[\"streaming API\"]'"
      ]
    }
  ]
}