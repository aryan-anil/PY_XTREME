{
  "nbformat": 4,
  "nbformat_minor": 0,
  "metadata": {
    "colab": {
      "provenance": []
    },
    "kernelspec": {
      "name": "python3",
      "display_name": "Python 3"
    },
    "language_info": {
      "name": "python"
    }
  },
  "cells": [
    {
      "cell_type": "code",
      "execution_count": 2,
      "metadata": {
        "id": "1s3XiPM7H9Z7",
        "colab": {
          "base_uri": "https://localhost:8080/"
        },
        "outputId": "5d9b5552-49b4-4cd3-fbc4-5eeca1d258e5"
      },
      "outputs": [
        {
          "output_type": "stream",
          "name": "stdout",
          "text": [
            "Before Deleting\n",
            "a 1\n",
            "b 2\n",
            "c 3\n",
            "d 4\n",
            "\n",
            "After re-inserting\n",
            "b 2\n",
            "c 3\n",
            "d 4\n",
            "a 1\n"
          ]
        }
      ],
      "source": [
        "#Joel Peter Joseph\n",
        "\n",
        "# A Python program to demonstrate working\n",
        "# of OrderedDict\n",
        "\n",
        "from collections import OrderedDict\n",
        "\n",
        "\n",
        "od = OrderedDict()\n",
        "od['a'] = 1\n",
        "od['b'] = 2\n",
        "od['c'] = 3\n",
        "od['d'] = 4\n",
        "\t\n",
        "print('Before Deleting')\n",
        "for key, value in od.items():\n",
        "\tprint(key, value)\n",
        "\t\n",
        "# deleting element\n",
        "od.pop('a')\n",
        "\n",
        "# Re-inserting the same\n",
        "od['a'] = 1\n",
        "\n",
        "print('\\nAfter re-inserting')\n",
        "for key, value in od.items():\n",
        "\tprint(key, value)\n"
      ]
    }
  ]
}