{
  "nbformat": 4,
  "nbformat_minor": 0,
  "metadata": {
    "colab": {
      "provenance": [],
      "authorship_tag": "ABX9TyMai764UHSlTkcvX6s+vN73",
      "include_colab_link": true
    },
    "kernelspec": {
      "name": "python3",
      "display_name": "Python 3"
    },
    "language_info": {
      "name": "python"
    }
  },
  "cells": [
    {
      "cell_type": "markdown",
      "metadata": {
        "id": "view-in-github",
        "colab_type": "text"
      },
      "source": [
        "<a href=\"https://colab.research.google.com/github/HKRcodes/PY_XTREME/blob/main/Collections/Map_Function.ipynb\" target=\"_parent\"><img src=\"https://colab.research.google.com/assets/colab-badge.svg\" alt=\"Open In Colab\"/></a>"
      ]
    },
    {
      "cell_type": "code",
      "execution_count": 10,
      "metadata": {
        "id": "P478Lso0akVZ"
      },
      "outputs": [],
      "source": [
        "# Map Function\n",
        "import math\n",
        "def area(r):\n",
        "  \"\"\"Area of the circle with radius 'r'.\"\"\"\n",
        "  return math.pi * (r**2)\n",
        "\n",
        "radii = [1,2,3,4,5]"
      ]
    },
    {
      "cell_type": "code",
      "source": [
        "# Direct method\n",
        "areas = []\n",
        "for r in radii:\n",
        "  Area = area(r)\n",
        "  areas.append(Area)\n",
        "print(areas)"
      ],
      "metadata": {
        "colab": {
          "base_uri": "https://localhost:8080/"
        },
        "id": "UC37Y0QhdjuD",
        "outputId": "5aed790d-e061-4b5a-f649-214bc95e9f92"
      },
      "execution_count": 12,
      "outputs": [
        {
          "output_type": "stream",
          "name": "stdout",
          "text": [
            "[3.141592653589793, 12.566370614359172, 28.274333882308138, 50.26548245743669, 78.53981633974483]\n"
          ]
        }
      ]
    },
    {
      "cell_type": "code",
      "source": [
        "# Using Map function \n",
        "# Map function takes two arguments : First is a function and second is a list/tuple/other iterable object.\n",
        "\n",
        "map(area,radii) \n",
        "# Here map function applies area function to each element in the list."
      ],
      "metadata": {
        "colab": {
          "base_uri": "https://localhost:8080/"
        },
        "id": "FAJ2QYJheGOF",
        "outputId": "dfb3a221-c3bf-4fd9-bb49-e4b30bc99c92"
      },
      "execution_count": 13,
      "outputs": [
        {
          "output_type": "execute_result",
          "data": {
            "text/plain": [
              "<map at 0x7f17a901c550>"
            ]
          },
          "metadata": {},
          "execution_count": 13
        }
      ]
    },
    {
      "cell_type": "markdown",
      "source": [
        "This is the output of map function and it is not a list but a map object which it an iterator over the results.\n",
        "This is especially useful when working with large data.\n",
        "\n",
        "We can turn this into list by giving it into the list constructor."
      ],
      "metadata": {
        "id": "U1SmFr-WeUfh"
      }
    }
  ]
}