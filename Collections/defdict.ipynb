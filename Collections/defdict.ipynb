{
  "cells": [
    {
      "cell_type": "code",
      "execution_count": 5,
      "metadata": {
        "colab": {
          "base_uri": "https://localhost:8080/"
        },
        "id": "N3GiIvRltslR",
        "outputId": "c45e20d3-7cbc-4c5d-bb83-ae72bd7d2b70"
      },
      "outputs": [
        {
          "output_type": "stream",
          "name": "stdout",
          "text": [
            "1\n",
            "2\n",
            "Not Present\n"
          ]
        }
      ],
      "source": [
        "#Joel Peter Joseph\n",
        "# Python program to demonstrate\n",
        "# defaultdict\n",
        "\n",
        "\n",
        "from collections import defaultdict\n",
        "\n",
        "\n",
        "# Function to return a default\n",
        "# values for keys that is not\n",
        "# present\n",
        "def def_value():\n",
        "\treturn \"Not Present\"\n",
        "\t\n",
        "# Defining the dict\n",
        "d = defaultdict(def_value)\n",
        "d[\"a\"] = 1\n",
        "d[\"b\"] = 2\n",
        "\n",
        "print(d[\"a\"])\n",
        "print(d[\"b\"])\n",
        "print(d[\"c\"])\n"
      ]
    }
  ],
  "metadata": {
    "colab": {
      "provenance": []
    },
    "kernelspec": {
      "display_name": "Python 3",
      "name": "python3"
    },
    "language_info": {
      "name": "python"
    }
  },
  "nbformat": 4,
  "nbformat_minor": 0
}