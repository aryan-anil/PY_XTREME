{
  "nbformat": 4,
  "nbformat_minor": 0,
  "metadata": {
    "colab": {
      "provenance": []
    },
    "kernelspec": {
      "name": "python3",
      "display_name": "Python 3"
    },
    "language_info": {
      "name": "python"
    }
  },
  "cells": [
    {
      "cell_type": "code",
      "execution_count": 1,
      "metadata": {
        "id": "1s3XiPM7H9Z7",
        "colab": {
          "base_uri": "https://localhost:8080/"
        },
        "outputId": "8b17795b-6843-439c-c2e2-1ea90311eb46"
      },
      "outputs": [
        {
          "output_type": "stream",
          "name": "stdout",
          "text": [
            "Counter({'B': 5, 'A': 3, 'C': 2})\n",
            "Counter({'B': 5, 'A': 3, 'C': 2})\n",
            "Counter({'B': 5, 'A': 3, 'C': 2})\n"
          ]
        }
      ],
      "source": [
        "#Joel Peter Joseph\n",
        "\n",
        "# A Python program to show different\n",
        "# ways to create Counter\n",
        "from collections import Counter\n",
        "\t\n",
        "# With sequence of items\n",
        "print(Counter(['B','B','A','B','C','A','B',\n",
        "\t\t\t'B','A','C']))\n",
        "\t\n",
        "# with dictionary\n",
        "print(Counter({'A':3, 'B':5, 'C':2}))\n",
        "\t\n",
        "# with keyword arguments\n",
        "print(Counter(A=3, B=5, C=2))\n"
      ]
    }
  ]
}