{
  "cells": [
    {
      "cell_type": "code",
      "execution_count": 4,
      "metadata": {
        "colab": {
          "base_uri": "https://localhost:8080/"
        },
        "id": "N3GiIvRltslR",
        "outputId": "3be4291f-e940-4f40-b689-c7621d292561"
      },
      "outputs": [
        {
          "output_type": "stream",
          "name": "stdout",
          "text": [
            "The Student age using index is : 19\n",
            "The Student name using keyname is : Nandini\n"
          ]
        }
      ],
      "source": [
        "#Joel Peter Joseph\n",
        "# Python code to demonstrate namedtuple()\n",
        "\n",
        "from collections import namedtuple\n",
        "\n",
        "# Declaring namedtuple()\n",
        "Student = namedtuple('Student', ['name', 'age', 'DOB'])\n",
        "\n",
        "# Adding values\n",
        "S = Student('Nandini', '19', '2541997')\n",
        "\n",
        "# Access using index\n",
        "print(\"The Student age using index is : \", end=\"\")\n",
        "print(S[1])\n",
        "\n",
        "# Access using name\n",
        "print(\"The Student name using keyname is : \", end=\"\")\n",
        "print(S.name)\n"
      ]
    }
  ],
  "metadata": {
    "colab": {
      "provenance": []
    },
    "kernelspec": {
      "display_name": "Python 3",
      "name": "python3"
    },
    "language_info": {
      "name": "python"
    }
  },
  "nbformat": 4,
  "nbformat_minor": 0
}