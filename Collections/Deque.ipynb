{
  "nbformat": 4,
  "nbformat_minor": 0,
  "metadata": {
    "colab": {
      "provenance": [],
      "authorship_tag": "ABX9TyOyNGOEMUjt+d9y9j61z4qj",
      "include_colab_link": true
    },
    "kernelspec": {
      "name": "python3",
      "display_name": "Python 3"
    },
    "language_info": {
      "name": "python"
    }
  },
  "cells": [
    {
      "cell_type": "markdown",
      "metadata": {
        "id": "view-in-github",
        "colab_type": "text"
      },
      "source": [
        "<a href=\"https://colab.research.google.com/github/aryan-anil/PY_XTREME/blob/main/Collections/Deque.ipynb.ipynb\" target=\"_parent\"><img src=\"https://colab.research.google.com/assets/colab-badge.svg\" alt=\"Open In Colab\"/></a>"
      ]
    },
    {
      "cell_type": "code",
      "source": [
        "from collections import deque \n",
        "      \n",
        "# declaring deque\n",
        "data = deque(['dog','cat','cat','mouse','lizard'])  \n",
        "      \n",
        "print(data,\"\\n\")\n",
        "\n",
        "# functions for deque\n",
        "\n",
        "#1\n",
        "#append(): To add elements to the end(right)\n",
        "#appendleft(): To add elements to the start(left)\n",
        "print(1)\n",
        "data.appendleft(\"elephant\")\n",
        "print(data,\"\\n\")\n",
        "\n",
        "#2\n",
        "#pop(): To delete last element from end(right) and returns the value\n",
        "#popleft(): To delete last element from start(left) and returns the value\n",
        "print(2)\n",
        "value = data.popleft()\n",
        "print(\"The deque: \",data,\" The deleted element: \",value,\"\\n\")\n",
        "\n",
        "#3\n",
        "#index(element,start, end): Searches for the first occurance of the given element in the range(start,end)\n",
        "#returns index\n",
        "print(3)\n",
        "i = data.index(\"cat\",0,3)\n",
        "print(\"Index:\",i,\"\\n\")\n",
        "\n",
        "#4\n",
        "#insert(index, element)\n",
        "#To insert element at an index\n",
        "print(4)\n",
        "data.insert(2,\"7\")\n",
        "print(data,'\\n')\n",
        "\n",
        "#5\n",
        "#remove(): To remove first occurance of an element\n",
        "print(5)\n",
        "data.remove(\"cat\")\n",
        "print(data,\"\\n\")\n",
        "\n",
        "#6\n",
        "#count(): To count no.of occurances of an element\n",
        "print(6)\n",
        "print(\"No.of occurances of dog:\",data.count(\"dog\"))\n"
      ],
      "metadata": {
        "id": "Aj14biV6nUIW",
        "colab": {
          "base_uri": "https://localhost:8080/"
        },
        "outputId": "d51691bd-f656-444f-a7e2-720da77bd60f"
      },
      "execution_count": 21,
      "outputs": [
        {
          "output_type": "stream",
          "name": "stdout",
          "text": [
            "deque(['dog', 'cat', 'cat', 'mouse', 'lizard']) \n",
            "\n",
            "1\n",
            "deque(['elephant', 'dog', 'cat', 'cat', 'mouse', 'lizard']) \n",
            "\n",
            "2\n",
            "The deque:  deque(['dog', 'cat', 'cat', 'mouse', 'lizard'])  The deleted element:  elephant \n",
            "\n",
            "3\n",
            "Index: 1 \n",
            "\n",
            "4\n",
            "deque(['dog', 'cat', '7', 'cat', 'mouse', 'lizard']) \n",
            "\n",
            "5\n",
            "deque(['dog', '7', 'cat', 'mouse', 'lizard']) \n",
            "\n",
            "6\n",
            "No.of occurances of dog: 1\n"
          ]
        }
      ]
    }
  ]
}
