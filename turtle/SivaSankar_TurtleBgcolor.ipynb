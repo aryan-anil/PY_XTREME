{
  "nbformat": 4,
  "nbformat_minor": 0,
  "metadata": {
    "colab": {
      "provenance": [],
      "authorship_tag": "ABX9TyPMYG2RDTVYAjOxKZFtcZxf",
      "include_colab_link": true
    },
    "kernelspec": {
      "name": "python3",
      "display_name": "Python 3"
    },
    "language_info": {
      "name": "python"
    }
  },
  "cells": [
    {
      "cell_type": "markdown",
      "metadata": {
        "id": "view-in-github",
        "colab_type": "text"
      },
      "source": [
        "<a href=\"https://colab.research.google.com/github/raknasavis703/PY_XTREME/blob/main/turtle/SivaSankar_TurtleBgcolor.ipynb\" target=\"_parent\"><img src=\"https://colab.research.google.com/assets/colab-badge.svg\" alt=\"Open In Colab\"/></a>"
      ]
    },
    {
      "cell_type": "code",
      "execution_count": 1,
      "metadata": {
        "colab": {
          "base_uri": "https://localhost:8080/"
        },
        "id": "J5EAKVP7QIuz",
        "outputId": "2261fcc8-a1df-44ef-96ec-449239dd27dc"
      },
      "outputs": [
        {
          "output_type": "stream",
          "name": "stdout",
          "text": [
            "Looking in indexes: https://pypi.org/simple, https://us-python.pkg.dev/colab-wheels/public/simple/\n",
            "Collecting ColabTurtlePlus\n",
            "  Downloading ColabTurtlePlus-2.0.1-py3-none-any.whl (31 kB)\n",
            "Installing collected packages: ColabTurtlePlus\n",
            "Successfully installed ColabTurtlePlus-2.0.1\n"
          ]
        }
      ],
      "source": [
        "!pip install ColabTurtlePlus"
      ]
    },
    {
      "cell_type": "code",
      "source": [
        "import ColabTurtlePlus.Turtle as turtle #import turtle will be used in a normal python compiler\n",
        "turtle.initializeTurtle() #It is present in ColabTurtle to initialise the turtle\n",
        "print(turtle.position())\n",
        "turtle.color('red')\n",
        "turtle.bgcolor(\"yellow\")#Sets the background of the turtle to the specified color.\n",
        "turtle.forward(75)\n",
        "print(turtle.position())"
      ],
      "metadata": {
        "colab": {
          "base_uri": "https://localhost:8080/",
          "height": 656
        },
        "id": "xaM3l-JoSSRV",
        "outputId": "22ce45da-360c-4b84-df10-d2460c4ca524"
      },
      "execution_count": 3,
      "outputs": [
        {
          "output_type": "display_data",
          "data": {
            "text/plain": [
              "<IPython.core.display.HTML object>"
            ],
            "text/html": [
              "\n",
              "      <svg width=\"800\" height=\"600\">  \n",
              "        <rect width=\"100%\" height=\"100%\" style=\"fill:yellow;stroke:;stroke-width:1\"/>\n",
              "        \n",
              "        \n",
              "        <line x1=\"400.0\" y1=\"300.0\" x2=\"410.0\" y2=\"300.0\" stroke-linecap=\"round\" style=\"stroke:red;stroke-width:1\" /><line x1=\"410.0\" y1=\"300.0\" x2=\"420.0\" y2=\"300.0\" stroke-linecap=\"round\" style=\"stroke:red;stroke-width:1\" /><line x1=\"420.0\" y1=\"300.0\" x2=\"430.0\" y2=\"300.0\" stroke-linecap=\"round\" style=\"stroke:red;stroke-width:1\" /><line x1=\"430.0\" y1=\"300.0\" x2=\"440.0\" y2=\"300.0\" stroke-linecap=\"round\" style=\"stroke:red;stroke-width:1\" /><line x1=\"440.0\" y1=\"300.0\" x2=\"450.0\" y2=\"300.0\" stroke-linecap=\"round\" style=\"stroke:red;stroke-width:1\" /><line x1=\"450.0\" y1=\"300.0\" x2=\"460.0\" y2=\"300.0\" stroke-linecap=\"round\" style=\"stroke:red;stroke-width:1\" /><line x1=\"460.0\" y1=\"300.0\" x2=\"470.0\" y2=\"300.0\" stroke-linecap=\"round\" style=\"stroke:red;stroke-width:1\" /><line x1=\"470.0\" y1=\"300.0\" x2=\"475.0\" y2=\"300.0\" stroke-linecap=\"round\" style=\"stroke:red;stroke-width:1\" />\n",
              "        \n",
              "        \n",
              "        <g id=\"classic\" visibility=\"visible\" transform=\"rotate(-90,475.0,300.0) translate(475.0, 300.0)\">\n",
              "<polygon points=\"-5,-4.5 0,-2.5 5,-4.5 0,4.5\" transform=\"skewX(0) scale(1,1)\" style=\"stroke:red;fill:red;stroke-width:1\" />\n",
              "</g>\n",
              "      </svg>\n",
              "    "
            ]
          },
          "metadata": {}
        },
        {
          "output_type": "stream",
          "name": "stdout",
          "text": [
            "(0.0, 0.0)\n",
            "(75.0, 0.0)\n"
          ]
        }
      ]
    }
  ]
}