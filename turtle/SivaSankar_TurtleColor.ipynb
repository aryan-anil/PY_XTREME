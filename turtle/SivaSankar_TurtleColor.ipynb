{
  "nbformat": 4,
  "nbformat_minor": 0,
  "metadata": {
    "colab": {
      "provenance": [],
      "authorship_tag": "ABX9TyOD/Zvq+LSiJVNbUKE7U60d",
      "include_colab_link": true
    },
    "kernelspec": {
      "name": "python3",
      "display_name": "Python 3"
    },
    "language_info": {
      "name": "python"
    }
  },
  "cells": [
    {
      "cell_type": "markdown",
      "metadata": {
        "id": "view-in-github",
        "colab_type": "text"
      },
      "source": [
        "<a href=\"https://colab.research.google.com/github/raknasavis703/PY_XTREME/blob/main/turtle/SivaSankar_TurtleColor.ipynb\" target=\"_parent\"><img src=\"https://colab.research.google.com/assets/colab-badge.svg\" alt=\"Open In Colab\"/></a>"
      ]
    },
    {
      "cell_type": "code",
      "execution_count": 2,
      "metadata": {
        "colab": {
          "base_uri": "https://localhost:8080/"
        },
        "id": "lAvqzrfKzE56",
        "outputId": "c393b578-2a56-4b97-9e6e-9bc59b3a8ff5"
      },
      "outputs": [
        {
          "output_type": "stream",
          "name": "stdout",
          "text": [
            "Looking in indexes: https://pypi.org/simple, https://us-python.pkg.dev/colab-wheels/public/simple/\n",
            "Collecting ColabTurtlePlus\n",
            "  Downloading ColabTurtlePlus-2.0.1-py3-none-any.whl (31 kB)\n",
            "Installing collected packages: ColabTurtlePlus\n",
            "Successfully installed ColabTurtlePlus-2.0.1\n"
          ]
        }
      ],
      "source": [
        "!pip install ColabTurtlePlus"
      ]
    },
    {
      "cell_type": "code",
      "source": [
        "import ColabTurtlePlus.Turtle as turtle #import turtle will be used in a normal python compiler\n",
        "turtle.initializeTurtle() #It is present in ColabTurtle to initialise the turtle\n",
        "print(turtle.position())\n",
        "turtle.color('red')#Sets the turtle and path to the specified color.\n",
        "turtle.forward(75)\n",
        "print(turtle.position())"
      ],
      "metadata": {
        "id": "TxRTNJsqzhiQ",
        "colab": {
          "base_uri": "https://localhost:8080/",
          "height": 656
        },
        "outputId": "0afe61c9-e4be-4a1f-c4ba-4ad155bf7056"
      },
      "execution_count": 5,
      "outputs": [
        {
          "output_type": "display_data",
          "data": {
            "text/plain": [
              "<IPython.core.display.HTML object>"
            ],
            "text/html": [
              "\n",
              "      <svg width=\"800\" height=\"600\">  \n",
              "        <rect width=\"100%\" height=\"100%\" style=\"fill:white;stroke:;stroke-width:1\"/>\n",
              "        \n",
              "        \n",
              "        <line x1=\"400.0\" y1=\"300.0\" x2=\"410.0\" y2=\"300.0\" stroke-linecap=\"round\" style=\"stroke:red;stroke-width:1\" /><line x1=\"410.0\" y1=\"300.0\" x2=\"420.0\" y2=\"300.0\" stroke-linecap=\"round\" style=\"stroke:red;stroke-width:1\" /><line x1=\"420.0\" y1=\"300.0\" x2=\"430.0\" y2=\"300.0\" stroke-linecap=\"round\" style=\"stroke:red;stroke-width:1\" /><line x1=\"430.0\" y1=\"300.0\" x2=\"440.0\" y2=\"300.0\" stroke-linecap=\"round\" style=\"stroke:red;stroke-width:1\" /><line x1=\"440.0\" y1=\"300.0\" x2=\"450.0\" y2=\"300.0\" stroke-linecap=\"round\" style=\"stroke:red;stroke-width:1\" /><line x1=\"450.0\" y1=\"300.0\" x2=\"460.0\" y2=\"300.0\" stroke-linecap=\"round\" style=\"stroke:red;stroke-width:1\" /><line x1=\"460.0\" y1=\"300.0\" x2=\"470.0\" y2=\"300.0\" stroke-linecap=\"round\" style=\"stroke:red;stroke-width:1\" /><line x1=\"470.0\" y1=\"300.0\" x2=\"475.0\" y2=\"300.0\" stroke-linecap=\"round\" style=\"stroke:red;stroke-width:1\" />\n",
              "        \n",
              "        \n",
              "        <g id=\"classic\" visibility=\"visible\" transform=\"rotate(-90,475.0,300.0) translate(475.0, 300.0)\">\n",
              "<polygon points=\"-5,-4.5 0,-2.5 5,-4.5 0,4.5\" transform=\"skewX(0) scale(1,1)\" style=\"stroke:red;fill:red;stroke-width:1\" />\n",
              "</g>\n",
              "      </svg>\n",
              "    "
            ]
          },
          "metadata": {}
        },
        {
          "output_type": "stream",
          "name": "stdout",
          "text": [
            "(0.0, 0.0)\n",
            "(75.0, 0.0)\n"
          ]
        }
      ]
    }
  ]
}