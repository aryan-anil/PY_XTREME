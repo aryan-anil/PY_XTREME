{
  "nbformat": 4,
  "nbformat_minor": 0,
  "metadata": {
    "colab": {
      "provenance": [],
      "authorship_tag": "ABX9TyMt/050aA1HErgpRCmVdcy5",
      "include_colab_link": true
    },
    "kernelspec": {
      "name": "python3",
      "display_name": "Python 3"
    },
    "language_info": {
      "name": "python"
    }
  },
  "cells": [
    {
      "cell_type": "markdown",
      "metadata": {
        "id": "view-in-github",
        "colab_type": "text"
      },
      "source": [
        "<a href=\"https://colab.research.google.com/github/raknasavis703/PY_XTREME/blob/main/turtle/SivaSankar_TurtlePensize.ipynb\" target=\"_parent\"><img src=\"https://colab.research.google.com/assets/colab-badge.svg\" alt=\"Open In Colab\"/></a>"
      ]
    },
    {
      "cell_type": "code",
      "execution_count": 1,
      "metadata": {
        "colab": {
          "base_uri": "https://localhost:8080/"
        },
        "id": "qqc6QnJRUamW",
        "outputId": "9f99e70e-ee94-4a9d-e97e-61ff8031f788"
      },
      "outputs": [
        {
          "output_type": "stream",
          "name": "stdout",
          "text": [
            "Looking in indexes: https://pypi.org/simple, https://us-python.pkg.dev/colab-wheels/public/simple/\n",
            "Collecting ColabTurtlePlus\n",
            "  Downloading ColabTurtlePlus-2.0.1-py3-none-any.whl (31 kB)\n",
            "Installing collected packages: ColabTurtlePlus\n",
            "Successfully installed ColabTurtlePlus-2.0.1\n"
          ]
        }
      ],
      "source": [
        "!pip install ColabTurtlePlus"
      ]
    },
    {
      "cell_type": "code",
      "source": [
        "import ColabTurtlePlus.Turtle as turtle #import turtle will be used in a normal python compiler\n",
        "turtle.initializeTurtle() #It is present in ColabTurtle to initialise the turtle\n",
        "print(turtle.position())\n",
        "turtle.forward(75)\n",
        "turtle.pensize(13)#Sets the thickness of the line drawn by the turtle.\n",
        "turtle.forward(75)\n",
        "print(turtle.position())"
      ],
      "metadata": {
        "colab": {
          "base_uri": "https://localhost:8080/",
          "height": 656
        },
        "id": "xjEolzJHYjc5",
        "outputId": "176b54f4-00e8-4805-ea70-fc985183c447"
      },
      "execution_count": 3,
      "outputs": [
        {
          "output_type": "display_data",
          "data": {
            "text/plain": [
              "<IPython.core.display.HTML object>"
            ],
            "text/html": [
              "\n",
              "      <svg width=\"800\" height=\"600\">  \n",
              "        <rect width=\"100%\" height=\"100%\" style=\"fill:white;stroke:;stroke-width:1\"/>\n",
              "        \n",
              "        \n",
              "        <line x1=\"400.0\" y1=\"300.0\" x2=\"475.0\" y2=\"300.0\" stroke-linecap=\"round\" style=\"stroke:black;stroke-width:1\" /><line x1=\"475.0\" y1=\"300.0\" x2=\"485.0\" y2=\"300.0\" stroke-linecap=\"round\" style=\"stroke:black;stroke-width:13\" /><line x1=\"485.0\" y1=\"300.0\" x2=\"495.0\" y2=\"300.0\" stroke-linecap=\"round\" style=\"stroke:black;stroke-width:13\" /><line x1=\"495.0\" y1=\"300.0\" x2=\"505.0\" y2=\"300.0\" stroke-linecap=\"round\" style=\"stroke:black;stroke-width:13\" /><line x1=\"505.0\" y1=\"300.0\" x2=\"515.0\" y2=\"300.0\" stroke-linecap=\"round\" style=\"stroke:black;stroke-width:13\" /><line x1=\"515.0\" y1=\"300.0\" x2=\"525.0\" y2=\"300.0\" stroke-linecap=\"round\" style=\"stroke:black;stroke-width:13\" /><line x1=\"525.0\" y1=\"300.0\" x2=\"535.0\" y2=\"300.0\" stroke-linecap=\"round\" style=\"stroke:black;stroke-width:13\" /><line x1=\"535.0\" y1=\"300.0\" x2=\"545.0\" y2=\"300.0\" stroke-linecap=\"round\" style=\"stroke:black;stroke-width:13\" /><line x1=\"545.0\" y1=\"300.0\" x2=\"550.0\" y2=\"300.0\" stroke-linecap=\"round\" style=\"stroke:black;stroke-width:13\" />\n",
              "        \n",
              "        \n",
              "        <g id=\"classic\" visibility=\"visible\" transform=\"rotate(-90,550.0,300.0) translate(550.0, 300.0)\">\n",
              "<polygon points=\"-5,-4.5 0,-2.5 5,-4.5 0,4.5\" transform=\"skewX(0) scale(1,1)\" style=\"stroke:black;fill:black;stroke-width:1\" />\n",
              "</g>\n",
              "      </svg>\n",
              "    "
            ]
          },
          "metadata": {}
        },
        {
          "output_type": "stream",
          "name": "stdout",
          "text": [
            "(0.0, 0.0)\n",
            "(150.0, 0.0)\n"
          ]
        }
      ]
    }
  ]
}