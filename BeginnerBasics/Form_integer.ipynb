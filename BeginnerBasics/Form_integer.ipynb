{
  "nbformat": 4,
  "nbformat_minor": 0,
  "metadata": {
    "colab": {
      "provenance": [],
      "authorship_tag": "ABX9TyNBcMYXvGeZ+z7a3TwXGRfD",
      "include_colab_link": true
    },
    "kernelspec": {
      "name": "python3",
      "display_name": "Python 3"
    },
    "language_info": {
      "name": "python"
    }
  },
  "cells": [
    {
      "cell_type": "markdown",
      "metadata": {
        "id": "view-in-github",
        "colab_type": "text"
      },
      "source": [
        "<a href=\"https://colab.research.google.com/github/jayanthmankavil/PY_XTREME/blob/main/BeginnerBasics/Form_integer.ipynb\" target=\"_parent\"><img src=\"https://colab.research.google.com/assets/colab-badge.svg\" alt=\"Open In Colab\"/></a>"
      ]
    },
    {
      "cell_type": "code",
      "execution_count": 1,
      "metadata": {
        "colab": {
          "base_uri": "https://localhost:8080/"
        },
        "id": "0BkMjm1Gjwg7",
        "outputId": "c9945ed7-fa57-41d2-994d-29554c2b8fdd"
      },
      "outputs": [
        {
          "output_type": "stream",
          "name": "stdout",
          "text": [
            "Enter the number:10254415\n",
            "The new number formed: 85\n"
          ]
        }
      ],
      "source": [
        "n=int(input(\"Enter the number:\"))\n",
        "tmp=n\n",
        "k=0\n",
        "while(n>0):\n",
        "    k=k+1\n",
        "    n=n//10\n",
        "b=str(tmp)\n",
        "c=str(k)\n",
        "d=c+b[k-1]\n",
        "print(\"The new number formed:\",int(d))"
      ]
    }
  ]
}