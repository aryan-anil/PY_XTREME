{
  "nbformat": 4,
  "nbformat_minor": 0,
  "metadata": {
    "colab": {
      "provenance": [],
      "authorship_tag": "ABX9TyPY+j8dOc6aEOBrC/Cvxf1x",
      "include_colab_link": true
    },
    "kernelspec": {
      "name": "python3",
      "display_name": "Python 3"
    },
    "language_info": {
      "name": "python"
    }
  },
  "cells": [
    {
      "cell_type": "markdown",
      "metadata": {
        "id": "view-in-github",
        "colab_type": "text"
      },
      "source": [
        "<a href=\"https://colab.research.google.com/github/jayanthmankavil/PY_XTREME/blob/main/BeginnerBasics/Amicable_number.ipynb\" target=\"_parent\"><img src=\"https://colab.research.google.com/assets/colab-badge.svg\" alt=\"Open In Colab\"/></a>"
      ]
    },
    {
      "cell_type": "code",
      "execution_count": 1,
      "metadata": {
        "colab": {
          "base_uri": "https://localhost:8080/"
        },
        "id": "pWiW71KA4jXV",
        "outputId": "1b4aafc4-cd04-401b-cdf2-1261ec298a55"
      },
      "outputs": [
        {
          "output_type": "stream",
          "name": "stdout",
          "text": [
            "Enter number 1: 100\n",
            "Enter number 2: 105\n",
            "Not Amicable!\n"
          ]
        }
      ],
      "source": [
        "x=int(input('Enter number 1: '))\n",
        "y=int(input('Enter number 2: '))\n",
        "sum1=0\n",
        "sum2=0\n",
        "for i in range(1,x):\n",
        "    if x%i==0:\n",
        "        sum1+=i\n",
        "for j in range(1,y):\n",
        "    if y%j==0:\n",
        "        sum2+=j\n",
        "if(sum1==y and sum2==x):\n",
        "    print('Amicable!')\n",
        "else:\n",
        "    print('Not Amicable!')"
      ]
    }
  ]
}