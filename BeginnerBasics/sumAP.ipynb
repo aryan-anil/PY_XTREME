{
  "nbformat": 4,
  "nbformat_minor": 0,
  "metadata": {
    "colab": {
      "provenance": [],
      "authorship_tag": "ABX9TyNd8o4oCq/FSUKZi2bXMdSm",
      "include_colab_link": true
    },
    "kernelspec": {
      "name": "python3",
      "display_name": "Python 3"
    },
    "language_info": {
      "name": "python"
    }
  },
  "cells": [
    {
      "cell_type": "markdown",
      "metadata": {
        "id": "view-in-github",
        "colab_type": "text"
      },
      "source": [
        "<a href=\"https://colab.research.google.com/github/HarrelAlex/24req/blob/main/BeginnerBasics/sumAP.ipynb\" target=\"_parent\"><img src=\"https://colab.research.google.com/assets/colab-badge.svg\" alt=\"Open In Colab\"/></a>"
      ]
    },
    {
      "cell_type": "code",
      "execution_count": null,
      "metadata": {
        "id": "DRXExfjI9Vto"
      },
      "outputs": [],
      "source": [
        "a = int(input(\"Please Enter First Number of an A.P Series: : \"))\n",
        "n = int(input(\"Please Enter the Total Numbers in this A.P Series: : \"))\n",
        "d = int(input(\"Please Enter the Common Difference : \"))\n",
        "\n",
        "total = (n * (2 * a + (n - 1) * d)) / 2\n",
        "tn = a + (n - 1) * d\n",
        "\n",
        "print(\"\\nThe Sum of Arithmetic Progression Series = \" , total)\n",
        "print(\"The tn Term of Arithmetic Progression Series = \" , tn)"
      ]
    }
  ]
}