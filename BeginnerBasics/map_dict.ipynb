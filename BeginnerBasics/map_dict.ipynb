{
  "nbformat": 4,
  "nbformat_minor": 0,
  "metadata": {
    "colab": {
      "provenance": [],
      "authorship_tag": "ABX9TyOBEPrbVZFRvEy6F/G6IEWg",
      "include_colab_link": true
    },
    "kernelspec": {
      "name": "python3",
      "display_name": "Python 3"
    },
    "language_info": {
      "name": "python"
    }
  },
  "cells": [
    {
      "cell_type": "markdown",
      "metadata": {
        "id": "view-in-github",
        "colab_type": "text"
      },
      "source": [
        "<a href=\"https://colab.research.google.com/github/jayanthmankavil/PY_XTREME/blob/main/BeginnerBasics/map_dict.ipynb\" target=\"_parent\"><img src=\"https://colab.research.google.com/assets/colab-badge.svg\" alt=\"Open In Colab\"/></a>"
      ]
    },
    {
      "cell_type": "code",
      "execution_count": 2,
      "metadata": {
        "colab": {
          "base_uri": "https://localhost:8080/"
        },
        "id": "kP3en2aN8mXu",
        "outputId": "1fe3ab79-ff1b-4ad2-8de9-c3aa74f7b940"
      },
      "outputs": [
        {
          "output_type": "stream",
          "name": "stdout",
          "text": [
            "Enter number of elements for dictionary:5\n",
            "For keys:\n",
            "Enter element1:10\n",
            "Enter element2:12\n",
            "Enter element3:13\n",
            "Enter element4:14\n",
            "Enter element5:15\n",
            "For values:\n",
            "Enter element1:1\n",
            "Enter element2:2\n",
            "Enter element3:3\n",
            "Enter element4:4\n",
            "Enter element5:5\n",
            "The dictionary is:\n",
            "{10: 1, 12: 2, 13: 3, 14: 4, 15: 5}\n"
          ]
        }
      ],
      "source": [
        "keys=[]\n",
        "values=[]\n",
        "n=int(input(\"Enter number of elements for dictionary:\"))\n",
        "print(\"For keys:\")\n",
        "for x in range(0,n):\n",
        "    element=int(input(\"Enter element\" + str(x+1) + \":\"))\n",
        "    keys.append(element)\n",
        "print(\"For values:\")\n",
        "for x in range(0,n):\n",
        "    element=int(input(\"Enter element\" + str(x+1) + \":\"))\n",
        "    values.append(element)\n",
        "d=dict(zip(keys,values))\n",
        "print(\"The dictionary is:\")\n",
        "print(d)"
      ]
    }
  ]
}