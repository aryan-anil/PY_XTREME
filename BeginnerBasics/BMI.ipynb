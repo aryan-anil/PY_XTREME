{
  "nbformat": 4,
  "nbformat_minor": 0,
  "metadata": {
    "colab": {
      "provenance": [],
      "authorship_tag": "ABX9TyOKssyT7ljV6ozdVwJLEhwA",
      "include_colab_link": true
    },
    "kernelspec": {
      "name": "python3",
      "display_name": "Python 3"
    },
    "language_info": {
      "name": "python"
    }
  },
  "cells": [
    {
      "cell_type": "markdown",
      "metadata": {
        "id": "view-in-github",
        "colab_type": "text"
      },
      "source": [
        "<a href=\"https://colab.research.google.com/github/anirxudh/PY_XTREME/blob/main/BeginnerBasics/BMI.ipynb\" target=\"_parent\"><img src=\"https://colab.research.google.com/assets/colab-badge.svg\" alt=\"Open In Colab\"/></a>"
      ]
    },
    {
      "cell_type": "code",
      "execution_count": 1,
      "metadata": {
        "colab": {
          "base_uri": "https://localhost:8080/"
        },
        "id": "LEcJOlOTrzY8",
        "outputId": "bf888db4-b80c-473d-d8b8-df853c5a7660"
      },
      "outputs": [
        {
          "output_type": "stream",
          "name": "stdout",
          "text": [
            "Enter the height in cm: 180\n",
            "Enter the weight in kg: 80\n",
            "Your Body Mass Index is 24.691358024691358\n",
            "You are healthy.\n"
          ]
        }
      ],
      "source": [
        "# ANIRUDH S NAIR\n",
        "# BMI\n",
        "\n",
        "# get input from the users  \n",
        "h = float(input(\"Enter the height in cm: \"))  \n",
        "w = float(input(\"Enter the weight in kg: \")) \n",
        " \n",
        "# defining a function for BMI  \n",
        "bmi = w/ (h/100)**2  \n",
        "\n",
        "# printing the BMI  \n",
        "print(\"Your Body Mass Index is\", bmi)  \n",
        "\n",
        "\n",
        "if bmi <= 18.5:  \n",
        "    print(\"You are underweight.\")  \n",
        "elif bmi <= 24.9:  \n",
        "    print(\"You are healthy.\")  \n",
        "elif bmi <= 29.9:  \n",
        "    print(\"You are over weight.\")  \n",
        "else:  \n",
        "    print(\"You are obese.\")  "
      ]
    }
  ]
}