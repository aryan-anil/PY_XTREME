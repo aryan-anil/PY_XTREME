{
  "nbformat": 4,
  "nbformat_minor": 0,
  "metadata": {
    "colab": {
      "provenance": [],
      "authorship_tag": "ABX9TyO6CogVDPEh/cW8MkOpENuk",
      "include_colab_link": true
    },
    "kernelspec": {
      "name": "python3",
      "display_name": "Python 3"
    },
    "language_info": {
      "name": "python"
    }
  },
  "cells": [
    {
      "cell_type": "markdown",
      "metadata": {
        "id": "view-in-github",
        "colab_type": "text"
      },
      "source": [
        "<a href=\"https://colab.research.google.com/github/rxhith/PY_XTREME/blob/main/BeginnerBasics/LOOPs/sumofeven(while).ipynb\" target=\"_parent\"><img src=\"https://colab.research.google.com/assets/colab-badge.svg\" alt=\"Open In Colab\"/></a>"
      ]
    },
    {
      "cell_type": "code",
      "execution_count": null,
      "metadata": {
        "id": "Q0d7dzUBu6xp"
      },
      "outputs": [],
      "source": [
        "i = 0\n",
        "sum = 0\n",
        "n = int(input(\"Enter the number n: \"))\n",
        "\n",
        "while  i <= n:\n",
        "    if i % 2 == 0:\n",
        "        sum += i\n",
        "    i += 1\n",
        "        \n",
        "print(\"Sum of even numbers till n:\",sum)"
      ]
    }
  ]
}