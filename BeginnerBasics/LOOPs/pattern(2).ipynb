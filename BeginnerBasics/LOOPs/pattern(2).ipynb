{
  "nbformat": 4,
  "nbformat_minor": 0,
  "metadata": {
    "colab": {
      "provenance": [],
      "authorship_tag": "ABX9TyPQtoXLQzuMNU9GscOIPVR9",
      "include_colab_link": true
    },
    "kernelspec": {
      "name": "python3",
      "display_name": "Python 3"
    },
    "language_info": {
      "name": "python"
    }
  },
  "cells": [
    {
      "cell_type": "markdown",
      "metadata": {
        "id": "view-in-github",
        "colab_type": "text"
      },
      "source": [
        "<a href=\"https://colab.research.google.com/github/rxhith/PY_XTREME/blob/main/BeginnerBasics/LOOPs/pattern(2).ipynb\" target=\"_parent\"><img src=\"https://colab.research.google.com/assets/colab-badge.svg\" alt=\"Open In Colab\"/></a>"
      ]
    },
    {
      "cell_type": "code",
      "execution_count": null,
      "metadata": {
        "colab": {
          "base_uri": "https://localhost:8080/"
        },
        "id": "rYaqu-HmpR3a",
        "outputId": "0226031e-6697-481f-ee15-1dbd968ffb5e"
      },
      "outputs": [
        {
          "output_type": "stream",
          "name": "stdout",
          "text": [
            "Number Pattern \n",
            "1 \n",
            "1 2 \n",
            "1 2 3 \n",
            "1 2 3 4 \n",
            "1 2 3 4 5 \n"
          ]
        }
      ],
      "source": [
        "print(\"Number Pattern \")\n",
        "\n",
        "\n",
        "row = 5\n",
        "for i in range(1, row + 1, 1):\n",
        "   \n",
        "    for j in range(1, i + 1):\n",
        "        print(j, end=' ')\n",
        "   \n",
        "    print(\"\")\n"
      ]
    }
  ]
}