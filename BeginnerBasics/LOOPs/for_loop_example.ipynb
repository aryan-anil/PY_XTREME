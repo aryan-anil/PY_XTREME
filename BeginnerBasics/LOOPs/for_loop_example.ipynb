{
  "nbformat": 4,
  "nbformat_minor": 0,
  "metadata": {
    "colab": {
      "provenance": [],
      "authorship_tag": "ABX9TyP0OahRJj4ss81RJU/IG/S7",
      "include_colab_link": true
    },
    "kernelspec": {
      "name": "python3",
      "display_name": "Python 3"
    },
    "language_info": {
      "name": "python"
    }
  },
  "cells": [
    {
      "cell_type": "markdown",
      "metadata": {
        "id": "view-in-github",
        "colab_type": "text"
      },
      "source": [
        "<a href=\"https://colab.research.google.com/github/Maii347/PY_XTREME/blob/main/BeginnerBasics/LOOPs/for_loop_example.ipynb\" target=\"_parent\"><img src=\"https://colab.research.google.com/assets/colab-badge.svg\" alt=\"Open In Colab\"/></a>"
      ]
    },
    {
      "cell_type": "code",
      "execution_count": 3,
      "metadata": {
        "colab": {
          "base_uri": "https://localhost:8080/"
        },
        "id": "51ALPVL4DwHs",
        "outputId": "8541e797-880d-479c-d156-d848e95129c0"
      },
      "outputs": [
        {
          "output_type": "stream",
          "name": "stdout",
          "text": [
            "0\n",
            "1\n",
            "2\n",
            "3\n",
            "4\n",
            "5\n",
            "6\n",
            "7\n",
            "8\n",
            "9\n",
            "apple\n",
            "orange\n",
            "grapes\n",
            "lemon\n"
          ]
        }
      ],
      "source": [
        "#A for loop is used for iterating over a sequence.\n",
        "\n",
        "i = 1\n",
        "n = 10\n",
        "#loop that prints numbers from 1 to 10\n",
        "for i in range (10):\n",
        "    print(i)\n",
        "    i= i+1\n",
        "\n",
        "\n",
        "#Example for how to print a list in python. Here x will get each element in list 'fruit' and print it\n",
        "\n",
        "fruits = ['apple', 'orange', 'grapes', 'lemon']\n",
        "\n",
        "for x in fruits:\n",
        "    print(x)"
      ]
    }
  ]
}