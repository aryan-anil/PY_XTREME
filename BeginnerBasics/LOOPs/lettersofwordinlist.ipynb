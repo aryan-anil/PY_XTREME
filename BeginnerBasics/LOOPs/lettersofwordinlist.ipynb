{
  "nbformat": 4,
  "nbformat_minor": 0,
  "metadata": {
    "colab": {
      "provenance": [],
      "authorship_tag": "ABX9TyOh4Z+NajCb5VISkzlGaKuW",
      "include_colab_link": true
    },
    "kernelspec": {
      "name": "python3",
      "display_name": "Python 3"
    },
    "language_info": {
      "name": "python"
    }
  },
  "cells": [
    {
      "cell_type": "markdown",
      "metadata": {
        "id": "view-in-github",
        "colab_type": "text"
      },
      "source": [
        "<a href=\"https://colab.research.google.com/github/rxhith/PY_XTREME/blob/main/BeginnerBasics/LOOPs/lettersofwordinlist.ipynb\" target=\"_parent\"><img src=\"https://colab.research.google.com/assets/colab-badge.svg\" alt=\"Open In Colab\"/></a>"
      ]
    },
    {
      "cell_type": "code",
      "execution_count": null,
      "metadata": {
        "colab": {
          "base_uri": "https://localhost:8080/"
        },
        "id": "30aQWv2yojic",
        "outputId": "6209181a-3f3e-4296-813f-54a210dd2097"
      },
      "outputs": [
        {
          "output_type": "stream",
          "name": "stdout",
          "text": [
            "The following lines will print each letters of Apple\n",
            "A\n",
            "p\n",
            "p\n",
            "l\n",
            "e\n",
            "\n",
            "The following lines will print each letters of Banana\n",
            "B\n",
            "a\n",
            "n\n",
            "a\n",
            "n\n",
            "a\n",
            "\n",
            "The following lines will print each letters of Car\n",
            "C\n",
            "a\n",
            "r\n",
            "\n",
            "The following lines will print each letters of Dolphin\n",
            "D\n",
            "o\n",
            "l\n",
            "p\n",
            "h\n",
            "i\n",
            "n\n",
            "\n"
          ]
        }
      ],
      "source": [
        "words= [\"Apple\", \"Banana\", \"Car\", \"Dolphin\" ]\n",
        "for word in words:\n",
        "        print (\"The following lines will print each letters of \"+word)\n",
        "        for letter in word:\n",
        "                \n",
        "                print (letter)\n",
        "        print(\"\")"
      ]
    }
  ]
}