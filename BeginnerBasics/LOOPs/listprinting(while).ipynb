{
  "nbformat": 4,
  "nbformat_minor": 0,
  "metadata": {
    "colab": {
      "provenance": [],
      "authorship_tag": "ABX9TyOalt+Ml7nuK+A5Ln9kgynZ",
      "include_colab_link": true
    },
    "kernelspec": {
      "name": "python3",
      "display_name": "Python 3"
    },
    "language_info": {
      "name": "python"
    }
  },
  "cells": [
    {
      "cell_type": "markdown",
      "metadata": {
        "id": "view-in-github",
        "colab_type": "text"
      },
      "source": [
        "<a href=\"https://colab.research.google.com/github/rxhith/PY_XTREME/blob/main/BeginnerBasics/LOOPs/listprinting(while).ipynb\" target=\"_parent\"><img src=\"https://colab.research.google.com/assets/colab-badge.svg\" alt=\"Open In Colab\"/></a>"
      ]
    },
    {
      "cell_type": "code",
      "execution_count": null,
      "metadata": {
        "colab": {
          "base_uri": "https://localhost:8080/"
        },
        "id": "bBk3HImVuP13",
        "outputId": "fbf264d5-0cb5-4dee-c7ef-9c4ed4521882"
      },
      "outputs": [
        {
          "output_type": "stream",
          "name": "stdout",
          "text": [
            "Guava\n",
            "Orange\n",
            "Apple\n",
            "Mango\n",
            "[]\n"
          ]
        }
      ],
      "source": [
        "fruitsList = [\"Mango\",\"Apple\",\"Orange\",\"Guava\"]\n",
        "\n",
        "while fruitsList:\n",
        "    print(fruitsList.pop())\n",
        "\n",
        "print(fruitsList)"
      ]
    }
  ]
}