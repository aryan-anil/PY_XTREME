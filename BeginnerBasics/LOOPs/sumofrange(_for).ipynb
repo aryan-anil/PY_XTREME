{
  "nbformat": 4,
  "nbformat_minor": 0,
  "metadata": {
    "colab": {
      "provenance": [],
      "authorship_tag": "ABX9TyPgz0RzPG8araAyeMf8BB5W",
      "include_colab_link": true
    },
    "kernelspec": {
      "name": "python3",
      "display_name": "Python 3"
    },
    "language_info": {
      "name": "python"
    }
  },
  "cells": [
    {
      "cell_type": "markdown",
      "metadata": {
        "id": "view-in-github",
        "colab_type": "text"
      },
      "source": [
        "<a href=\"https://colab.research.google.com/github/rxhith/PY_XTREME/blob/main/BeginnerBasics/LOOPs/sumofrange(_for).ipynb\" target=\"_parent\"><img src=\"https://colab.research.google.com/assets/colab-badge.svg\" alt=\"Open In Colab\"/></a>"
      ]
    },
    {
      "cell_type": "code",
      "execution_count": null,
      "metadata": {
        "colab": {
          "base_uri": "https://localhost:8080/"
        },
        "id": "azzl_DWZp9Zn",
        "outputId": "de677c4a-aff8-4172-f9fc-e4c3f54ce1c9"
      },
      "outputs": [
        {
          "output_type": "stream",
          "name": "stdout",
          "text": [
            "Enter number 5\n",
            "\n",
            "\n",
            "Sum is:  15\n"
          ]
        }
      ],
      "source": [
        "\n",
        "s = 0\n",
        "n = int(input(\"Enter number \"))\n",
        "\n",
        "for i in range(1, n + 1, 1):\n",
        "    \n",
        "    s += i\n",
        "print(\"\\n\")\n",
        "print(\"Sum is: \", s)\n"
      ]
    }
  ]
}