{
  "nbformat": 4,
  "nbformat_minor": 0,
  "metadata": {
    "colab": {
      "provenance": [],
      "authorship_tag": "ABX9TyN3qpCyUCSmuTdS4GPZUxwq",
      "include_colab_link": true
    },
    "kernelspec": {
      "name": "python3",
      "display_name": "Python 3"
    },
    "language_info": {
      "name": "python"
    }
  },
  "cells": [
    {
      "cell_type": "markdown",
      "metadata": {
        "id": "view-in-github",
        "colab_type": "text"
      },
      "source": [
        "<a href=\"https://colab.research.google.com/github/rxhith/PY_XTREME/blob/main/BeginnerBasics/LOOPs/sumlist(for).ipynb\" target=\"_parent\"><img src=\"https://colab.research.google.com/assets/colab-badge.svg\" alt=\"Open In Colab\"/></a>"
      ]
    },
    {
      "cell_type": "code",
      "execution_count": null,
      "metadata": {
        "colab": {
          "base_uri": "https://localhost:8080/"
        },
        "id": "L1jEznDDn7l0",
        "outputId": "ff86a754-17bf-46f8-a608-055689c7271e"
      },
      "outputs": [
        {
          "output_type": "stream",
          "name": "stdout",
          "text": [
            "Sum of numbers is 24\n"
          ]
        }
      ],
      "source": [
        "nums = (11, 2, 3, 8)\n",
        "\n",
        "sum_nums = 0\n",
        "\n",
        "for num in nums:\n",
        "    sum_nums = sum_nums + num\n",
        "\n",
        "print(f'Sum of numbers is {sum_nums}')\n"
      ]
    },
    {
      "cell_type": "code",
      "source": [],
      "metadata": {
        "id": "4brMEQEfoa8m"
      },
      "execution_count": null,
      "outputs": []
    }
  ]
}