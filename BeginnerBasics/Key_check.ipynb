{
  "nbformat": 4,
  "nbformat_minor": 0,
  "metadata": {
    "colab": {
      "provenance": [],
      "authorship_tag": "ABX9TyNHApxl8ZkR45F/sms5Im0j",
      "include_colab_link": true
    },
    "kernelspec": {
      "name": "python3",
      "display_name": "Python 3"
    },
    "language_info": {
      "name": "python"
    }
  },
  "cells": [
    {
      "cell_type": "markdown",
      "metadata": {
        "id": "view-in-github",
        "colab_type": "text"
      },
      "source": [
        "<a href=\"https://colab.research.google.com/github/jayanthmankavil/PY_XTREME/blob/main/BeginnerBasics/Key_check.ipynb\" target=\"_parent\"><img src=\"https://colab.research.google.com/assets/colab-badge.svg\" alt=\"Open In Colab\"/></a>"
      ]
    },
    {
      "cell_type": "code",
      "execution_count": 2,
      "metadata": {
        "colab": {
          "base_uri": "https://localhost:8080/"
        },
        "id": "70vqufawCTjN",
        "outputId": "2277fcb6-9fc8-4244-8975-b518b8bb758b"
      },
      "outputs": [
        {
          "output_type": "stream",
          "name": "stdout",
          "text": [
            "Enter key to check:B\n",
            "Key is present and value of the key is:\n",
            "2\n"
          ]
        }
      ],
      "source": [
        "d={'A':1,'B':2,'C':3}\n",
        "key=input(\"Enter key to check:\")\n",
        "if key in d.keys():\n",
        "      print(\"Key is present and value of the key is:\")\n",
        "      print(d[key])\n",
        "else:\n",
        "      print(\"Key isn't present!\")"
      ]
    }
  ]
}