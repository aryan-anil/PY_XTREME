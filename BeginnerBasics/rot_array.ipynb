{
  "nbformat": 4,
  "nbformat_minor": 0,
  "metadata": {
    "colab": {
      "provenance": [],
      "authorship_tag": "ABX9TyMIZ4Ira1I8Ym920EYxQ6T6",
      "include_colab_link": true
    },
    "kernelspec": {
      "name": "python3",
      "display_name": "Python 3"
    },
    "language_info": {
      "name": "python"
    }
  },
  "cells": [
    {
      "cell_type": "markdown",
      "metadata": {
        "id": "view-in-github",
        "colab_type": "text"
      },
      "source": [
        "<a href=\"https://colab.research.google.com/github/jayanthmankavil/PY_XTREME/blob/main/BeginnerBasics/rot_array.ipynb\" target=\"_parent\"><img src=\"https://colab.research.google.com/assets/colab-badge.svg\" alt=\"Open In Colab\"/></a>"
      ]
    },
    {
      "cell_type": "code",
      "execution_count": null,
      "metadata": {
        "colab": {
          "base_uri": "https://localhost:8080/"
        },
        "id": "p0_LBRrOk9Kc",
        "outputId": "387e9263-be66-4dd4-dddf-f9d3c4b4901c"
      },
      "outputs": [
        {
          "output_type": "stream",
          "name": "stdout",
          "text": [
            "Original array: \n",
            "1\n",
            "2\n",
            "3\n",
            "4\n",
            "5\n",
            "\n",
            "Array after right rotation: \n",
            "3\n",
            "4\n",
            "5\n",
            "1\n",
            "2\n"
          ]
        }
      ],
      "source": [
        "#Initialize array     \n",
        "arr = [1, 2, 3, 4, 5];     \n",
        "#n determine the number of times an array should be rotated    \n",
        "n = 3;    \n",
        "     \n",
        "#Displays original array    \n",
        "print(\"Original array: \");    \n",
        "for i in range(0, len(arr)):    \n",
        "    print(arr[i]),     \n",
        "     \n",
        "#Rotate the given array by n times toward right    \n",
        "for i in range(0, n):    \n",
        "    #Stores the last element of array    \n",
        "    last = arr[len(arr)-1];    \n",
        "        \n",
        "    for j in range(len(arr)-1, -1, -1):    \n",
        "        #Shift element of array by one    \n",
        "        arr[j] = arr[j-1];    \n",
        "            \n",
        "    #Last element of the array will be added to the start of the array.    \n",
        "    \n",
        "    arr[0] = last;    \n",
        "     \n",
        "print();    \n",
        "     \n",
        "#Displays resulting array after rotation    \n",
        "print(\"Array after right rotation: \");    \n",
        "for i in range(0, len(arr)):    \n",
        "    print(arr[i]),  "
      ]
    }
  ]
}