{
  "nbformat": 4,
  "nbformat_minor": 0,
  "metadata": {
    "colab": {
      "provenance": [],
      "authorship_tag": "ABX9TyNEGRlPZXwv5A4XuZn7dl8j",
      "include_colab_link": true
    },
    "kernelspec": {
      "name": "python3",
      "display_name": "Python 3"
    },
    "language_info": {
      "name": "python"
    }
  },
  "cells": [
    {
      "cell_type": "markdown",
      "metadata": {
        "id": "view-in-github",
        "colab_type": "text"
      },
      "source": [
        "<a href=\"https://colab.research.google.com/github/HarrelAlex/24req/blob/main/Untitled0.ipynb\" target=\"_parent\"><img src=\"https://colab.research.google.com/assets/colab-badge.svg\" alt=\"Open In Colab\"/></a>"
      ]
    },
    {
      "cell_type": "code",
      "execution_count": 1,
      "metadata": {
        "colab": {
          "base_uri": "https://localhost:8080/"
        },
        "id": "SsBNY9RvRYga",
        "outputId": "e72342bd-d1ce-4b23-edfc-cc21c8e72b03"
      },
      "outputs": [
        {
          "output_type": "stream",
          "name": "stdout",
          "text": [
            "Enter a string: Hello my name is Harrel\n",
            "The sorted words are:\n",
            "harrel\n",
            "hello\n",
            "is\n",
            "my\n",
            "name\n"
          ]
        }
      ],
      "source": [
        "\n",
        "my_str = input(\"Enter a string: \")\n",
        "\n",
        "words = [word.lower() for word in my_str.split()]\n",
        "\n",
        "words.sort()\n",
        "\n",
        "print(\"The sorted words are:\")\n",
        "for word in words:\n",
        "   print(word)"
      ]
    }
  ]
}
