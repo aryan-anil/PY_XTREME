{
  "nbformat": 4,
  "nbformat_minor": 0,
  "metadata": {
    "colab": {
      "provenance": [],
      "authorship_tag": "ABX9TyMVWzkASiudMY2gofA5K6wr",
      "include_colab_link": true
    },
    "kernelspec": {
      "name": "python3",
      "display_name": "Python 3"
    },
    "language_info": {
      "name": "python"
    }
  },
  "cells": [
    {
      "cell_type": "markdown",
      "metadata": {
        "id": "view-in-github",
        "colab_type": "text"
      },
      "source": [
        "<a href=\"https://colab.research.google.com/github/Maii347/PY_XTREME/blob/main/BeginnerBasics/FUNCTIONS/simple_function_code.ipynb\" target=\"_parent\"><img src=\"https://colab.research.google.com/assets/colab-badge.svg\" alt=\"Open In Colab\"/></a>"
      ]
    },
    {
      "cell_type": "code",
      "execution_count": 2,
      "metadata": {
        "colab": {
          "base_uri": "https://localhost:8080/"
        },
        "id": "iIJ8iX8_QVK_",
        "outputId": "94a98a2b-85f2-4804-fe8e-4cfde55f9a6c"
      },
      "outputs": [
        {
          "output_type": "stream",
          "name": "stdout",
          "text": [
            "Hello, this is a function for finding sum of two numbers.\n",
            "Sum of two numbers 5 and 3 is:  8\n"
          ]
        }
      ],
      "source": [
        "#A function is a block of code which only runs when it is called.\n",
        "#You can pass data, known as parameters, into a function.\n",
        "#A function can return data as a result.\n",
        "\n",
        "#A function is defined using the keyword 'def'\n",
        "\n",
        "def sum(a,b):\n",
        "  print(\"Hello, this is a function for finding sum of two numbers.\")\n",
        "  sum = a+b\n",
        "  return sum\n",
        "\n",
        "a = 5\n",
        "b = 3\n",
        "\n",
        "print(\"Sum of two numbers 5 and 3 is: \", sum(a,b))"
      ]
    }
  ]
}