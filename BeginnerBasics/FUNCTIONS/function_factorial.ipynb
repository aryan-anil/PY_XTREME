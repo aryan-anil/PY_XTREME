{
  "nbformat": 4,
  "nbformat_minor": 0,
  "metadata": {
    "colab": {
      "provenance": [],
      "authorship_tag": "ABX9TyPTA+LJ7FhVuQALNm4mjUpu",
      "include_colab_link": true
    },
    "kernelspec": {
      "name": "python3",
      "display_name": "Python 3"
    },
    "language_info": {
      "name": "python"
    }
  },
  "cells": [
    {
      "cell_type": "markdown",
      "metadata": {
        "id": "view-in-github",
        "colab_type": "text"
      },
      "source": [
        "<a href=\"https://colab.research.google.com/github/Maii347/PY_XTREME/blob/main/BeginnerBasics/FUNCTIONS/function_factorial.ipynb\" target=\"_parent\"><img src=\"https://colab.research.google.com/assets/colab-badge.svg\" alt=\"Open In Colab\"/></a>"
      ]
    },
    {
      "cell_type": "code",
      "execution_count": null,
      "metadata": {
        "id": "7PuUCIWrSkyL"
      },
      "outputs": [],
      "source": [
        "#recursive function for factorial\n",
        "def factorial(n):\n",
        "    if n == 1:\n",
        "        return n\n",
        "    else:\n",
        "        return n * factorial(n - 1)\n",
        "\n",
        "#input value here\n",
        "n = int(input(\" Enter the Number to find factorial value : \"))\n",
        "\n",
        "if n < 0:\n",
        "    print( \"Negative numbers can't be used, try again\" )\n",
        "elif n == 0:\n",
        "    print( \"Factorial value for 1 is 0\" )\n",
        "else:\n",
        "    print(\"Factorial value for the \", n , \" is: \" , factorial(n))"
      ]
    }
  ]
}