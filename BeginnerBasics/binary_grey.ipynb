{
  "nbformat": 4,
  "nbformat_minor": 0,
  "metadata": {
    "colab": {
      "provenance": [],
      "authorship_tag": "ABX9TyNJuuKB68TXsNZEs6j5xvBG",
      "include_colab_link": true
    },
    "kernelspec": {
      "name": "python3",
      "display_name": "Python 3"
    },
    "language_info": {
      "name": "python"
    }
  },
  "cells": [
    {
      "cell_type": "markdown",
      "metadata": {
        "id": "view-in-github",
        "colab_type": "text"
      },
      "source": [
        "<a href=\"https://colab.research.google.com/github/jayanthmankavil/PY_XTREME/blob/main/BeginnerBasics/binary_grey.ipynb\" target=\"_parent\"><img src=\"https://colab.research.google.com/assets/colab-badge.svg\" alt=\"Open In Colab\"/></a>"
      ]
    },
    {
      "cell_type": "code",
      "execution_count": 1,
      "metadata": {
        "colab": {
          "base_uri": "https://localhost:8080/"
        },
        "id": "M7G5ySvigA9c",
        "outputId": "514fbc16-5761-48a6-c4d6-01bac1e33b2b"
      },
      "outputs": [
        {
          "output_type": "stream",
          "name": "stdout",
          "text": [
            "Enter binary number: 1010100\n",
            "Gray codeword: 1111110\n"
          ]
        }
      ],
      "source": [
        "def binary_to_gray(n):\n",
        "    \"\"\"Convert Binary to Gray codeword and return it.\"\"\"\n",
        "    n = int(n, 2) # convert to int\n",
        "    n ^= (n >> 1)\n",
        " \n",
        "    # bin(n) returns n's binary representation with a '0b' prefixed\n",
        "    # the slice operation is to remove the prefix\n",
        "    return bin(n)[2:]\n",
        " \n",
        " \n",
        "g = input('Enter binary number: ')\n",
        "b = binary_to_gray(g)\n",
        "print('Gray codeword:', b)"
      ]
    },
    {
      "cell_type": "code",
      "source": [],
      "metadata": {
        "id": "F1LckytbhDgC"
      },
      "execution_count": null,
      "outputs": []
    }
  ]
}