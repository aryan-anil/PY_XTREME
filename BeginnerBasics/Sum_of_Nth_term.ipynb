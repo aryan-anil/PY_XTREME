{
  "nbformat": 4,
  "nbformat_minor": 0,
  "metadata": {
    "colab": {
      "provenance": [],
      "authorship_tag": "ABX9TyNTADtnZ01kZRWHP14sk1dH",
      "include_colab_link": true
    },
    "kernelspec": {
      "name": "python3",
      "display_name": "Python 3"
    },
    "language_info": {
      "name": "python"
    }
  },
  "cells": [
    {
      "cell_type": "markdown",
      "metadata": {
        "id": "view-in-github",
        "colab_type": "text"
      },
      "source": [
        "<a href=\"https://colab.research.google.com/github/gadhalekshmip/PY_XTREME/blob/main/BeginnerBasics/Sum_of_Nth_term.ipynb\" target=\"_parent\"><img src=\"https://colab.research.google.com/assets/colab-badge.svg\" alt=\"Open In Colab\"/></a>"
      ]
    },
    {
      "cell_type": "code",
      "execution_count": 11,
      "metadata": {
        "colab": {
          "base_uri": "https://localhost:8080/"
        },
        "id": "COAVX7aWvHSw",
        "outputId": "30da5ff7-5606-40ba-9968-e57833e62155"
      },
      "outputs": [
        {
          "output_type": "stream",
          "name": "stdout",
          "text": [
            "enter nth term:9\n",
            "1 + 1/2 + 1/3 + 1/4 + 1/5 + 1/6 + 1/7 + 1/8 + 1/9\n",
            "1.83\n"
          ]
        }
      ],
      "source": [
        "#gadhalekshmi p\n",
        "j=0\n",
        "series=[1]\n",
        "for i in range(2,int(input('enter nth term:'))+1):\n",
        "  j=j+1/i\n",
        "  series.append('1/{i}'.format(i=i))\n",
        "for i in range(len(series)):\n",
        "  print(series[i],end='')\n",
        "  if i!=len(series)-1:\n",
        "    print(' + ',end='')\n",
        "print()\n",
        "print('%.2f'%j)"
      ]
    }
  ]
}