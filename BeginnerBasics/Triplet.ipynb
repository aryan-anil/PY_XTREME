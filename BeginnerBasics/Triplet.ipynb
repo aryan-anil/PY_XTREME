{
  "nbformat": 4,
  "nbformat_minor": 0,
  "metadata": {
    "colab": {
      "provenance": [],
      "authorship_tag": "ABX9TyMELaam7oxIoAMs5xY7P/a4",
      "include_colab_link": true
    },
    "kernelspec": {
      "name": "python3",
      "display_name": "Python 3"
    },
    "language_info": {
      "name": "python"
    }
  },
  "cells": [
    {
      "cell_type": "markdown",
      "metadata": {
        "id": "view-in-github",
        "colab_type": "text"
      },
      "source": [
        "<a href=\"https://colab.research.google.com/github/HarrelAlex/24req/blob/main/Triplet.ipynb\" target=\"_parent\"><img src=\"https://colab.research.google.com/assets/colab-badge.svg\" alt=\"Open In Colab\"/></a>"
      ]
    },
    {
      "cell_type": "code",
      "execution_count": 4,
      "metadata": {
        "colab": {
          "base_uri": "https://localhost:8080/"
        },
        "id": "HOUt99fMy14V",
        "outputId": "ea02c16a-a36c-43d1-a01b-008418691f7d"
      },
      "outputs": [
        {
          "output_type": "stream",
          "name": "stdout",
          "text": [
            "Enter number 1:2\n",
            "Enter number 2:4\n",
            "Enter number 3:5\n",
            "Number is not triplet\n"
          ]
        }
      ],
      "source": [
        "def is_triplet(n1, n2, n3):\n",
        "\tl = [n1, n2, n3]\n",
        "\tpb = 0\n",
        "\th = max(l)\n",
        "\tfor i in l:\n",
        "\t\tif i != h:\n",
        "\t\t\tpb = pb + i**2\n",
        "\tif pb == h**2:\n",
        "\t\treturn True\n",
        "\treturn False\n",
        "\n",
        "n1=int(input(\"Enter number 1:\"))\n",
        "n2=int(input(\"Enter number 2:\"))\n",
        "n3=int(input(\"Enter number 3:\"))\n",
        "\n",
        "if(is_triplet(n1,n2,n3)):\n",
        "  print(\"Number is triplet\")\n",
        "else:\n",
        "  print(\"Number is not triplet\")"
      ]
    }
  ]
}
