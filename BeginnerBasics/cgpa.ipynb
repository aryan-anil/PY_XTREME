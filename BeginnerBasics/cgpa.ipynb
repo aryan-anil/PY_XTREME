{
  "nbformat": 4,
  "nbformat_minor": 0,
  "metadata": {
    "colab": {
      "provenance": []
    },
    "kernelspec": {
      "name": "python3",
      "display_name": "Python 3"
    },
    "language_info": {
      "name": "python"
    }
  },
  "cells": [
    {
      "cell_type": "code",
      "execution_count": 12,
      "metadata": {
        "id": "1s3XiPM7H9Z7",
        "colab": {
          "base_uri": "https://localhost:8080/"
        },
        "outputId": "13d6ad25-6ba4-42a1-8096-0cbf3b17c5a9"
      },
      "outputs": [
        {
          "output_type": "stream",
          "name": "stdout",
          "text": [
            "CGPA =  8.2\n",
            "CGPA Percentage =  77.90\n"
          ]
        }
      ],
      "source": [
        "#Joel Peter Joseph\n",
        "\n",
        "# Python3 program to calculate the CGPA\n",
        "# and CGPA percentage of a student\n",
        "def CgpaCalc(marks, n):\n",
        "\n",
        "\t# Variable to store the grades in\n",
        "\t# every subject\n",
        "\tgrade = [0] * n\n",
        "\n",
        "\t# Variables to store CGPA and the\n",
        "\t# sum of all the grades\n",
        "\tSum = 0\n",
        "\n",
        "\t# Computing the grades\n",
        "\tfor i in range(n):\n",
        "\t grade[i] = (marks[i] / 10)\n",
        "\n",
        "\t# Computing the sum of grades\n",
        "\tfor i in range(n):\n",
        "\t Sum += grade[i]\n",
        "\n",
        "\t# Computing the CGPA\n",
        "\tcgpa = Sum / n\n",
        "\n",
        "\treturn cgpa\n",
        "\n",
        "# Driver code\n",
        "n = 5\n",
        "marks = [ 90, 80, 70, 80, 90 ]\n",
        "\n",
        "cgpa = CgpaCalc(marks, n)\n",
        "\t\n",
        "print(\"CGPA = \", '%.1f' % cgpa)\n",
        "print(\"CGPA Percentage = \", '%.2f' % (cgpa * 9.5))\n",
        "\n",
        "# This code is contributed by divyeshrabadiya07\n"
      ]
    }
  ]
}