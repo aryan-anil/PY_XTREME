{
  "nbformat": 4,
  "nbformat_minor": 0,
  "metadata": {
    "colab": {
      "provenance": [],
      "authorship_tag": "ABX9TyNSr3jN7fmy8fWPyaEQKYPN",
      "include_colab_link": true
    },
    "kernelspec": {
      "name": "python3",
      "display_name": "Python 3"
    },
    "language_info": {
      "name": "python"
    }
  },
  "cells": [
    {
      "cell_type": "markdown",
      "metadata": {
        "id": "view-in-github",
        "colab_type": "text"
      },
      "source": [
        "<a href=\"https://colab.research.google.com/github/jayanthmankavil/PY_XTREME/blob/main/BeginnerBasics/byte_to_string.ipynb\" target=\"_parent\"><img src=\"https://colab.research.google.com/assets/colab-badge.svg\" alt=\"Open In Colab\"/></a>"
      ]
    },
    {
      "cell_type": "code",
      "execution_count": 1,
      "metadata": {
        "colab": {
          "base_uri": "https://localhost:8080/"
        },
        "id": "ZGkqo403ZYvl",
        "outputId": "10a69950-c21c-4576-948a-1b07155a4165"
      },
      "outputs": [
        {
          "output_type": "stream",
          "name": "stdout",
          "text": [
            "<class 'bytes'>\n",
            "<class 'str'>\n",
            "Lets eat a 🍕!\n"
          ]
        }
      ],
      "source": [
        "byteData = b\"Lets eat a \\xf0\\x9f\\x8d\\x95!\"  \n",
        "# Let's check the type  \n",
        "print(type(byteData))  \n",
        "str1 = byteData.decode('UTF-8')  \n",
        "print(type(str1))  \n",
        "print(str1)  "
      ]
    }
  ]
}