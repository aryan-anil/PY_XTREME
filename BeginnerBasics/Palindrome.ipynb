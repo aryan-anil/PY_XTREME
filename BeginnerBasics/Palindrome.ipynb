{
  "nbformat": 4,
  "nbformat_minor": 0,
  "metadata": {
    "colab": {
      "provenance": [],
      "authorship_tag": "ABX9TyOsup50E8cHnOddz0+exWvw",
      "include_colab_link": true
    },
    "kernelspec": {
      "name": "python3",
      "display_name": "Python 3"
    },
    "language_info": {
      "name": "python"
    }
  },
  "cells": [
    {
      "cell_type": "markdown",
      "metadata": {
        "id": "view-in-github",
        "colab_type": "text"
      },
      "source": [
        "<a href=\"https://colab.research.google.com/github/anirxudh/PY_XTREME/blob/main/BeginnerBasics/Palindrome.ipynb\" target=\"_parent\"><img src=\"https://colab.research.google.com/assets/colab-badge.svg\" alt=\"Open In Colab\"/></a>"
      ]
    },
    {
      "cell_type": "code",
      "execution_count": null,
      "metadata": {
        "colab": {
          "base_uri": "https://localhost:8080/"
        },
        "id": "wRrxJ2PVbjGe",
        "outputId": "b3a7eccf-0620-4a58-c4e8-b702605bb811"
      },
      "outputs": [
        {
          "output_type": "stream",
          "name": "stdout",
          "text": [
            "enter the string to be cheked: hello\n",
            "The string is not a palindrome.\n"
          ]
        }
      ],
      "source": [
        "# ANIRUDH S NAIR\n",
        "# STRING PALINDROME\n",
        "str1 = input(\"enter the string to be cheked: \")\n",
        "\n",
        "# make fit for caseless comparison\n",
        "str1 = str1.casefold()\n",
        "\n",
        "# reverse the string\n",
        "rev_str = reversed(str1)\n",
        "\n",
        "# check if the string is equal to its reverse\n",
        "if list(str1) == list(rev_str):\n",
        "   print(\"It is a palindrome\")\n",
        "else:\n",
        "   print(\"it is not a palindrome\")"
      ]
    }
  ]
}