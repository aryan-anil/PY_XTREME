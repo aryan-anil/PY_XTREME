{
  "cells": [
    {
      "cell_type": "code",
      "execution_count": 31,
      "metadata": {
        "colab": {
          "base_uri": "https://localhost:8080/"
        },
        "id": "N3GiIvRltslR",
        "outputId": "d1364778-4ab8-4790-afd4-1eed8ebc2518"
      },
      "outputs": [
        {
          "output_type": "stream",
          "name": "stdout",
          "text": [
            "Enter the mass:20\n",
            "Enter the acceleration:30\n",
            "The Force is: 600\n"
          ]
        }
      ],
      "source": [
        "#Joel Peter Joseph\n",
        "\n",
        "#Python program to calculate Force\n",
        "m=int(input(\"Enter the mass:\"))\n",
        "a=int(input(\"Enter the acceleration:\"))\n",
        "F=m*a\n",
        "print(\"The Force is:\",F)\n",
        "\n",
        "\n",
        "\n"
      ]
    }
  ],
  "metadata": {
    "colab": {
      "provenance": []
    },
    "kernelspec": {
      "display_name": "Python 3",
      "name": "python3"
    },
    "language_info": {
      "name": "python"
    }
  },
  "nbformat": 4,
  "nbformat_minor": 0
}