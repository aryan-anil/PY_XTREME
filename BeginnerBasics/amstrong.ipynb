{
  "nbformat": 4,
  "nbformat_minor": 0,
  "metadata": {
    "colab": {
      "provenance": [],
      "authorship_tag": "ABX9TyPPe6FfRQ5/SnMOvY6mWkrg",
      "include_colab_link": true
    },
    "kernelspec": {
      "name": "python3",
      "display_name": "Python 3"
    },
    "language_info": {
      "name": "python"
    }
  },
  "cells": [
    {
      "cell_type": "markdown",
      "metadata": {
        "id": "view-in-github",
        "colab_type": "text"
      },
      "source": [
        "<a href=\"https://colab.research.google.com/github/anirxudh/PY_XTREME/blob/main/BeginnerBasics/amstrong.ipynb\" target=\"_parent\"><img src=\"https://colab.research.google.com/assets/colab-badge.svg\" alt=\"Open In Colab\"/></a>"
      ]
    },
    {
      "cell_type": "code",
      "execution_count": null,
      "metadata": {
        "colab": {
          "base_uri": "https://localhost:8080/"
        },
        "id": "MhR1mXnuZLnT",
        "outputId": "f7f02d23-af27-41b4-a42c-df1d8601a29a"
      },
      "outputs": [
        {
          "output_type": "stream",
          "name": "stdout",
          "text": [
            "ENTER THE NUMBER TO CHECKED AMSTRONG OR NOT: 407\n",
            "407 is an Armstrong number\n"
          ]
        }
      ],
      "source": [
        "#ANIRUDH S NAIR\n",
        "#AMSTRONG NUMBER\n",
        "\n",
        "#get user input to be checked\n",
        "num=int(input(\"ENTER THE NUMBER TO CHECKED AMSTRONG OR NOT: \"))\n",
        "\n",
        "# intialise sum as 0\n",
        "sum=0\n",
        "\n",
        "# Changed num to string\n",
        "# calculate the number of digits\n",
        "n = len(str(num))\n",
        "\n",
        "# initialize sum\n",
        "sum = 0\n",
        "\n",
        "# find the sum of the cube of each digit\n",
        "temp = num\n",
        "while temp > 0:\n",
        "   digit = temp % 10\n",
        "   sum += digit ** n\n",
        "   temp //= 10\n",
        "\n",
        "# display the result\n",
        "if num == sum:\n",
        "   print(num,\"is an Armstrong number\")\n",
        "else:\n",
        "   print(num,\"is not an Armstrong number\")\n"
      ]
    }
  ]
}