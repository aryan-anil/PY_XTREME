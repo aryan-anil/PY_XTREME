{
  "nbformat": 4,
  "nbformat_minor": 0,
  "metadata": {
    "colab": {
      "provenance": [],
      "authorship_tag": "ABX9TyNCQ5NlDvM5kSXYu1BkWy/2",
      "include_colab_link": true
    },
    "kernelspec": {
      "name": "python3",
      "display_name": "Python 3"
    },
    "language_info": {
      "name": "python"
    }
  },
  "cells": [
    {
      "cell_type": "markdown",
      "metadata": {
        "id": "view-in-github",
        "colab_type": "text"
      },
      "source": [
        "<a href=\"https://colab.research.google.com/github/anirxudh/PY_XTREME/blob/main/BeginnerBasics/fibonacci_series.ipynb\" target=\"_parent\"><img src=\"https://colab.research.google.com/assets/colab-badge.svg\" alt=\"Open In Colab\"/></a>"
      ]
    },
    {
      "cell_type": "code",
      "execution_count": null,
      "metadata": {
        "colab": {
          "base_uri": "https://localhost:8080/"
        },
        "id": "_D1FPUZWXdiE",
        "outputId": "d1f3f551-be89-4002-f64c-35e6482f58cc"
      },
      "outputs": [
        {
          "output_type": "stream",
          "name": "stdout",
          "text": [
            "ENTER THE NUMBER OF TERMS TO BE DISPLAYED: 7\n",
            "Fibonacci sequence is :\n",
            "0 1 1 2 3 5 8 "
          ]
        }
      ],
      "source": [
        "#ANIRUDH S NAIR\n",
        "# FIBONACCI SERIES\n",
        "\n",
        "#get number of terms to be displayed\n",
        "\n",
        "n=int(input(\"ENTER THE NUMBER OF TERMS TO BE DISPLAYED: \"))\n",
        "\n",
        "#FIXING FIRST TWO DIGITS OF SERIES AS 0,1 AND A VARIABLE COUNT =0\n",
        "a,b=0,1\n",
        "count=0\n",
        "\n",
        "# check if the number of terms is valid\n",
        "if n <= 0:\n",
        "   print(\"Please enter a positive integer\")\n",
        "# if there is only one term, return a\n",
        "elif n == 1:\n",
        "   print(\"Fibonacci sequence upto\",n,\":\")\n",
        "   print(a)\n",
        "# make fibonacci sequence\n",
        "else:\n",
        "   print(\"Fibonacci sequence is :\")\n",
        "   while count < n:\n",
        "       print(a,end=\" \")\n",
        "       nth = a + b\n",
        "       # update values\n",
        "       a = b\n",
        "       b = nth\n",
        "       count += 1"
      ]
    }
  ]
}