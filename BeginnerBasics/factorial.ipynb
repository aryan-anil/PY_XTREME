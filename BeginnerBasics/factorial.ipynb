{
  "nbformat": 4,
  "nbformat_minor": 0,
  "metadata": {
    "colab": {
      "provenance": [],
      "authorship_tag": "ABX9TyMunW6FSIoogtE0HQy4jSfD",
      "include_colab_link": true
    },
    "kernelspec": {
      "name": "python3",
      "display_name": "Python 3"
    },
    "language_info": {
      "name": "python"
    }
  },
  "cells": [
    {
      "cell_type": "markdown",
      "metadata": {
        "id": "view-in-github",
        "colab_type": "text"
      },
      "source": [
        "<a href=\"https://colab.research.google.com/github/anirxudh/PY_XTREME/blob/main/BeginnerBasics/factorial.ipynb\" target=\"_parent\"><img src=\"https://colab.research.google.com/assets/colab-badge.svg\" alt=\"Open In Colab\"/></a>"
      ]
    },
    {
      "cell_type": "code",
      "execution_count": 2,
      "metadata": {
        "id": "SbyIvnEiVqRo",
        "colab": {
          "base_uri": "https://localhost:8080/"
        },
        "outputId": "ea5b9988-4182-4cf5-b354-2a2a7877344b"
      },
      "outputs": [
        {
          "output_type": "stream",
          "name": "stdout",
          "text": [
            "ENTER A NUMBER WHOSE FACTORIAL IS TO BE FOUND: 5\n",
            "The factorial of 5 is 120\n"
          ]
        }
      ],
      "source": [
        "#ANIRUDH S NAIR\n",
        "#FACTORIAL\n",
        "\n",
        "#get input whose factoprial is to be found\n",
        "\n",
        "a=int(input(\"ENTER A NUMBER WHOSE FACTORIAL IS TO BE FOUND: \"))\n",
        "fact=1\n",
        "if a<0:\n",
        "  print(\"factorial cannot be found\")\n",
        "\n",
        "elif a==0:\n",
        "  print(\"factorial of 0 is 1\")\n",
        "\n",
        "else:\n",
        "   for i in range(1,a + 1):\n",
        "       fact = fact*i\n",
        "   print(\"The factorial of\",a,\"is\",fact)"
      ]
    }
  ]
}