{
  "nbformat": 4,
  "nbformat_minor": 0,
  "metadata": {
    "colab": {
      "provenance": [],
      "authorship_tag": "ABX9TyPsuok/8PFNmmdlg+3m8tF5",
      "include_colab_link": true
    },
    "kernelspec": {
      "name": "python3",
      "display_name": "Python 3"
    },
    "language_info": {
      "name": "python"
    }
  },
  "cells": [
    {
      "cell_type": "markdown",
      "metadata": {
        "id": "view-in-github",
        "colab_type": "text"
      },
      "source": [
        "<a href=\"https://colab.research.google.com/github/jayanthmankavil/PY_XTREME/blob/main/BeginnerBasics/sum_in_dict.ipynb\" target=\"_parent\"><img src=\"https://colab.research.google.com/assets/colab-badge.svg\" alt=\"Open In Colab\"/></a>"
      ]
    },
    {
      "cell_type": "code",
      "execution_count": 1,
      "metadata": {
        "colab": {
          "base_uri": "https://localhost:8080/"
        },
        "id": "ohoxRwdk_19I",
        "outputId": "c791bc76-0442-4433-e65b-5a84a8c75328"
      },
      "outputs": [
        {
          "output_type": "stream",
          "name": "stdout",
          "text": [
            "Total sum of values in the dictionary:\n",
            "879\n"
          ]
        }
      ],
      "source": [
        "d={'A':100,'B':540,'C':239}\n",
        "print(\"Total sum of values in the dictionary:\")\n",
        "print(sum(d.values()))"
      ]
    }
  ]
}