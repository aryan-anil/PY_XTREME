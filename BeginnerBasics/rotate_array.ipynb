{
  "nbformat": 4,
  "nbformat_minor": 0,
  "metadata": {
    "colab": {
      "provenance": [],
      "authorship_tag": "ABX9TyMYeka3qhU2LiiKkDn7DvPD",
      "include_colab_link": true
    },
    "kernelspec": {
      "name": "python3",
      "display_name": "Python 3"
    },
    "language_info": {
      "name": "python"
    }
  },
  "cells": [
    {
      "cell_type": "markdown",
      "metadata": {
        "id": "view-in-github",
        "colab_type": "text"
      },
      "source": [
        "<a href=\"https://colab.research.google.com/github/HarrelAlex/24req/blob/main/BeginnerBasics.ipynb\" target=\"_parent\"><img src=\"https://colab.research.google.com/assets/colab-badge.svg\" alt=\"Open In Colab\"/></a>"
      ]
    },
    {
      "cell_type": "code",
      "execution_count": 3,
      "metadata": {
        "colab": {
          "base_uri": "https://localhost:8080/"
        },
        "id": "7VySyFRPY8SU",
        "outputId": "cccdcb76-d46c-4b5b-d02e-36adf66e4578"
      },
      "outputs": [
        {
          "output_type": "stream",
          "name": "stdout",
          "text": [
            "Enter number of elements : 5\n",
            "8\n",
            "4\n",
            "11\n",
            "9\n",
            "3\n",
            "[8, 4, 11, 9, 3]\n",
            "Array after left rotation of first 2 elements is:  [11, 9, 3, 8, 4]\n"
          ]
        }
      ],
      "source": [
        "\n",
        "def rotateArray(arr, n, d):\n",
        "\ttemp = []\n",
        "\ti = 0\n",
        "\twhile (i < d):\n",
        "\t\ttemp.append(arr[i])\n",
        "\t\ti = i + 1\n",
        "\ti = 0\n",
        "\twhile (d < n):\n",
        "\t\tarr[i] = arr[d]\n",
        "\t\ti = i + 1\n",
        "\t\td = d + 1\n",
        "\tarr[:] = arr[: i] + temp\n",
        "\treturn arr\n",
        "\n",
        "lst = []\n",
        "\n",
        "n = int(input(\"Enter number of elements : \"))\n",
        "\n",
        "for i in range(0, n):\n",
        "\tele = int(input())\n",
        "\n",
        "\tlst.append(ele)\n",
        "\t\n",
        "print(lst)\n",
        "print(\"Array after left rotation of first 2 elements is: \", end=' ')\n",
        "print(rotateArray(lst, len(lst), 2))\n"
      ]
    }
  ]
}
