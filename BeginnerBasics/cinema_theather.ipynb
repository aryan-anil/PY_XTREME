{
  "nbformat": 4,
  "nbformat_minor": 0,
  "metadata": {
    "colab": {
      "provenance": [],
      "authorship_tag": "ABX9TyM39e2J0e0t+phgX9Ff3RUO",
      "include_colab_link": true
    },
    "kernelspec": {
      "name": "python3",
      "display_name": "Python 3"
    },
    "language_info": {
      "name": "python"
    }
  },
  "cells": [
    {
      "cell_type": "markdown",
      "metadata": {
        "id": "view-in-github",
        "colab_type": "text"
      },
      "source": [
        "<a href=\"https://colab.research.google.com/github/jayanthmankavil/PY_XTREME/blob/main/BeginnerBasics/cinema_theather.ipynb\" target=\"_parent\"><img src=\"https://colab.research.google.com/assets/colab-badge.svg\" alt=\"Open In Colab\"/></a>"
      ]
    },
    {
      "cell_type": "code",
      "execution_count": 5,
      "metadata": {
        "colab": {
          "base_uri": "https://localhost:8080/"
        },
        "id": "QclNs2KoTvHZ",
        "outputId": "e2d9e7b3-4e77-4900-8687-8487206549de"
      },
      "outputs": [
        {
          "output_type": "stream",
          "name": "stdout",
          "text": [
            "Press (1) for Cinema, (2) for Theater : 1\n",
            "Are you student(Y/N) : y\n",
            " The fee you have to pay :5.0\n"
          ]
        }
      ],
      "source": [
        "selection = input(\"Press (1) for Cinema, (2) for Theater : \")\n",
        "student = input(\"Are you student(Y/N) : \")\n",
        "price = 0\n",
        "#non-discounted fee calculation\n",
        "if selection == '1':\n",
        "  price = 10 #cinema\n",
        "elif selection == '2':\n",
        "  price = 5 #theatre\n",
        "#student discount\n",
        "if student =='Y' or student =='y':\n",
        "  price=price / 2  #%50\n",
        "print(\" The fee you have to pay :{}\".format(price))"
      ]
    }
  ]
}