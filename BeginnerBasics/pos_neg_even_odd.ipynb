{
  "nbformat": 4,
  "nbformat_minor": 0,
  "metadata": {
    "colab": {
      "provenance": [],
      "authorship_tag": "ABX9TyOrbiFfjooNCB7PPW2DxkuH",
      "include_colab_link": true
    },
    "kernelspec": {
      "name": "python3",
      "display_name": "Python 3"
    },
    "language_info": {
      "name": "python"
    }
  },
  "cells": [
    {
      "cell_type": "markdown",
      "metadata": {
        "id": "view-in-github",
        "colab_type": "text"
      },
      "source": [
        "<a href=\"https://colab.research.google.com/github/jayanthmankavil/PY_XTREME/blob/main/BeginnerBasics/pos_neg_even_odd.ipynb\" target=\"_parent\"><img src=\"https://colab.research.google.com/assets/colab-badge.svg\" alt=\"Open In Colab\"/></a>"
      ]
    },
    {
      "cell_type": "code",
      "execution_count": 1,
      "metadata": {
        "colab": {
          "base_uri": "https://localhost:8080/"
        },
        "id": "DRM5BIfeMDKh",
        "outputId": "d2216f7f-c856-4e77-b505-1b3eef230db8"
      },
      "outputs": [
        {
          "output_type": "stream",
          "name": "stdout",
          "text": [
            "Enter the number of elements to be in the list:5\n",
            "Element: -1\n",
            "Element: -2\n",
            "Element: 5\n",
            "Element: 2\n",
            "Element: 1\n",
            "Sum of all positive even numbers: 2\n",
            "Sum of all positive odd numbers: 6\n",
            "Sum of all negative numbers: -3\n"
          ]
        }
      ],
      "source": [
        "n=int(input(\"Enter the number of elements to be in the list:\"))\n",
        "b=[]\n",
        "for i in range(0,n):\n",
        "    a=int(input(\"Element: \"))\n",
        "    b.append(a)\n",
        "sum1=0\n",
        "sum2=0\n",
        "sum3=0\n",
        "for j in b:\n",
        "    if(j>0):\n",
        "        if(j%2==0):\n",
        "            sum1=sum1+j\n",
        "        else:\n",
        "            sum2=sum2+j\n",
        "    else:\n",
        "        sum3=sum3+j\n",
        "print(\"Sum of all positive even numbers:\",sum1)\n",
        "print(\"Sum of all positive odd numbers:\",sum2)\n",
        "print(\"Sum of all negative numbers:\",sum3)"
      ]
    }
  ]
}