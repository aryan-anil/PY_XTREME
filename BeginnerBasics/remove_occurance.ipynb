{
  "nbformat": 4,
  "nbformat_minor": 0,
  "metadata": {
    "colab": {
      "provenance": [],
      "authorship_tag": "ABX9TyN8G7eMDPZH3MDrlCLz7OER",
      "include_colab_link": true
    },
    "kernelspec": {
      "name": "python3",
      "display_name": "Python 3"
    },
    "language_info": {
      "name": "python"
    }
  },
  "cells": [
    {
      "cell_type": "markdown",
      "metadata": {
        "id": "view-in-github",
        "colab_type": "text"
      },
      "source": [
        "<a href=\"https://colab.research.google.com/github/jayanthmankavil/PY_XTREME/blob/main/BeginnerBasics/remove_occurance.ipynb\" target=\"_parent\"><img src=\"https://colab.research.google.com/assets/colab-badge.svg\" alt=\"Open In Colab\"/></a>"
      ]
    },
    {
      "cell_type": "code",
      "execution_count": 2,
      "metadata": {
        "colab": {
          "base_uri": "https://localhost:8080/"
        },
        "id": "-z0InKlLHTQB",
        "outputId": "86ed1af0-f725-4877-9bbc-c19d8878b521"
      },
      "outputs": [
        {
          "output_type": "stream",
          "name": "stdout",
          "text": [
            "Enter the number of elements in list:3\n",
            "Enter element1:a\n",
            "Enter element2:a\n",
            "Enter element3:b\n",
            "['a', 'a', 'b']\n",
            "Enter word to remove: a\n",
            "Enter the occurrence to remove: 1\n",
            "The number of repetitions is:  2\n",
            "Updated list is:  ['a', 'b']\n",
            "The distinct elements are:  {'a', 'b'}\n"
          ]
        }
      ],
      "source": [
        "a=[]\n",
        "n= int(input(\"Enter the number of elements in list:\"))\n",
        "for x in range(0,n):\n",
        "    element=input(\"Enter element\" + str(x+1) + \":\")\n",
        "    a.append(element)\n",
        "print(a)\n",
        "c=[]\n",
        "count=0\n",
        "b=input(\"Enter word to remove: \")\n",
        "n=int(input(\"Enter the occurrence to remove: \"))\n",
        "for i in a:\n",
        "    if(i==b):\n",
        "        count=count+1\n",
        "        if(count!=n):\n",
        "            c.append(i)\n",
        "    else:\n",
        "        c.append(i)\n",
        "if(count==0):\n",
        "    print(\"Item not found \")\n",
        "else: \n",
        "    print(\"The number of repetitions is: \",count)\n",
        "    print(\"Updated list is: \",c)\n",
        "    print(\"The distinct elements are: \",set(a))"
      ]
    }
  ]
}