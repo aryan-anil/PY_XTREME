{
  "nbformat": 4,
  "nbformat_minor": 0,
  "metadata": {
    "colab": {
      "provenance": [],
      "authorship_tag": "ABX9TyO+TzwCYhdBvjQ0mXwxNqq3",
      "include_colab_link": true
    },
    "kernelspec": {
      "name": "python3",
      "display_name": "Python 3"
    },
    "language_info": {
      "name": "python"
    }
  },
  "cells": [
    {
      "cell_type": "markdown",
      "metadata": {
        "id": "view-in-github",
        "colab_type": "text"
      },
      "source": [
        "<a href=\"https://colab.research.google.com/github/jayanthmankavil/PY_XTREME/blob/main/BeginnerBasics/sum_of_nested_list.ipynb\" target=\"_parent\"><img src=\"https://colab.research.google.com/assets/colab-badge.svg\" alt=\"Open In Colab\"/></a>"
      ]
    },
    {
      "cell_type": "code",
      "execution_count": 1,
      "metadata": {
        "colab": {
          "base_uri": "https://localhost:8080/"
        },
        "id": "zqexa2yVGpz8",
        "outputId": "26591274-d32d-45b3-99ed-e27f96616fb6"
      },
      "outputs": [
        {
          "output_type": "stream",
          "name": "stdout",
          "text": [
            "Sum is: 10\n"
          ]
        }
      ],
      "source": [
        "def sum1(lst):\n",
        "    total = 0\n",
        "    for element in lst:\n",
        "        if (type(element) == type([])):\n",
        "            total = total + sum1(element)\n",
        "        else:\n",
        "            total = total + element\n",
        "    return total\n",
        "print( \"Sum is:\",sum1([[1,2],[3,4]]))"
      ]
    }
  ]
}