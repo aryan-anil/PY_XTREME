{
  "nbformat": 4,
  "nbformat_minor": 0,
  "metadata": {
    "colab": {
      "provenance": [],
      "authorship_tag": "ABX9TyPrH+cSXZJaUBJ2bf1GjL4l",
      "include_colab_link": true
    },
    "kernelspec": {
      "name": "python3",
      "display_name": "Python 3"
    },
    "language_info": {
      "name": "python"
    }
  },
  "cells": [
    {
      "cell_type": "markdown",
      "metadata": {
        "id": "view-in-github",
        "colab_type": "text"
      },
      "source": [
        "<a href=\"https://colab.research.google.com/github/jayanthmankavil/PY_XTREME/blob/main/BeginnerBasics/rightmost_bit.ipynb\" target=\"_parent\"><img src=\"https://colab.research.google.com/assets/colab-badge.svg\" alt=\"Open In Colab\"/></a>"
      ]
    },
    {
      "cell_type": "code",
      "execution_count": 1,
      "metadata": {
        "colab": {
          "base_uri": "https://localhost:8080/"
        },
        "id": "lPHWomEviIK2",
        "outputId": "8d93adff-a07f-42a9-94a6-2ec3080b024d"
      },
      "outputs": [
        {
          "output_type": "stream",
          "name": "stdout",
          "text": [
            "Enter a number: 1000001\n",
            "n with its rightmost set bit cleared equals: 1000000\n"
          ]
        }
      ],
      "source": [
        "def clear_rightmost_set_bit(n):\n",
        "    \"\"\"Clear rightmost set bit of n and return it.\"\"\"\n",
        "    return n & (n - 1)\n",
        " \n",
        " \n",
        "n = int(input('Enter a number: '))\n",
        "ans = clear_rightmost_set_bit(n)\n",
        "print('n with its rightmost set bit cleared equals:', ans)"
      ]
    }
  ]
}