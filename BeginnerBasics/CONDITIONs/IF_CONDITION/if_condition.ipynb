{
  "nbformat": 4,
  "nbformat_minor": 0,
  "metadata": {
    "colab": {
      "provenance": [],
      "authorship_tag": "ABX9TyNYfKXVMcbf231QH3wMlQG/",
      "include_colab_link": true
    },
    "kernelspec": {
      "name": "python3",
      "display_name": "Python 3"
    },
    "language_info": {
      "name": "python"
    }
  },
  "cells": [
    {
      "cell_type": "markdown",
      "metadata": {
        "id": "view-in-github",
        "colab_type": "text"
      },
      "source": [
        "<a href=\"https://colab.research.google.com/github/akhilamoh/PY_XTREME/blob/main/if_condition.ipynb\" target=\"_parent\"><img src=\"https://colab.research.google.com/assets/colab-badge.svg\" alt=\"Open In Colab\"/></a>"
      ]
    },
    {
      "cell_type": "code",
      "execution_count": 5,
      "metadata": {
        "colab": {
          "base_uri": "https://localhost:8080/"
        },
        "id": "71GgYxqi5c3I",
        "outputId": "57bfe642-8d73-4a62-8e65-0dcb6cc70993"
      },
      "outputs": [
        {
          "output_type": "stream",
          "name": "stdout",
          "text": [
            "enter the number to be checked: 80\n",
            "positive number\n"
          ]
        }
      ],
      "source": [
        "# basic if condition program\n",
        "#check whether a number is positive or not\n",
        "num=int(input(\"enter the number to be checked: \"))\n",
        "if num>=0:\n",
        "  print(\"positive number\")\n"
      ]
    }
  ]
}
