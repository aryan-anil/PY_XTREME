{
  "nbformat": 4,
  "nbformat_minor": 0,
  "metadata": {
    "colab": {
      "provenance": [],
      "authorship_tag": "ABX9TyO5SVMjeB6KfLTSz18pOA5L",
      "include_colab_link": true
    },
    "kernelspec": {
      "name": "python3",
      "display_name": "Python 3"
    },
    "language_info": {
      "name": "python"
    }
  },
  "cells": [
    {
      "cell_type": "markdown",
      "metadata": {
        "id": "view-in-github",
        "colab_type": "text"
      },
      "source": [
        "<a href=\"https://colab.research.google.com/github/akhilamoh/PY_XTREME/blob/main/if_else.ipynb\" target=\"_parent\"><img src=\"https://colab.research.google.com/assets/colab-badge.svg\" alt=\"Open In Colab\"/></a>"
      ]
    },
    {
      "cell_type": "code",
      "execution_count": 4,
      "metadata": {
        "id": "MrNiMs6zArOw",
        "colab": {
          "base_uri": "https://localhost:8080/"
        },
        "outputId": "a5a6f30d-1794-42d4-c427-2c45a364b08e"
      },
      "outputs": [
        {
          "output_type": "stream",
          "name": "stdout",
          "text": [
            "enter the number to be checked: 9\n",
            "9 is odd number\n"
          ]
        }
      ],
      "source": [
        "#basic if else program\n",
        "#check for even and odd numbers\n",
        "num=int(input(\"enter the number to be checked: \"))\n",
        "if num%2==0:\n",
        "  print(num,\"is even number\")\n",
        "else:\n",
        "  print(num,\"is odd number\")"
      ]
    }
  ]
}
