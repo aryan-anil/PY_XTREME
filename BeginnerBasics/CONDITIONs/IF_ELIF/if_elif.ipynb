{
  "nbformat": 4,
  "nbformat_minor": 0,
  "metadata": {
    "colab": {
      "provenance": [],
      "authorship_tag": "ABX9TyMalOPNla6Iv+fovT0zgOQ+",
      "include_colab_link": true
    },
    "kernelspec": {
      "name": "python3",
      "display_name": "Python 3"
    },
    "language_info": {
      "name": "python"
    }
  },
  "cells": [
    {
      "cell_type": "markdown",
      "metadata": {
        "id": "view-in-github",
        "colab_type": "text"
      },
      "source": [
        "<a href=\"https://colab.research.google.com/github/akhilamoh/PY_XTREME/blob/main/if_elif.ipynb\" target=\"_parent\"><img src=\"https://colab.research.google.com/assets/colab-badge.svg\" alt=\"Open In Colab\"/></a>"
      ]
    },
    {
      "cell_type": "code",
      "execution_count": 3,
      "metadata": {
        "colab": {
          "base_uri": "https://localhost:8080/"
        },
        "id": "tiPKuQx4IJKV",
        "outputId": "66fdf569-9093-4629-a3f9-bc463147340d"
      },
      "outputs": [
        {
          "output_type": "stream",
          "name": "stdout",
          "text": [
            "enter the first number: 4\n",
            "enter the second number: 7\n",
            "enter the third number: 10\n",
            "10 is the largest number\n"
          ]
        }
      ],
      "source": [
        "# basic program for if-elif\n",
        "# to find larget of three numbers\n",
        "a=int(input(\"enter the first number: \"))\n",
        "b=int(input(\"enter the second number: \"))\n",
        "c=int(input(\"enter the third number: \"))\n",
        "\n",
        "if a>b and a>c :\n",
        "  print(a,\"is the largest number\")\n",
        "elif b>a and b>c :\n",
        "  print(b,\"is the largest number\")\n",
        "else :\n",
        "  print(c,\"is the largest number\")"
      ]
    }
  ]
}
