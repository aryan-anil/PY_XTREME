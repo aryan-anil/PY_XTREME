{
  "nbformat": 4,
  "nbformat_minor": 0,
  "metadata": {
    "colab": {
      "provenance": [],
      "authorship_tag": "ABX9TyOA5Oft/okWWPzm1Kjq3pbW",
      "include_colab_link": true
    },
    "kernelspec": {
      "name": "python3",
      "display_name": "Python 3"
    },
    "language_info": {
      "name": "python"
    }
  },
  "cells": [
    {
      "cell_type": "markdown",
      "metadata": {
        "id": "view-in-github",
        "colab_type": "text"
      },
      "source": [
        "<a href=\"https://colab.research.google.com/github/anirxudh/PY_XTREME/blob/main/BeginnerBasics/lcm%26hcf.ipynb\" target=\"_parent\"><img src=\"https://colab.research.google.com/assets/colab-badge.svg\" alt=\"Open In Colab\"/></a>"
      ]
    },
    {
      "cell_type": "code",
      "execution_count": 5,
      "metadata": {
        "colab": {
          "base_uri": "https://localhost:8080/"
        },
        "id": "YBTGjrDU7vHb",
        "outputId": "ec5af21b-c06d-4ea4-d013-9948eee68dcb"
      },
      "outputs": [
        {
          "output_type": "stream",
          "name": "stdout",
          "text": [
            "ENTER FIRST NUMBER: 12\n",
            "ENTER SECOND NUMBER: 16\n",
            "HCF of the numbers is:  4\n",
            "LCM of the two numbers is:  48\n"
          ]
        }
      ],
      "source": [
        "# ANIRUDH S NAIR\n",
        "# LCM and HCF OF TWO NUMBERS\n",
        "\n",
        "# get user input\n",
        "a=int(input(\"ENTER FIRST NUMBER: \"))\n",
        "b=int(input(\"ENTER SECOND NUMBER: \"))\n",
        "\n",
        "HCF=1\n",
        " \n",
        "for i in range(2,a+1):\n",
        "    if(a%i==0 and b%i==0):\n",
        "        HCF = i\n",
        "# print the HCF\n",
        "print(\"HCF of the numbers is: \",HCF)\n",
        "\n",
        "# To find the LCM of numbers\n",
        "LCM = int((a*b)/(HCF))\n",
        "print(\"LCM of the two numbers is: \",LCM)"
      ]
    }
  ]
}