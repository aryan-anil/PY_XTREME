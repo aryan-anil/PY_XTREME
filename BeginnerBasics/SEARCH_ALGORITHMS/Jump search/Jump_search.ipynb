{
  "nbformat": 4,
  "nbformat_minor": 0,
  "metadata": {
    "colab": {
      "provenance": [],
      "authorship_tag": "ABX9TyMNjk1pBuQVY3H4Y2842tmj",
      "include_colab_link": true
    },
    "kernelspec": {
      "name": "python3",
      "display_name": "Python 3"
    },
    "language_info": {
      "name": "python"
    }
  },
  "cells": [
    {
      "cell_type": "markdown",
      "metadata": {
        "id": "view-in-github",
        "colab_type": "text"
      },
      "source": [
        "<a href=\"https://colab.research.google.com/github/Maii347/PY_XTREME/blob/main/BeginnerBasics/SEARCH_ALGORITHMS/Jump%20search/Jump_search.ipynb\" target=\"_parent\"><img src=\"https://colab.research.google.com/assets/colab-badge.svg\" alt=\"Open In Colab\"/></a>"
      ]
    },
    {
      "cell_type": "code",
      "execution_count": null,
      "metadata": {
        "id": "26jkyA0c9QSx"
      },
      "outputs": [],
      "source": [
        "# Python3 code to implement Jump Search\n",
        "import math\n",
        "  \n",
        "def jumpSearch( list , x , n ):\n",
        "      \n",
        "    # Finding block size to be jumped\n",
        "    step = math.sqrt(n)\n",
        "      \n",
        "    # Finding the block where element is\n",
        "    # present (if it is present)\n",
        "    prev = 0\n",
        "    while list[int(min(step, n)-1)] < x:\n",
        "        prev = step\n",
        "        step += math.sqrt(n)\n",
        "        if prev >= n:\n",
        "            return -1\n",
        "      \n",
        "    # Doing a linear search for x in \n",
        "    # block beginning with prev.\n",
        "    while list[int(prev)] < x:\n",
        "        prev += 1\n",
        "          \n",
        "        # If we reached next block or end \n",
        "        # of listay, element is not present.\n",
        "        if prev == min(step, n):\n",
        "            return -1\n",
        "      \n",
        "    # If element is found\n",
        "    if list[int(prev)] == x:\n",
        "        return prev\n",
        "      \n",
        "    return -1\n",
        "  \n",
        "n = int(input(\"Enter number of elements : \"))\n",
        "\n",
        "#getting the elements\n",
        "list =[]\n",
        "for i in range(n):\n",
        "    element = int(input(\"Enter element : \"))\n",
        "    list.append(element)\n",
        "\n",
        "x = int(input(\"Enter the element to search for : \"))\n",
        " \n",
        "flag = jumpSearch(list, x, n)\n",
        "\n",
        "if (flag != -1):\n",
        "    print(\"Number found\")\n",
        "else:\n",
        "    print(\"Number not found\")"
      ]
    }
  ]
}