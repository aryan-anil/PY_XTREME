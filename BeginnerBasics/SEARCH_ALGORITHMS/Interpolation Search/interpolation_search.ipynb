{
  "nbformat": 4,
  "nbformat_minor": 0,
  "metadata": {
    "colab": {
      "provenance": [],
      "authorship_tag": "ABX9TyPDtPkNgRZYC7lQKFUHERaC",
      "include_colab_link": true
    },
    "kernelspec": {
      "name": "python3",
      "display_name": "Python 3"
    },
    "language_info": {
      "name": "python"
    }
  },
  "cells": [
    {
      "cell_type": "markdown",
      "metadata": {
        "id": "view-in-github",
        "colab_type": "text"
      },
      "source": [
        "<a href=\"https://colab.research.google.com/github/Lekshmi-D/PY_XTREME/blob/main/BeginnerBasics/SEARCH_ALGORITHMS/Interpolation%20Search/interpolation_search.ipynb\" target=\"_parent\"><img src=\"https://colab.research.google.com/assets/colab-badge.svg\" alt=\"Open In Colab\"/></a>"
      ]
    },
    {
      "cell_type": "code",
      "execution_count": 3,
      "metadata": {
        "colab": {
          "base_uri": "https://localhost:8080/"
        },
        "id": "VbXpv0iW1gwd",
        "outputId": "a17e5abf-d0f8-4418-e96c-af4a93ff10fb"
      },
      "outputs": [
        {
          "output_type": "stream",
          "name": "stdout",
          "text": [
            "Element found at index 1\n"
          ]
        }
      ],
      "source": [
        "def interpolationSearch(A, target):\n",
        " \n",
        "    # base case\n",
        "    if not A:\n",
        "        return -1\n",
        " \n",
        "    # search space is A[left…right]\n",
        "    (left, right) = (0, len(A) - 1)\n",
        " \n",
        "    while A[right] != A[left] and A[left] <= target <= A[right]:\n",
        " \n",
        "        # estimate mid\n",
        "        mid = left + (target - A[left]) * (right - left) // (A[right] - A[left])\n",
        " \n",
        "        # key is found\n",
        "        if target == A[mid]:\n",
        "            return mid\n",
        "        # discard all elements in the right search space, including the middle element\n",
        "        elif target < A[mid]:\n",
        "            right = mid - 1\n",
        "        # discard all elements in the left search space, including the middle element\n",
        "        else:\n",
        "            left = mid + 1\n",
        " \n",
        "    # if the key is found\n",
        "    if target == A[left]:\n",
        "        return left\n",
        " \n",
        "    # target doesn't exist in the list\n",
        "    return -1\n",
        " \n",
        " \n",
        "if __name__ == '__main__':\n",
        " \n",
        "    A = [2, 5, 6, 8, 9, 10]\n",
        "    key = 5\n",
        " \n",
        "    index = interpolationSearch(A, key)\n",
        " \n",
        "    if index != -1:\n",
        "        print('Element found at index', index)\n",
        "    else:\n",
        "        print('Element found not in the list')"
      ]
    }
  ]
}