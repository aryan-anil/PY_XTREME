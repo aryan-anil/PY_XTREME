{
  "nbformat": 4,
  "nbformat_minor": 0,
  "metadata": {
    "colab": {
      "provenance": [],
      "authorship_tag": "ABX9TyNZ+PGbApL56rfitlmi6DC+",
      "include_colab_link": true
    },
    "kernelspec": {
      "name": "python3",
      "display_name": "Python 3"
    },
    "language_info": {
      "name": "python"
    }
  },
  "cells": [
    {
      "cell_type": "markdown",
      "metadata": {
        "id": "view-in-github",
        "colab_type": "text"
      },
      "source": [
        "<a href=\"https://colab.research.google.com/github/Maii347/PY_XTREME/blob/main/BeginnerBasics/SEARCH_ALGORITHMS/BinarySearch/binary_search_recursive.ipynb\" target=\"_parent\"><img src=\"https://colab.research.google.com/assets/colab-badge.svg\" alt=\"Open In Colab\"/></a>"
      ]
    },
    {
      "cell_type": "code",
      "execution_count": 1,
      "metadata": {
        "colab": {
          "base_uri": "https://localhost:8080/"
        },
        "id": "6ZWjGlDP94Qs",
        "outputId": "210a1440-5144-4f2b-ca72-0ca3393a0371"
      },
      "outputs": [
        {
          "output_type": "stream",
          "name": "stdout",
          "text": [
            "Enter number of elements :7\n",
            "Enter element :3\n",
            "Enter element :4\n",
            "Enter element :2\n",
            "Enter element :1\n",
            "Enter element :7\n",
            "Enter element :8\n",
            "Enter element :9\n",
            "Enter number to search for :8\n",
            "Element is present\n"
          ]
        }
      ],
      "source": [
        "# Python3 program for recursive binary search.\n",
        "\n",
        "def binary_search(list, low, high, n):\n",
        "    if high >= low:\n",
        "        mid = (high + low) // 2\n",
        "        # If element is present at the middle itself\n",
        "        if list[mid] == n:\n",
        "            return mid\n",
        "        elif list[mid] > n:\n",
        "            return binary_search(list, low, mid - 1, n)\n",
        "        else:\n",
        "            return binary_search(list, mid + 1, high, n)\n",
        "    else:\n",
        "        # Element is not present in the array\n",
        "        return -1\n",
        "\n",
        "y = int(input(\"Enter number of elements :\"))\n",
        "\n",
        "#getting the elements\n",
        "list =[]\n",
        "for i in range(y):\n",
        "    element = int(input(\"Enter element :\"))\n",
        "    list.append(element)\n",
        "\n",
        "n = int(input(\"Enter number to search for :\"))\n",
        "\n",
        "#sort the list using sort() method\n",
        "list.sort()\n",
        "\n",
        "# Function call\n",
        "result = binary_search(list, 0, len(list)-1, n)\n",
        " \n",
        "if result != -1:\n",
        "    print(\"Element is present\")\n",
        "else:\n",
        "    print(\"Element is not present in array\")"
      ]
    }
  ]
}