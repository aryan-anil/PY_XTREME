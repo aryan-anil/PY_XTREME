{
  "nbformat": 4,
  "nbformat_minor": 0,
  "metadata": {
    "colab": {
      "provenance": [],
      "authorship_tag": "ABX9TyN6hj3BHyd6mh688c/k11GS",
      "include_colab_link": true
    },
    "kernelspec": {
      "name": "python3",
      "display_name": "Python 3"
    },
    "language_info": {
      "name": "python"
    }
  },
  "cells": [
    {
      "cell_type": "markdown",
      "metadata": {
        "id": "view-in-github",
        "colab_type": "text"
      },
      "source": [
        "<a href=\"https://colab.research.google.com/github/akhilamoh/PY_XTREME/blob/main/binary_search.ipynb\" target=\"_parent\"><img src=\"https://colab.research.google.com/assets/colab-badge.svg\" alt=\"Open In Colab\"/></a>"
      ]
    },
    {
      "cell_type": "code",
      "execution_count": 11,
      "metadata": {
        "colab": {
          "base_uri": "https://localhost:8080/"
        },
        "id": "xcy47EWWk7As",
        "outputId": "da292ef5-2487-40c2-d062-cb5d365edaa5"
      },
      "outputs": [
        {
          "output_type": "stream",
          "name": "stdout",
          "text": [
            "enter the size of the array: 5\n",
            "enter the element: 8\n",
            "enter the element: 4\n",
            "enter the element: 1\n",
            "enter the element: 88\n",
            "enter the element: 97\n",
            "enter the element to be searched: 88\n",
            "the sorted list will be :\n",
            "1\n",
            "4\n",
            "8\n",
            "88\n",
            "97\n",
            "element found at  4 position\n"
          ]
        }
      ],
      "source": [
        "#binary search in python\n",
        "l=[]\n",
        "\n",
        "def sorted_list(l):\n",
        "  #bubble sort\n",
        "  for i in range(0,n):\n",
        "    for j in range(0,n-i-1):                    \n",
        "      if l[j]>l[j+1]:                           \n",
        "        l[j],l[j+1]=l[j+1],l[j]\n",
        "\n",
        "n=int(input(\"enter the size of the array: \"))\n",
        "for i in range(0,n):\n",
        "  l.append(int(input(\"enter the element: \")))\n",
        "to_find=int(input(\"enter the element to be searched: \"))\n",
        "flag=0\n",
        "#for bubble sort the list of elements must be sorted\n",
        "sorted_list(l)\n",
        "print(\"the sorted list will be :\")\n",
        "for i in range(0,n):\n",
        "  print(l[i])\n",
        "#divide and conqure method\n",
        "low=0\n",
        "high=n-1\n",
        "flag=0\n",
        "while low<=high :\n",
        "  mid=int((low+high)/2)\n",
        "  if to_find==l[mid] :\n",
        "    print(\"element found at \",mid+1,\"position\")\n",
        "    flag=1\n",
        "    break\n",
        "  elif to_find>l[mid]:\n",
        "    low=mid+1\n",
        "  else:\n",
        "    high=mid-1\n",
        "if flag==0 :\n",
        "  print(\"element not found\")\n"
      ]
    }
  ]
}
