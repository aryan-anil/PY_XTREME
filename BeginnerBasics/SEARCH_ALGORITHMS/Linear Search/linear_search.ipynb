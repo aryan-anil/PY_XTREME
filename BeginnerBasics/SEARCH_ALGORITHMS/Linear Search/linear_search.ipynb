{
  "nbformat": 4,
  "nbformat_minor": 0,
  "metadata": {
    "colab": {
      "provenance": [],
      "authorship_tag": "ABX9TyOMDo1lbD6XANWMxzLePUsS",
      "include_colab_link": true
    },
    "kernelspec": {
      "name": "python3",
      "display_name": "Python 3"
    },
    "language_info": {
      "name": "python"
    }
  },
  "cells": [
    {
      "cell_type": "markdown",
      "metadata": {
        "id": "view-in-github",
        "colab_type": "text"
      },
      "source": [
        "<a href=\"https://colab.research.google.com/github/akhilamoh/PY_XTREME/blob/main/linear_se.ipynb\" target=\"_parent\"><img src=\"https://colab.research.google.com/assets/colab-badge.svg\" alt=\"Open In Colab\"/></a>"
      ]
    },
    {
      "cell_type": "code",
      "execution_count": 2,
      "metadata": {
        "colab": {
          "base_uri": "https://localhost:8080/"
        },
        "id": "X9tJFxWmYYgd",
        "outputId": "498c0d9e-0790-4400-f1f1-fb93f24b4645"
      },
      "outputs": [
        {
          "output_type": "stream",
          "name": "stdout",
          "text": [
            "enter the size of the array: 5\n",
            "enter the element: 4\n",
            "enter the element: 1\n",
            "enter the element: 8\n",
            "enter the element: 2\n",
            "enter the element: 0\n",
            "enter the element to be searched: 8\n",
            "element found at  3 position\n"
          ]
        }
      ],
      "source": [
        "#linear search in python\n",
        "l=[]\n",
        "n=int(input(\"enter the size of the array: \"))\n",
        "for i in range(0,n):\n",
        "  l.append(int(input(\"enter the element: \")))\n",
        "to_find=int(input(\"enter the element to be searched: \"))\n",
        "flag=0\n",
        "for i in range(0,n) :\n",
        "  if l[i]==to_find :\n",
        "    print(\"element found at \",i+1,\"position\")\n",
        "    f=1\n",
        "if f==0 :\n",
        "  print(\"element not found\")\n"
      ]
    }
  ]
}
