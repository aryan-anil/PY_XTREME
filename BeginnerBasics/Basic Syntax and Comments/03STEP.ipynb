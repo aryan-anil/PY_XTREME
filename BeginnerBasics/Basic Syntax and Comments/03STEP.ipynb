{
  "nbformat": 4,
  "nbformat_minor": 0,
  "metadata": {
    "colab": {
      "provenance": [],
      "authorship_tag": "ABX9TyPe4Nihwkc7d4FvMe82mQ+K",
      "include_colab_link": true
    },
    "kernelspec": {
      "name": "python3",
      "display_name": "Python 3"
    },
    "language_info": {
      "name": "python"
    }
  },
  "cells": [
    {
      "cell_type": "markdown",
      "metadata": {
        "id": "view-in-github",
        "colab_type": "text"
      },
      "source": [
        "<a href=\"https://colab.research.google.com/github/akhilamoh/PY_XTREME/blob/main/STEP3.ipynb\" target=\"_parent\"><img src=\"https://colab.research.google.com/assets/colab-badge.svg\" alt=\"Open In Colab\"/></a>"
      ]
    },
    {
      "cell_type": "code",
      "execution_count": 1,
      "metadata": {
        "colab": {
          "base_uri": "https://localhost:8080/"
        },
        "id": "qiqdt2LJRG6s",
        "outputId": "d7c52577-6f57-4944-e9ac-460b921c1fca"
      },
      "outputs": [
        {
          "output_type": "stream",
          "name": "stdout",
          "text": [
            "This is a string\n",
            "Another string using double quotes\n",
            " string can span\n",
            "        multiple line \n"
          ]
        }
      ],
      "source": [
        "# strings using single quotes\n",
        "s = 'This is a string'\n",
        "print(s)\n",
        "\n",
        "# strings using double quotes\n",
        "s = \"Another string using double quotes\"\n",
        "print(s)\n",
        "\n",
        "# strings using triple single quotes\n",
        "s = ''' string can span\n",
        "        multiple line '''\n",
        "print(s)\n",
        "\n",
        "# NOTE:The string literal need to be surrounded with the same type of quotes."
      ]
    }
  ]
}
