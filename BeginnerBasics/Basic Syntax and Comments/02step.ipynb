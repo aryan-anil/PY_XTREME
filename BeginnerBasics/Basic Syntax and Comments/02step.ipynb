{
  "nbformat": 4,
  "nbformat_minor": 0,
  "metadata": {
    "colab": {
      "provenance": [],
      "authorship_tag": "ABX9TyMIpSqd4aMZHLtsCF5/CYnt",
      "include_colab_link": true
    },
    "kernelspec": {
      "name": "python3",
      "display_name": "Python 3"
    },
    "language_info": {
      "name": "python"
    }
  },
  "cells": [
    {
      "cell_type": "markdown",
      "metadata": {
        "id": "view-in-github",
        "colab_type": "text"
      },
      "source": [
        "<a href=\"https://colab.research.google.com/github/akhilamoh/PY_XTREME/blob/main/step2.ipynb\" target=\"_parent\"><img src=\"https://colab.research.google.com/assets/colab-badge.svg\" alt=\"Open In Colab\"/></a>"
      ]
    },
    {
      "cell_type": "code",
      "execution_count": 3,
      "metadata": {
        "colab": {
          "base_uri": "https://localhost:8080/"
        },
        "id": "J68onr7SM6yE",
        "outputId": "b730e554-0625-4fa2-9126-c830ce34b1a7"
      },
      "outputs": [
        {
          "name": "stdout",
          "output_type": "stream",
          "text": [
            "enter the integer number: 47\n",
            "enter the float number: 158.965\n",
            "enter the string: hello world\n"
          ]
        }
      ],
      "source": [
        "# to get integer number from user\n",
        "n1=int(input(\"enter the integer number: \"))\n",
        "\n",
        "#to get floating points from user\n",
        "n2=float(input(\"enter the float number: \"))\n",
        "\n",
        "#to get string from user\n",
        "n3=input(\"enter the string: \")\n",
        "\n"
      ]
    }
  ]
}
