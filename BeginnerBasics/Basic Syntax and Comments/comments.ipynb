{
  "nbformat": 4,
  "nbformat_minor": 0,
  "metadata": {
    "colab": {
      "provenance": [],
      "authorship_tag": "ABX9TyNbg9c1Ew5Hq0nTfGGHqQl4",
      "include_colab_link": true
    },
    "kernelspec": {
      "name": "python3",
      "display_name": "Python 3"
    },
    "language_info": {
      "name": "python"
    }
  },
  "cells": [
    {
      "cell_type": "markdown",
      "metadata": {
        "id": "view-in-github",
        "colab_type": "text"
      },
      "source": [
        "<a href=\"https://colab.research.google.com/github/akhilamoh/PY_XTREME/blob/main/comments.ipynb\" target=\"_parent\"><img src=\"https://colab.research.google.com/assets/colab-badge.svg\" alt=\"Open In Colab\"/></a>"
      ]
    },
    {
      "cell_type": "code",
      "execution_count": null,
      "metadata": {
        "id": "qiqdt2LJRG6s"
      },
      "outputs": [],
      "source": [
        "# about comments in python\n",
        "# represented by \"#\"\n",
        "# anything inside it isnt displayed as output\n",
        "# eg:-\n",
        "print(\"hi\")\n",
        "#print(\"hi\")\n",
        "# here only first print will be printed"
      ]
    }
  ]
}
