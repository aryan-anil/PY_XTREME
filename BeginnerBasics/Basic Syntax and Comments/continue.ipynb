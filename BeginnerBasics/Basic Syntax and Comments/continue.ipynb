{
  "nbformat": 4,
  "nbformat_minor": 0,
  "metadata": {
    "colab": {
      "provenance": [],
      "authorship_tag": "ABX9TyOwWBJngixQO2M6GzDqbUKd",
      "include_colab_link": true
    },
    "kernelspec": {
      "name": "python3",
      "display_name": "Python 3"
    },
    "language_info": {
      "name": "python"
    }
  },
  "cells": [
    {
      "cell_type": "markdown",
      "metadata": {
        "id": "view-in-github",
        "colab_type": "text"
      },
      "source": [
        "<a href=\"https://colab.research.google.com/github/akhilamoh/PY_XTREME/blob/main/continue.ipynb\" target=\"_parent\"><img src=\"https://colab.research.google.com/assets/colab-badge.svg\" alt=\"Open In Colab\"/></a>"
      ]
    },
    {
      "cell_type": "code",
      "execution_count": 3,
      "metadata": {
        "colab": {
          "base_uri": "https://localhost:8080/"
        },
        "id": "CeG33MnHUqMj",
        "outputId": "8d1e55d8-2aaf-4489-b2b3-bcd8d8a28fb0"
      },
      "outputs": [
        {
          "output_type": "stream",
          "name": "stdout",
          "text": [
            "0\n",
            "2\n",
            "4\n",
            "6\n",
            "8\n"
          ]
        }
      ],
      "source": [
        "#used inside a for loop or a while loop. The continue statement skips the current iteration and starts the next one.\n",
        "for index in range(10):\n",
        "    if index % 2:\n",
        "        continue\n",
        "    print(index)"
      ]
    }
  ]
}
