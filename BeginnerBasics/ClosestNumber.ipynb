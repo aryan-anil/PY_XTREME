{
  "nbformat": 4,
  "nbformat_minor": 0,
  "metadata": {
    "colab": {
      "provenance": [],
      "authorship_tag": "ABX9TyPrgw1d2QIa+63x6zvaPJdb",
      "include_colab_link": true
    },
    "kernelspec": {
      "name": "python3",
      "display_name": "Python 3"
    },
    "language_info": {
      "name": "python"
    }
  },
  "cells": [
    {
      "cell_type": "markdown",
      "metadata": {
        "id": "view-in-github",
        "colab_type": "text"
      },
      "source": [
        "<a href=\"https://colab.research.google.com/github/HarrelAlex/24req/blob/main/BeginnerBasics/ClosestNumber.ipynb\" target=\"_parent\"><img src=\"https://colab.research.google.com/assets/colab-badge.svg\" alt=\"Open In Colab\"/></a>"
      ]
    },
    {
      "cell_type": "code",
      "execution_count": 1,
      "metadata": {
        "colab": {
          "base_uri": "https://localhost:8080/"
        },
        "id": "NwKHIm271qZT",
        "outputId": "74ff42c0-aeab-44ad-ebb8-0cbbd59543d5"
      },
      "outputs": [
        {
          "output_type": "stream",
          "name": "stdout",
          "text": [
            "Enter target:54\n",
            "44\n"
          ]
        }
      ],
      "source": [
        "def findClosest(arr, n, target):\n",
        "\n",
        "\t# Corner cases\n",
        "\tif (target <= arr[0]):\n",
        "\t\treturn arr[0]\n",
        "\tif (target >= arr[n - 1]):\n",
        "\t\treturn arr[n - 1]\n",
        "\n",
        "\t# Doing binary search\n",
        "\ti = 0\n",
        "\tj = n\n",
        "\tmid = 0\n",
        "\twhile (i < j):\n",
        "\t\tmid = (i + j) // 2\n",
        "\n",
        "\t\tif (arr[mid] == target):\n",
        "\t\t\treturn arr[mid]\n",
        "\n",
        "\t\t# If target is less than array\n",
        "\t\t# element, then search in left\n",
        "\t\tif (target < arr[mid]):\n",
        "\n",
        "\t\t\t# If target is greater than previous\n",
        "\t\t\t# to mid, return closest of two\n",
        "\t\t\tif (mid > 0 and target > arr[mid - 1]):\n",
        "\t\t\t\treturn getClosest(arr[mid - 1], arr[mid], target)\n",
        "\n",
        "\t\t\t# Repeat for left half\n",
        "\t\t\tj = mid\n",
        "\n",
        "\t\t# If target is greater than mid\n",
        "\t\telse:\n",
        "\t\t\tif (mid < n - 1 and target < arr[mid + 1]):\n",
        "\t\t\t\treturn getClosest(arr[mid], arr[mid + 1], target)\n",
        "\n",
        "\t\t\t# update i\n",
        "\t\t\ti = mid + 1\n",
        "\n",
        "\t# Only single element left after search\n",
        "\treturn arr[mid]\n",
        "\n",
        "\n",
        "def getClosest(val1, val2, target):\n",
        "\n",
        "\tif (target - val1 >= val2 - target):\n",
        "\t\treturn val2\n",
        "\telse:\n",
        "\t\treturn val1\n",
        "\n",
        "arr = [1, 23, 44, 85, 63, 333, 114, 207]\n",
        "n = len(arr)\n",
        "t=int(input(\"Enter target:\"))\n",
        "target = t\n",
        "print(findClosest(arr, n, target))\n"
      ]
    }
  ]
}