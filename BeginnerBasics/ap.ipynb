{
  "cells": [
    {
      "cell_type": "code",
      "execution_count": 7,
      "metadata": {
        "colab": {
          "base_uri": "https://localhost:8080/"
        },
        "id": "N3GiIvRltslR",
        "outputId": "9d1869bc-1d72-4f45-b28d-e76ff78df9cc"
      },
      "outputs": [
        {
          "output_type": "stream",
          "name": "stdout",
          "text": [
            "Enter the start number: 1\n",
            "Enter the common difference: 3\n",
            "Enter total numbers to print: 8\n",
            "1 4 7 10 13 16 19 22 "
          ]
        }
      ],
      "source": [
        "#Joel Peter Joseph\n",
        "# Python 3 Program to\n",
        "# print an arithmetic\n",
        "# progression series\n",
        "def print_arithmetic_progression(a, d, n):\n",
        "    current_value = a\n",
        "\n",
        "    for i in range(0, n):\n",
        "        print(current_value, end=' ')\n",
        "        current_value = current_value + d\n",
        "\n",
        "\n",
        "a = int(input('Enter the start number: '))\n",
        "d = int(input('Enter the common difference: '))\n",
        "n = int(input('Enter total numbers to print: '))\n",
        "print_arithmetic_progression(a, d, n)\n",
        "\n"
      ]
    }
  ],
  "metadata": {
    "colab": {
      "provenance": []
    },
    "kernelspec": {
      "display_name": "Python 3",
      "name": "python3"
    },
    "language_info": {
      "name": "python"
    }
  },
  "nbformat": 4,
  "nbformat_minor": 0
}