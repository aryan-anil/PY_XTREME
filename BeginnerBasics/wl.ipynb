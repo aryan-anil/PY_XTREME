{
  "cells": [
    {
      "cell_type": "code",
      "execution_count": 40,
      "metadata": {
        "colab": {
          "base_uri": "https://localhost:8080/"
        },
        "id": "N3GiIvRltslR",
        "outputId": "74cd42e6-d335-4d31-f697-e9744cd0acb4"
      },
      "outputs": [
        {
          "output_type": "stream",
          "name": "stdout",
          "text": [
            "Enter the frequency:1200\n",
            "Enter the speed of sound:360\n",
            "The wavelength is: 0.3 m\n"
          ]
        }
      ],
      "source": [
        "#Joel Peter Joseph\n",
        "\n",
        "#Python program to calculate wavelength\n",
        "f=int(input(\"Enter the frequency:\"))\n",
        "v=int(input(\"Enter the speed of sound:\"))\n",
        "l=v/f \n",
        "print(\"The wavelength is:\",l,\"m\")\n",
        "\n",
        "\n"
      ]
    }
  ],
  "metadata": {
    "colab": {
      "provenance": []
    },
    "kernelspec": {
      "display_name": "Python 3",
      "name": "python3"
    },
    "language_info": {
      "name": "python"
    }
  },
  "nbformat": 4,
  "nbformat_minor": 0
}