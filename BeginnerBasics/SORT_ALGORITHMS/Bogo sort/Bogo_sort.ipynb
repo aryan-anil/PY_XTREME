{
  "nbformat": 4,
  "nbformat_minor": 0,
  "metadata": {
    "colab": {
      "provenance": [],
      "authorship_tag": "ABX9TyPwG2Rp0AecpKqTlxeAnZvd",
      "include_colab_link": true
    },
    "kernelspec": {
      "name": "python3",
      "display_name": "Python 3"
    },
    "language_info": {
      "name": "python"
    }
  },
  "cells": [
    {
      "cell_type": "markdown",
      "metadata": {
        "id": "view-in-github",
        "colab_type": "text"
      },
      "source": [
        "<a href=\"https://colab.research.google.com/github/Maii347/PY_XTREME/blob/main/BeginnerBasics/SORT_ALGORITHMS/Bogo%20sort/Bogo_sort.ipynb\" target=\"_parent\"><img src=\"https://colab.research.google.com/assets/colab-badge.svg\" alt=\"Open In Colab\"/></a>"
      ]
    },
    {
      "cell_type": "code",
      "execution_count": null,
      "metadata": {
        "id": "aX7If2L35E7C"
      },
      "outputs": [],
      "source": [
        "# Python program for implementation of Bogo Sort/monkey sort/stupid sort \n",
        "\"\"\"This is an especially ineffective algorithm \n",
        "so  it is recommended not to input too long lists to sort\"\"\"\n",
        "\n",
        "import random\n",
        " \n",
        "#function to sort\n",
        "def bogoSort(list, n):\n",
        "    while (is_sorted(list, n)== False):\n",
        "        shuffle(list, n)\n",
        " \n",
        "# To check if array is sorted or not\n",
        "def is_sorted(list,n):\n",
        "    for i in range(0, n-1):\n",
        "        if (list[i] > list[i+1] ):\n",
        "            return False\n",
        "    return True\n",
        " \n",
        "# To to shuffle\n",
        "def shuffle(list,n):\n",
        "    for i in range (0,n):\n",
        "        r = random.randint(0,n-1)\n",
        "        list[i], list[r] = list[r], list[i]\n",
        " \n",
        "\n",
        "n = int(input(\"Enter number of elements : \"))\n",
        "\n",
        "#getting the elements\n",
        "list =[]\n",
        "for i in range(n):\n",
        "    element = int(input(\"Enter element : \"))\n",
        "    list.append(element)\n",
        "\n",
        "bogoSort(list, n)\n",
        "print(\"Sorted array :\")\n",
        "for i in range(n):\n",
        "    print (\"%d\" %list[i]),"
      ]
    }
  ]
}