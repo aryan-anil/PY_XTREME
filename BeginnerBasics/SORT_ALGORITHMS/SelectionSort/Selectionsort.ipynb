{
  "nbformat": 4,
  "nbformat_minor": 0,
  "metadata": {
    "colab": {
      "provenance": [],
      "authorship_tag": "ABX9TyPqcFMJbeHf4bz+nB0PRT3k",
      "include_colab_link": true
    },
    "kernelspec": {
      "name": "python3",
      "display_name": "Python 3"
    },
    "language_info": {
      "name": "python"
    }
  },
  "cells": [
    {
      "cell_type": "markdown",
      "metadata": {
        "id": "view-in-github",
        "colab_type": "text"
      },
      "source": [
        "<a href=\"https://colab.research.google.com/github/Maii347/PY_XTREME/blob/main/BeginnerBasics/SORT_ALGORITHMS/Selectionsort.ipynb\" target=\"_parent\"><img src=\"https://colab.research.google.com/assets/colab-badge.svg\" alt=\"Open In Colab\"/></a>"
      ]
    },
    {
      "cell_type": "code",
      "execution_count": null,
      "metadata": {
        "id": "WK8P_9sF8aIF"
      },
      "outputs": [],
      "source": [
        "#program for selection sort\n",
        "\n",
        "def selection(list, n):\n",
        "     for index in range(n):\n",
        "        min = index\n",
        "        for j in range(index + 1, n):\n",
        "            # select the minimum element\n",
        "            if (list[j] < list[min]):\n",
        "                min = j\n",
        "         # sorting array\n",
        "        (list[index], list[min]) = (list[min], list[index])\n",
        " \n",
        "\n",
        "#getting number of elements\n",
        "n = int(input(\"Enter number of elements :\"))\n",
        "\n",
        "#getting the elements in list\n",
        "list =[]\n",
        "for i in range(n):\n",
        "    element = int(input(\"Enter element :\"))\n",
        "    list.append(element)\n",
        "\n",
        "#calling function for calculation\n",
        "selection(list, n)\n",
        " \n",
        "#printing result \n",
        "print(\"Sorted array is:\")\n",
        "for i in range(n):\n",
        "      print(\"%d\" % list[i], end=\" \")"
      ]
    }
  ]
}
