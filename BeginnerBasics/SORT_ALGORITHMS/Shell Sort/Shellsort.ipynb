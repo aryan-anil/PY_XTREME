{
  "nbformat": 4,
  "nbformat_minor": 0,
  "metadata": {
    "colab": {
      "provenance": [],
      "authorship_tag": "ABX9TyOyMjEvcC++jb4fTwGiqXuo",
      "include_colab_link": true
    },
    "kernelspec": {
      "name": "python3",
      "display_name": "Python 3"
    },
    "language_info": {
      "name": "python"
    }
  },
  "cells": [
    {
      "cell_type": "markdown",
      "metadata": {
        "id": "view-in-github",
        "colab_type": "text"
      },
      "source": [
        "<a href=\"https://colab.research.google.com/github/Annamjohn/PY_XTREME/blob/main/BeginnerBasics/SORT_ALGORITHMS/Shell%20Sort/Shellsort.ipynb\" target=\"_parent\"><img src=\"https://colab.research.google.com/assets/colab-badge.svg\" alt=\"Open In Colab\"/></a>"
      ]
    },
    {
      "cell_type": "code",
      "execution_count": 29,
      "metadata": {
        "colab": {
          "base_uri": "https://localhost:8080/"
        },
        "id": "0GyxdDuWRrCp",
        "outputId": "740434ba-1a16-44c0-8347-bd9e0fe74f40"
      },
      "outputs": [
        {
          "output_type": "stream",
          "name": "stdout",
          "text": [
            "Enter number of elements : 4\n",
            "Enter element : 3\n",
            "Enter element : 1\n",
            "Enter element : 2\n",
            "Enter element : 4\n",
            "Unsorted Array\n",
            "[3, 1, 2, 4]\n",
            "Sorted Array in Ascending Order:\n",
            "[1, 2, 3, 4]\n"
          ]
        }
      ],
      "source": [
        "# Shell sort in python\n",
        "\n",
        "\n",
        "def shellSort(array, n):\n",
        "\n",
        "    # Rearrange elements at each n/2, n/4, n/8, ... intervals\n",
        "    interval = n // 2\n",
        "    while interval > 0:\n",
        "        for i in range(interval, n):\n",
        "            temp = array[i]\n",
        "            j = i\n",
        "            while j >= interval and array[j - interval] > temp:\n",
        "                array[j] = array[j - interval]\n",
        "                j -= interval\n",
        "\n",
        "            array[j] = temp\n",
        "        interval //= 2\n",
        "\n",
        "\n",
        "n = int(input(\"Enter number of elements : \"))\n",
        "\n",
        "#getting the elements\n",
        "list =[]\n",
        "for i in range(n):\n",
        "    element = int(input(\"Enter element : \"))\n",
        "    list.append(element)\n",
        "\n",
        "print(\"Unsorted Array\")\n",
        "print(list)\n",
        "shellSort(list,n)\n",
        "print('Sorted Array in Ascending Order:')\n",
        "print(list)\n",
        "\n"
      ]
    }
  ]
}