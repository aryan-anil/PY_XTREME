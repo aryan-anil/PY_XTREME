{
  "nbformat": 4,
  "nbformat_minor": 0,
  "metadata": {
    "colab": {
      "provenance": [],
      "authorship_tag": "ABX9TyMvv5s854WyKUQCxeQOCbYm",
      "include_colab_link": true
    },
    "kernelspec": {
      "name": "python3",
      "display_name": "Python 3"
    },
    "language_info": {
      "name": "python"
    }
  },
  "cells": [
    {
      "cell_type": "markdown",
      "metadata": {
        "id": "view-in-github",
        "colab_type": "text"
      },
      "source": [
        "<a href=\"https://colab.research.google.com/github/Lekshmi-D/PY_XTREME/blob/main/BeginnerBasics/SORT_ALGORITHMS/Brick%20Sort/brick_sort.ipynb\" target=\"_parent\"><img src=\"https://colab.research.google.com/assets/colab-badge.svg\" alt=\"Open In Colab\"/></a>"
      ]
    },
    {
      "cell_type": "code",
      "execution_count": 4,
      "metadata": {
        "colab": {
          "base_uri": "https://localhost:8080/"
        },
        "id": "VbXpv0iW1gwd",
        "outputId": "157b1901-dd08-43ba-b6c3-3b27685d725b"
      },
      "outputs": [
        {
          "output_type": "stream",
          "name": "stdout",
          "text": [
            "-9 2 10 34 "
          ]
        }
      ],
      "source": [
        "def oddEvenSort(arr, n):\n",
        "    # Initially array is unsorted\n",
        "    isSorted = 0\n",
        "    while isSorted == 0:\n",
        "        isSorted = 1\n",
        "        temp = 0\n",
        "        for i in range(1, n - 1, 2):\n",
        "            if arr[i] > arr[i + 1]:\n",
        "                arr[i], arr[i + 1] = arr[i + 1], arr[i]\n",
        "                isSorted = 0\n",
        "\n",
        "        for i in range(0, n - 1, 2):\n",
        "            if arr[i] > arr[i + 1]:\n",
        "                arr[i], arr[i + 1] = arr[i + 1], arr[i]\n",
        "                isSorted = 0\n",
        "\n",
        "    return\n",
        "\n",
        "\n",
        "arr = [34, 2, 10, -9]\n",
        "n = len(arr)\n",
        "\n",
        "oddEvenSort(arr, n);\n",
        "for i in range(0, n):\n",
        "    print(arr[i], end=\" \")"
      ]
    }
  ]
}