{
  "nbformat": 4,
  "nbformat_minor": 0,
  "metadata": {
    "colab": {
      "provenance": [],
      "authorship_tag": "ABX9TyPBmtHomvHtCm0ohQ2ea9IF",
      "include_colab_link": true
    },
    "kernelspec": {
      "name": "python3",
      "display_name": "Python 3"
    },
    "language_info": {
      "name": "python"
    }
  },
  "cells": [
    {
      "cell_type": "markdown",
      "metadata": {
        "id": "view-in-github",
        "colab_type": "text"
      },
      "source": [
        "<a href=\"https://colab.research.google.com/github/dsg1320/PY_XTREME/blob/main/BeginnerBasics/SORT_ALGORITHMS/depthfirstsearch/DFS.ipynb\" target=\"_parent\"><img src=\"https://colab.research.google.com/assets/colab-badge.svg\" alt=\"Open In Colab\"/></a>"
      ]
    },
    {
      "cell_type": "code",
      "execution_count": 3,
      "metadata": {
        "colab": {
          "base_uri": "https://localhost:8080/"
        },
        "id": "SiAuYELHy2wX",
        "outputId": "f882d28a-7949-4dcf-cf3a-0e1628bb7d71"
      },
      "outputs": [
        {
          "output_type": "stream",
          "name": "stdout",
          "text": [
            "Enter the number of nodes:4\n",
            "Enter the value of node  1\n",
            "1\n",
            "Enter the value of node  2\n",
            "2\n",
            "Enter the value of node  3\n",
            "3\n",
            "Enter the value of node  4\n",
            "4\n",
            "Enter the number of connections of node  1\n",
            "2\n",
            "Enter the connections:2\n",
            "Enter the connections:3\n",
            "Enter the number of connections of node  2\n",
            "1\n",
            "Enter the connections:4\n",
            "Enter the number of connections of node  3\n",
            "2\n",
            "Enter the connections:1\n",
            "Enter the connections:4\n",
            "Enter the number of connections of node  4\n",
            "0\n",
            "Enter the goal node:4\n",
            "Enter the starting node:1\n",
            "Depth First Search is :\n",
            "1\n",
            "2\n",
            "4\n",
            "Goal node Found\n",
            "3\n"
          ]
        }
      ],
      "source": [
        "flag=0\n",
        "visited=[]\n",
        "graph={}\n",
        "\n",
        "def addnode(v):\n",
        "    if v in graph:\n",
        "        print(\"present\")\n",
        "    else:\n",
        "        graph[v]=[]\n",
        "    \n",
        "def addedge(v1,v2):\n",
        "    if v1 not in graph:\n",
        "        print (v1,\"is not present\")\n",
        "    elif v2  not in graph:\n",
        "        print (v2,\"is not present\")\n",
        "    else:\n",
        "        graph[v1].append(v2)\n",
        "        graph[v2].append(v1)\n",
        "        \n",
        "def DFS(visited,graph,node,goal,flag):\n",
        "    if(flag==0):\n",
        "        if(node not in visited):\n",
        "            visited.append(node)\n",
        "            print(node)\n",
        "            if(node==goal):\n",
        "                print(\"Goal node Found\")\n",
        "                flag=1\n",
        "                exit(0)\n",
        "            elif(flag==0):\n",
        "                for neighbour in graph[node]:\n",
        "                    DFS(visited,graph,neighbour,goal,flag)\n",
        "        \n",
        "n=int(input(\"Enter the number of nodes:\"))     \n",
        "for i in range(1,n+1):\n",
        "    print(\"Enter the value of node \",i)\n",
        "    v=int(input())\n",
        "    addnode(v)\n",
        "for i in range(1,n+1):\n",
        "    print(\"Enter the number of connections of node \",i)\n",
        "    m=int(input())\n",
        "    for j in range(0,m):\n",
        "        x=int(input(\"Enter the connections:\"))\n",
        "        addedge(i,x)\n",
        "x=int(input(\"Enter the goal node:\"))\n",
        "s=int(input(\"Enter the starting node:\"))\n",
        "print(\"Depth First Search is :\")\n",
        "DFS(visited,graph,s,x,0)"
      ]
    }
  ]
}