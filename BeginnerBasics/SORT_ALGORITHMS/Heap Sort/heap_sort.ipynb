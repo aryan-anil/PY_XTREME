{
  "nbformat": 4,
  "nbformat_minor": 0,
  "metadata": {
    "colab": {
      "provenance": [],
      "authorship_tag": "ABX9TyO1ReB1lXAp+Y2uu6xPbRrF",
      "include_colab_link": true
    },
    "kernelspec": {
      "name": "python3",
      "display_name": "Python 3"
    },
    "language_info": {
      "name": "python"
    }
  },
  "cells": [
    {
      "cell_type": "markdown",
      "metadata": {
        "id": "view-in-github",
        "colab_type": "text"
      },
      "source": [
        "<a href=\"https://colab.research.google.com/github/Lekshmi-D/PY_XTREME/blob/main/BeginnerBasics/SORT_ALGORITHMS/Heap%20Sort/heap_sort.ipynb\" target=\"_parent\"><img src=\"https://colab.research.google.com/assets/colab-badge.svg\" alt=\"Open In Colab\"/></a>"
      ]
    },
    {
      "cell_type": "code",
      "execution_count": 1,
      "metadata": {
        "colab": {
          "base_uri": "https://localhost:8080/"
        },
        "id": "VbXpv0iW1gwd",
        "outputId": "3f7f5f51-f547-4d92-804c-ac48d6c9ffdb"
      },
      "outputs": [
        {
          "output_type": "stream",
          "name": "stdout",
          "text": [
            "Original array:\n",
            "11 34 9 5 16 10 Sorted array:\n",
            "5 9 10 11 16 34 "
          ]
        }
      ],
      "source": [
        "def heapify(arr, n, i): \n",
        "    largest = i #Initialize max as root\n",
        "    l = 2 * i + 1\n",
        "    r = 2 * i + 2\n",
        "\n",
        "    #If left child is greater than root\n",
        "    if l < n and arr[i] < arr[l]:\n",
        "      largest = l\n",
        "    \n",
        "    #If right child is greater than max\n",
        "    if r < n and arr[largest] < arr[r]:\n",
        "      largest = r\n",
        "\n",
        "    #If max is not root\n",
        "    if largest != i:\n",
        "      arr[i], arr[largest] = arr[largest], arr[i]\n",
        "      heapify(arr, n, largest) #heapify the root\n",
        "\n",
        "#Main function to perform heap sort\n",
        "def heapSort(arr):\n",
        "  n = len(arr)\n",
        "\n",
        "  #Build MaxHeap\n",
        "  for i in range(n //2, -1, -1):\n",
        "    heapify(arr, n, i)\n",
        "\n",
        "  #Extract elements from heap one by one\n",
        "  for i in range(n - 1, 0, -1): \n",
        "    arr[i], arr[0] = arr[0], arr[i]\n",
        "    heapify(arr, i, 0)\n",
        "\n",
        "#Driver code\n",
        "arr = [11, 34, 9, 5, 16, 10] \n",
        "n = len(arr) \n",
        "print(\"Original array:\") \n",
        "for i in range(n):       \n",
        "    print(\"%d \" % arr[i], end = '')\n",
        "heapSort(arr) \n",
        "print(\"Sorted array:\") \n",
        "for i in range(n):       \n",
        "    print(\"%d \" % arr[i], end = '')"
      ]
    }
  ]
}