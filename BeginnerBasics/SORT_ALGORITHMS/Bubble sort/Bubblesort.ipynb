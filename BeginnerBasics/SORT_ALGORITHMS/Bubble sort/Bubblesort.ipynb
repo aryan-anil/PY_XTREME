{
  "nbformat": 4,
  "nbformat_minor": 0,
  "metadata": {
    "colab": {
      "provenance": [],
      "authorship_tag": "ABX9TyMYuXzFAO1hLdNWEO0FuHb/",
      "include_colab_link": true
    },
    "kernelspec": {
      "name": "python3",
      "display_name": "Python 3"
    },
    "language_info": {
      "name": "python"
    }
  },
  "cells": [
    {
      "cell_type": "markdown",
      "metadata": {
        "id": "view-in-github",
        "colab_type": "text"
      },
      "source": [
        "<a href=\"https://colab.research.google.com/github/Maii347/PY_XTREME/blob/main/BeginnerBasics/SORT_ALGORITHMS/Bubblesort.ipynb\" target=\"_parent\"><img src=\"https://colab.research.google.com/assets/colab-badge.svg\" alt=\"Open In Colab\"/></a>"
      ]
    },
    {
      "cell_type": "code",
      "execution_count": null,
      "metadata": {
        "colab": {
          "base_uri": "https://localhost:8080/"
        },
        "id": "D3h3whJBgDLv",
        "outputId": "4c95757f-e51b-4d0e-ac2f-e094cea3fcd9"
      },
      "outputs": [
        {
          "output_type": "stream",
          "name": "stdout",
          "text": [
            "Enter number of elements :5\n",
            "Enter element :6\n",
            "Enter element :5\n",
            "Enter element :3\n",
            "Enter element :2\n",
            "Enter element :1\n",
            "Sorted array is:\n",
            "1 2 3 5 6 "
          ]
        }
      ],
      "source": [
        "#Program for bubble sort\n",
        "\n",
        "def bubble(list, n):\n",
        "    \n",
        "    for i in range(n):\n",
        "        for j in range(0, n-i-1):\n",
        "            #comparing nearby elements\n",
        "            if list[j] > list[j+1]:\n",
        "                list[j], list[j+1] = list[j+1], list[j]\n",
        " \n",
        "#getting number of elements\n",
        "n = int(input(\"Enter number of elements :\"))\n",
        "\n",
        "#getting the elements\n",
        "list =[]\n",
        "for i in range(n):\n",
        "    element = int(input(\"Enter element :\"))\n",
        "    list.append(element)\n",
        "\n",
        "#calling function for calculation\n",
        "bubble(list, n)\n",
        " \n",
        "#printing result \n",
        "print(\"Sorted array is:\")\n",
        "for i in range(n):\n",
        "      print(\"%d\" % list[i], end=\" \")\n"
      ]
    }
  ]
}
