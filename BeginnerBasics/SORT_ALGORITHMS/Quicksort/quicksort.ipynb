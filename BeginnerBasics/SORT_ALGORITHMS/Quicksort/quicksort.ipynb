{
  "nbformat": 4,
  "nbformat_minor": 0,
  "metadata": {
    "colab": {
      "provenance": [],
      "authorship_tag": "ABX9TyOKJU/eatfB6Goml6uJO669",
      "include_colab_link": true
    },
    "kernelspec": {
      "name": "python3",
      "display_name": "Python 3"
    },
    "language_info": {
      "name": "python"
    }
  },
  "cells": [
    {
      "cell_type": "markdown",
      "metadata": {
        "id": "view-in-github",
        "colab_type": "text"
      },
      "source": [
        "<a href=\"https://colab.research.google.com/github/Maii347/PY_XTREME/blob/main/BeginnerBasics/SORT_ALGORITHMS/Quicksort/quicksort.ipynb\" target=\"_parent\"><img src=\"https://colab.research.google.com/assets/colab-badge.svg\" alt=\"Open In Colab\"/></a>"
      ]
    },
    {
      "cell_type": "code",
      "execution_count": null,
      "metadata": {
        "id": "8cQEJyiiHerd"
      },
      "outputs": [],
      "source": [
        "# Python program for implementation of Quicksort Sort\n",
        " \n",
        "# Function to find the partition position\n",
        "def partition(list, low, high):\n",
        "    #rightmost element as pivot\n",
        "    pivot = list[high]\n",
        "    # pointer for greater element\n",
        "    i = low - 1\n",
        "    # compare each element with pivot\n",
        "    for j in range(low, high):\n",
        "        if list[j] <= pivot:\n",
        "            i = i + 1\n",
        "            (list[i], list[j]) = (list[j], list[i])\n",
        "    (list[i + 1], list[high]) = (list[high], list[i + 1])\n",
        "    return i + 1\n",
        " \n",
        "# function to perform quicksort\n",
        "def quicksort(list, low, high):\n",
        "    if low < high:\n",
        "        pi = partition(list, low, high)\n",
        "        quicksort(list, low, pi - 1)\n",
        "        quicksort(list, pi + 1, high)\n",
        " \n",
        "\n",
        "n = int(input(\"Enter number of elements : \"))\n",
        "\n",
        "#getting the elements\n",
        "list =[]\n",
        "for i in range(n):\n",
        "    element = int(input(\"Enter element : \"))\n",
        "    list.append(element)\n",
        "\n",
        "print(\"Unsorted Array\")\n",
        "print(list)\n",
        " \n",
        "quicksort(list, 0, n - 1)\n",
        " \n",
        "print('Sorted Array in Ascending Order:')\n",
        "print(list)"
      ]
    }
  ]
}