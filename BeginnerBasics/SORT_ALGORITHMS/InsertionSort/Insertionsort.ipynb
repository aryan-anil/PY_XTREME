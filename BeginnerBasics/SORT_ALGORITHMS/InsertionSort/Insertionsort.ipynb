{
  "nbformat": 4,
  "nbformat_minor": 0,
  "metadata": {
    "colab": {
      "provenance": [],
      "authorship_tag": "ABX9TyOwUIpA/LL4klzq5DqEQvYh",
      "include_colab_link": true
    },
    "kernelspec": {
      "name": "python3",
      "display_name": "Python 3"
    },
    "language_info": {
      "name": "python"
    }
  },
  "cells": [
    {
      "cell_type": "markdown",
      "metadata": {
        "id": "view-in-github",
        "colab_type": "text"
      },
      "source": [
        "<a href=\"https://colab.research.google.com/github/Maii347/PY_XTREME/blob/main/BeginnerBasics/SORT_ALGORITHMS/InsertionSort/Insertionsort.ipynb\" target=\"_parent\"><img src=\"https://colab.research.google.com/assets/colab-badge.svg\" alt=\"Open In Colab\"/></a>"
      ]
    },
    {
      "cell_type": "code",
      "execution_count": null,
      "metadata": {
        "id": "lnOGQxiGbeti"
      },
      "outputs": [],
      "source": [
        "# Python program for implementation of Insertion Sort\n",
        " \n",
        "# Function to do insertion sort\n",
        "def insertionsort(list,n):\n",
        "    for i in range(1, n):\n",
        "        key = list[i]\n",
        "        j = i-1\n",
        "        while j >=0 and key < list[j] :\n",
        "                list[j+1] = list[j]\n",
        "                j -= 1\n",
        "        list[j+1] = key\n",
        " \n",
        "n = int(input(\"Enter number of elements : \"))\n",
        "\n",
        "#getting the elements\n",
        "list =[]\n",
        "for i in range(n):\n",
        "    element = int(input(\"Enter element : \"))\n",
        "    list.append(element)\n",
        " \n",
        "insertionsort(list,n)\n",
        "print(list)"
      ]
    }
  ]
}