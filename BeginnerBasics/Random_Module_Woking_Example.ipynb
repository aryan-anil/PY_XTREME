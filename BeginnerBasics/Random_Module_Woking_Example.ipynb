{
  "nbformat": 4,
  "nbformat_minor": 0,
  "metadata": {
    "colab": {
      "provenance": [],
      "authorship_tag": "ABX9TyNkEvlP1sPjWNTjJSI5ZxLz",
      "include_colab_link": true
    },
    "kernelspec": {
      "name": "python3",
      "display_name": "Python 3"
    },
    "language_info": {
      "name": "python"
    }
  },
  "cells": [
    {
      "cell_type": "markdown",
      "metadata": {
        "id": "view-in-github",
        "colab_type": "text"
      },
      "source": [
        "<a href=\"https://colab.research.google.com/github/HKRcodes/PY_XTREME/blob/main/BeginnerBasics/Random_Module_Woking_Example.ipynb\" target=\"_parent\"><img src=\"https://colab.research.google.com/assets/colab-badge.svg\" alt=\"Open In Colab\"/></a>"
      ]
    },
    {
      "cell_type": "code",
      "source": [
        "# A sample code showing how the Random module works \n",
        "\n",
        "import random\n",
        "members = ['Nobita','Doraemon','Gian','Suneo','Shizuka']\n",
        "leader = random.choices(members)\n",
        "print(leader)\n"
      ],
      "metadata": {
        "colab": {
          "base_uri": "https://localhost:8080/"
        },
        "id": "5Qh2S8lvBxYk",
        "outputId": "ae3c03b7-2742-4ac8-9145-9ef472662c21"
      },
      "execution_count": 7,
      "outputs": [
        {
          "output_type": "stream",
          "name": "stdout",
          "text": [
            "['Gian']\n"
          ]
        }
      ]
    },
    {
      "cell_type": "markdown",
      "source": [
        "This code chooses one of the words(names) as the leader randomly , everytime the code is run."
      ],
      "metadata": {
        "id": "g6_VLDLTGEsn"
      }
    },
    {
      "cell_type": "code",
      "source": [
        "# Running again to show how the output will be\n",
        "\n",
        "import random\n",
        "members = ['Nobita','Doraemon','Gian','Suneo','Shizuka']\n",
        "leader = random.choices(members)\n",
        "print(leader)"
      ],
      "metadata": {
        "colab": {
          "base_uri": "https://localhost:8080/"
        },
        "id": "QdDqaqRvGP4N",
        "outputId": "3f0d9f02-068b-460b-8bae-f3a0127bedde"
      },
      "execution_count": 8,
      "outputs": [
        {
          "output_type": "stream",
          "name": "stdout",
          "text": [
            "['Suneo']\n"
          ]
        }
      ]
    }
  ]
}