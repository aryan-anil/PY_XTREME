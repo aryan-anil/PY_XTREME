{
  "nbformat": 4,
  "nbformat_minor": 0,
  "metadata": {
    "colab": {
      "provenance": []
    },
    "kernelspec": {
      "name": "python3",
      "display_name": "Python 3"
    },
    "language_info": {
      "name": "python"
    }
  },
  "cells": [
    {
      "cell_type": "code",
      "execution_count": 15,
      "metadata": {
        "id": "1s3XiPM7H9Z7",
        "colab": {
          "base_uri": "https://localhost:8080/"
        },
        "outputId": "a5f80f61-5d93-4a6f-95a1-94f815e083c5"
      },
      "outputs": [
        {
          "output_type": "stream",
          "name": "stdout",
          "text": [
            "Enter a charachter:e\n",
            "The ASCII value of 'e' is 101\n"
          ]
        }
      ],
      "source": [
        "#Joel Peter Joseph\n",
        "\n",
        "# Python program to print\n",
        "# ASCII Value of Character\n",
        "\n",
        "# In c we can assign different\n",
        "# characters of which we want ASCII value\n",
        "\n",
        "c = input(\"Enter a charachter:\")\n",
        "# print the ASCII value of assigned character in c\n",
        "print(\"The ASCII value of '\" + c + \"' is\", ord(c))\n"
      ]
    }
  ]
}