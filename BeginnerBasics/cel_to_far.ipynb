{
  "nbformat": 4,
  "nbformat_minor": 0,
  "metadata": {
    "colab": {
      "provenance": [],
      "authorship_tag": "ABX9TyP3O1jQa4+LEhKDcnM8VHbE",
      "include_colab_link": true
    },
    "kernelspec": {
      "name": "python3",
      "display_name": "Python 3"
    },
    "language_info": {
      "name": "python"
    }
  },
  "cells": [
    {
      "cell_type": "markdown",
      "metadata": {
        "id": "view-in-github",
        "colab_type": "text"
      },
      "source": [
        "<a href=\"https://colab.research.google.com/github/anirxudh/PY_XTREME/blob/main/BeginnerBasics/cel_to_far.ipynb\" target=\"_parent\"><img src=\"https://colab.research.google.com/assets/colab-badge.svg\" alt=\"Open In Colab\"/></a>"
      ]
    },
    {
      "cell_type": "code",
      "execution_count": 2,
      "metadata": {
        "colab": {
          "base_uri": "https://localhost:8080/"
        },
        "id": "jxjxNr7uwZfU",
        "outputId": "7c119dce-cdb1-4c7d-d466-b8b53e295230"
      },
      "outputs": [
        {
          "output_type": "stream",
          "name": "stdout",
          "text": [
            "ENTER THE TEMPERATURE WITH UNITS(eg: 104F,30C etc) : 37C\n",
            "The temperature in Fahrenheit is 99 degrees.\n"
          ]
        }
      ],
      "source": [
        "# ANIRUDH S NAIR\n",
        "# DEGREE CELCIUS TO FARENHEIT CALCULATOR\n",
        "\n",
        "# get user input in either celcius or farenhiet unit\n",
        "temp = input(\"ENTER THE TEMPERATURE WITH UNITS(eg: 104F,30C etc) : \")\n",
        "\n",
        "# getting the input tempertaure units by checking last character\n",
        "degree = int(temp[:-1])\n",
        "input_convention = temp[-1]\n",
        "\n",
        "# Convertion according to entered units\n",
        "if input_convention.upper() == \"C\":\n",
        "  result = int(round((9 * degree) / 5 + 32))\n",
        "  output_convention = \"Fahrenheit\"\n",
        "elif input_convention.upper() == \"F\":\n",
        "  result = int(round((degree - 32) * 5 / 9))\n",
        "  output_convention = \"Celsius\"\n",
        "else:\n",
        "  print(\"Input proper convention.\")\n",
        "  quit()\n",
        "\n",
        "# printing the final statement\n",
        "print(\"The temperature in\", output_convention, \"is\", result, \"degrees.\")"
      ]
    }
  ]
}