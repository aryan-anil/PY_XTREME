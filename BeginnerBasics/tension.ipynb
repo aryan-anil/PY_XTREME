{
  "cells": [
    {
      "cell_type": "code",
      "execution_count": 38,
      "metadata": {
        "colab": {
          "base_uri": "https://localhost:8080/"
        },
        "id": "N3GiIvRltslR",
        "outputId": "88aa0b9a-9fb2-419d-8afd-59cab7aed150"
      },
      "outputs": [
        {
          "output_type": "stream",
          "name": "stdout",
          "text": [
            "Enter the mass:20\n",
            "Enter the acceleration:9\n",
            "Enter the gravity:9.8\n",
            "The Tension is: 376.0\n"
          ]
        }
      ],
      "source": [
        "#Joel Peter Joseph\n",
        "\n",
        "#Python program to calculate Tension\n",
        "m=int(input(\"Enter the mass:\"))\n",
        "a=int(input(\"Enter the acceleration:\"))\n",
        "g=float(input(\"Enter the gravity:\"))\n",
        "T=m*(g+a)\n",
        "print(\"The Tension is:\",T)\n",
        "\n",
        "\n",
        "\n"
      ]
    }
  ],
  "metadata": {
    "colab": {
      "provenance": []
    },
    "kernelspec": {
      "display_name": "Python 3",
      "name": "python3"
    },
    "language_info": {
      "name": "python"
    }
  },
  "nbformat": 4,
  "nbformat_minor": 0
}