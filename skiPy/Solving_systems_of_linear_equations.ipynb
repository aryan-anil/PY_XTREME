{
  "nbformat": 4,
  "nbformat_minor": 0,
  "metadata": {
    "colab": {
      "provenance": [],
      "authorship_tag": "ABX9TyOduiua0REuhboyxw4mgmCD",
      "include_colab_link": true
    },
    "kernelspec": {
      "name": "python3",
      "display_name": "Python 3"
    },
    "language_info": {
      "name": "python"
    }
  },
  "cells": [
    {
      "cell_type": "markdown",
      "metadata": {
        "id": "view-in-github",
        "colab_type": "text"
      },
      "source": [
        "<a href=\"https://colab.research.google.com/github/amithbiju/PY_XTREME/blob/main/skiPy/Solving_systems_of_linear_equations.ipynb\" target=\"_parent\"><img src=\"https://colab.research.google.com/assets/colab-badge.svg\" alt=\"Open In Colab\"/></a>"
      ]
    },
    {
      "cell_type": "code",
      "execution_count": null,
      "metadata": {
        "id": "ttD7SggHG1Lk"
      },
      "outputs": [],
      "source": []
    },
    {
      "cell_type": "code",
      "execution_count": 1,
      "metadata": {
        "colab": {
          "base_uri": "https://localhost:8080/"
        },
        "id": "EA8iHUcXEO7Y",
        "outputId": "6d733fc9-56b2-44b5-bdcf-61331f94f519"
      },
      "outputs": [
        {
          "output_type": "stream",
          "name": "stdout",
          "text": [
            "Looking in indexes: https://pypi.org/simple, https://us-python.pkg.dev/colab-wheels/public/simple/\n",
            "Requirement already satisfied: scipy in /usr/local/lib/python3.8/dist-packages (1.7.3)\n",
            "Requirement already satisfied: numpy<1.23.0,>=1.16.5 in /usr/local/lib/python3.8/dist-packages (from scipy) (1.21.6)\n"
          ]
        }
      ],
      "source": [
        "! pip install scipy"
      ]
    },
    {
      "cell_type": "code",
      "source": [
        "a1 = input((\"enter values 1 row\"))\n",
        "a2 = input((\"enter values\"))\n",
        "a3 = input((\"enter values\"))\n",
        "a4 = input((\"enter values 2 row\"))\n",
        "a5 = input((\"enter values\"))\n",
        "a6 = input((\"enter values\"))\n",
        "a7 = input((\"enter values 3 row\"))\n",
        "a8 = input((\"enter values\"))\n",
        "a9 = input((\"enter values\"))\n",
        "\n",
        "print(\"*** Equation coefficient ***\")\n",
        "\n",
        "b1 = input((\"enter values 1 row\"))\n",
        "b2 = input((\"enter values\"))\n",
        "b3 = input((\"enter values\"))\n",
        "import numpy as np\n",
        "\n",
        "A = np.array([[a1,a2,a3],[a4,a5,a6],[a7,a8,a9]])\n",
        "\n",
        "# importing linalg function from scipy\n",
        "from scipy import linalg\n",
        "\n",
        "v = np.array([[b1],[b2],[b3]])\n",
        "print(v)\n",
        "s = linalg.solve(A,v)\n",
        "print( \"SOLUTIONS\")\n",
        "print(s)\n",
        "\n"
      ],
      "metadata": {
        "colab": {
          "base_uri": "https://localhost:8080/"
        },
        "id": "eu7pyvcuEpG6",
        "outputId": "c8a09fa6-6fd1-4463-d87c-fe3ca1181752"
      },
      "execution_count": 2,
      "outputs": [
        {
          "output_type": "stream",
          "name": "stdout",
          "text": [
            "enter values 1 row21\n",
            "enter values23\n",
            "enter values43\n",
            "enter values 2 row65\n",
            "enter values76\n",
            "enter values76\n",
            "enter values 3 row87\n",
            "enter values87\n",
            "enter values87\n",
            "*** Equation coefficient ***\n",
            "enter values 1 row45\n",
            "enter values65\n",
            "enter values65\n",
            "[['45']\n",
            " ['65']\n",
            " ['65']]\n",
            "[[-0.74712644]\n",
            " [ 0.17816092]\n",
            " [ 1.31609195]]\n"
          ]
        }
      ]
    }
  ]
}