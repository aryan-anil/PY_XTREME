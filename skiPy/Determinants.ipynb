{
  "nbformat": 4,
  "nbformat_minor": 0,
  "metadata": {
    "colab": {
      "provenance": [],
      "authorship_tag": "ABX9TyNEo3BSvF/f9IW+OwoLupxl",
      "include_colab_link": true
    },
    "kernelspec": {
      "name": "python3",
      "display_name": "Python 3"
    },
    "language_info": {
      "name": "python"
    }
  },
  "cells": [
    {
      "cell_type": "markdown",
      "metadata": {
        "id": "view-in-github",
        "colab_type": "text"
      },
      "source": [
        "<a href=\"https://colab.research.google.com/github/amithbiju/PY_XTREME/blob/main/skiPy/Determinants.ipynb\" target=\"_parent\"><img src=\"https://colab.research.google.com/assets/colab-badge.svg\" alt=\"Open In Colab\"/></a>"
      ]
    },
    {
      "cell_type": "code",
      "execution_count": 1,
      "metadata": {
        "colab": {
          "base_uri": "https://localhost:8080/"
        },
        "id": "mvoYMO9M_9Fk",
        "outputId": "02ca1b9b-e36c-4b3b-ab70-6e6985e1e5ee"
      },
      "outputs": [
        {
          "output_type": "stream",
          "name": "stdout",
          "text": [
            "Looking in indexes: https://pypi.org/simple, https://us-python.pkg.dev/colab-wheels/public/simple/\n",
            "Requirement already satisfied: scipy in /usr/local/lib/python3.8/dist-packages (1.7.3)\n",
            "Requirement already satisfied: numpy<1.23.0,>=1.16.5 in /usr/local/lib/python3.8/dist-packages (from scipy) (1.21.6)\n"
          ]
        }
      ],
      "source": [
        "! pip install scipy"
      ]
    },
    {
      "cell_type": "code",
      "source": [
        "a1 = input((\"enter values 1 row\"))\n",
        "a2 = input((\"enter values\"))\n",
        "a3 = input((\"enter values\"))\n",
        "a4 = input((\"enter values 2 row\"))\n",
        "a5 = input((\"enter values\"))\n",
        "a6 = input((\"enter values\"))\n",
        "a7 = input((\"enter values 3 row\"))\n",
        "a8 = input((\"enter values\"))\n",
        "a9 = input((\"enter values\"))\n",
        "import numpy as np\n",
        "\n",
        "A = np.array([[a1,a2,a3],[a4,a5,a6],[a7,a8,a9]])\n",
        "\n",
        "# importing linalg function from scipy\n",
        "from scipy import linalg\n",
        "\n",
        "# Compute the determinant of a matrix\n",
        "linalg.det(A)\n"
      ],
      "metadata": {
        "colab": {
          "base_uri": "https://localhost:8080/"
        },
        "id": "0LuXZKmhAJen",
        "outputId": "8d398d58-6d83-458e-9113-84048591beb0"
      },
      "execution_count": 12,
      "outputs": [
        {
          "name": "stdout",
          "output_type": "stream",
          "text": [
            "enter values3\n",
            "enter values5\n",
            "enter values6\n",
            "enter values4\n",
            "enter values6\n",
            "enter values4\n",
            "enter values6\n",
            "enter values4\n",
            "enter values5\n"
          ]
        },
        {
          "output_type": "execute_result",
          "data": {
            "text/plain": [
              "-57.99999999999999"
            ]
          },
          "metadata": {},
          "execution_count": 12
        }
      ]
    }
  ]
}