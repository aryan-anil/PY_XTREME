{
  "nbformat": 4,
  "nbformat_minor": 0,
  "metadata": {
    "colab": {
      "provenance": [],
      "authorship_tag": "ABX9TyPT1ei3i81Z+//OKP6y3RqT",
      "include_colab_link": true
    },
    "kernelspec": {
      "name": "python3",
      "display_name": "Python 3"
    },
    "language_info": {
      "name": "python"
    }
  },
  "cells": [
    {
      "cell_type": "markdown",
      "metadata": {
        "id": "view-in-github",
        "colab_type": "text"
      },
      "source": [
        "<a href=\"https://colab.research.google.com/github/amithbiju/PY_XTREME/blob/main/skiPy/Eigen_values_and_eigen_vectors.ipynb\" target=\"_parent\"><img src=\"https://colab.research.google.com/assets/colab-badge.svg\" alt=\"Open In Colab\"/></a>"
      ]
    },
    {
      "cell_type": "code",
      "execution_count": 1,
      "metadata": {
        "colab": {
          "base_uri": "https://localhost:8080/"
        },
        "id": "EA8iHUcXEO7Y",
        "outputId": "df0eda3f-0afe-4297-8ecc-db287f3ff967"
      },
      "outputs": [
        {
          "output_type": "stream",
          "name": "stdout",
          "text": [
            "Looking in indexes: https://pypi.org/simple, https://us-python.pkg.dev/colab-wheels/public/simple/\n",
            "Requirement already satisfied: scipy in /usr/local/lib/python3.8/dist-packages (1.7.3)\n",
            "Requirement already satisfied: numpy<1.23.0,>=1.16.5 in /usr/local/lib/python3.8/dist-packages (from scipy) (1.21.6)\n"
          ]
        }
      ],
      "source": [
        "! pip install scipy"
      ]
    },
    {
      "cell_type": "code",
      "source": [
        "a1 = input((\"enter values 1 row\"))\n",
        "a2 = input((\"enter values\"))\n",
        "a3 = input((\"enter values\"))\n",
        "a4 = input((\"enter values 2 row\"))\n",
        "a5 = input((\"enter values\"))\n",
        "a6 = input((\"enter values\"))\n",
        "a7 = input((\"enter values 3 row\"))\n",
        "a8 = input((\"enter values\"))\n",
        "a9 = input((\"enter values\"))\n",
        "import numpy as np\n",
        "\n",
        "A = np.array([[a1,a2,a3],[a4,a5,a6],[a7,a8,a9]])\n",
        "\n",
        "# importing linalg function from scipy\n",
        "from scipy import linalg\n",
        "\n",
        "eigen_values, eigen_vectors = linalg.eig(A)\n",
        "print(\"### EIGEN VALUES###\")\n",
        "print(eigen_values)\n",
        "print(\"###EIGEN VECTORS###\")\n",
        "print(eigen_vectors)\n"
      ],
      "metadata": {
        "colab": {
          "base_uri": "https://localhost:8080/"
        },
        "id": "eu7pyvcuEpG6",
        "outputId": "416a57d5-bcea-4eed-f49e-15e234e8244d"
      },
      "execution_count": 3,
      "outputs": [
        {
          "output_type": "stream",
          "name": "stdout",
          "text": [
            "enter values 1 row34\n",
            "enter values43\n",
            "enter values67\n",
            "enter values 2 row65\n",
            "enter values45\n",
            "enter values65\n",
            "enter values 3 row76\n",
            "enter values67\n",
            "enter values67\n",
            "### EIGEN VALUES###\n",
            "[177.81199491+0.j -19.83619815+0.j -11.97579676+0.j]\n",
            "###EIGEN VECTORS###\n",
            "[[-0.48126565 -0.8146697   0.59590074]\n",
            " [-0.56396558  0.45000543 -0.79651722]\n",
            " [-0.67106348  0.3657983   0.102287  ]]\n"
          ]
        }
      ]
    }
  ]
}