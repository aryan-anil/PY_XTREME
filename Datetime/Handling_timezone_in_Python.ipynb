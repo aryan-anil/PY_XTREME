{
  "nbformat": 4,
  "nbformat_minor": 0,
  "metadata": {
    "colab": {
      "provenance": [],
      "authorship_tag": "ABX9TyMIaiEq4JUzcc7BzVh3kw95",
      "include_colab_link": true
    },
    "kernelspec": {
      "name": "python3",
      "display_name": "Python 3"
    },
    "language_info": {
      "name": "python"
    }
  },
  "cells": [
    {
      "cell_type": "markdown",
      "metadata": {
        "id": "view-in-github",
        "colab_type": "text"
      },
      "source": [
        "<a href=\"https://colab.research.google.com/github/amithbiju/PY_XTREME/blob/vr_14/Datetime/Handling_timezone_in_Python.ipynb\" target=\"_parent\"><img src=\"https://colab.research.google.com/assets/colab-badge.svg\" alt=\"Open In Colab\"/></a>"
      ]
    },
    {
      "cell_type": "code",
      "execution_count": 1,
      "metadata": {
        "colab": {
          "base_uri": "https://localhost:8080/"
        },
        "id": "DqsyV8sjz0w0",
        "outputId": "99131eff-a428-4bc9-de69-f885c68274cf"
      },
      "outputs": [
        {
          "output_type": "stream",
          "name": "stdout",
          "text": [
            "Local: 12/23/2022, 16:25:58\n",
            "NY: 12/23/2022, 11:25:58\n",
            "London: 12/23/2022, 16:25:58\n"
          ]
        }
      ],
      "source": [
        "from datetime import datetime\n",
        "import pytz\n",
        "\n",
        "local = datetime.now()\n",
        "print(\"Local:\", local.strftime(\"%m/%d/%Y, %H:%M:%S\"))\n",
        "\n",
        "\n",
        "tz_NY = pytz.timezone('America/New_York') \n",
        "datetime_NY = datetime.now(tz_NY)\n",
        "print(\"NY:\", datetime_NY.strftime(\"%m/%d/%Y, %H:%M:%S\"))\n",
        "\n",
        "tz_London = pytz.timezone('Europe/London')\n",
        "datetime_London = datetime.now(tz_London)\n",
        "print(\"London:\", datetime_London.strftime(\"%m/%d/%Y, %H:%M:%S\"))"
      ]
    }
  ]
}