{
  "nbformat": 4,
  "nbformat_minor": 0,
  "metadata": {
    "colab": {
      "provenance": [],
      "authorship_tag": "ABX9TyMUrykX1OnPv0lguDWIwgj5",
      "include_colab_link": true
    },
    "kernelspec": {
      "name": "python3",
      "display_name": "Python 3"
    },
    "language_info": {
      "name": "python"
    }
  },
  "cells": [
    {
      "cell_type": "markdown",
      "metadata": {
        "id": "view-in-github",
        "colab_type": "text"
      },
      "source": [
        "<a href=\"https://colab.research.google.com/github/aryan-anil/PY_XTREME/blob/main/Datetime/date.ipynb\" target=\"_parent\"><img src=\"https://colab.research.google.com/assets/colab-badge.svg\" alt=\"Open In Colab\"/></a>"
      ]
    },
    {
      "cell_type": "code",
      "execution_count": null,
      "metadata": {
        "colab": {
          "base_uri": "https://localhost:8080/"
        },
        "id": "tcc1x4MMGysR",
        "outputId": "9bb0d195-5d0d-4f67-ae48-75536141b4b4"
      },
      "outputs": [
        {
          "output_type": "stream",
          "name": "stdout",
          "text": [
            "Day: 9\n",
            "Month: 12\n",
            "Year: 2022\n"
          ]
        }
      ],
      "source": [
        "from datetime import date\n",
        "\n",
        "# date object of current day\n",
        "date_obj = date.today() \n",
        "\n",
        "\n",
        "print(\"Day:\", date_obj.day)\n",
        "print(\"Month:\", date_obj.month)\n",
        "print(\"Year:\", date_obj.year)"
      ]
    }
  ]
}