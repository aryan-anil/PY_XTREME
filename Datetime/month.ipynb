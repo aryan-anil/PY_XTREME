{
  "nbformat": 4,
  "nbformat_minor": 0,
  "metadata": {
    "colab": {
      "provenance": []
    },
    "kernelspec": {
      "name": "python3",
      "display_name": "Python 3"
    },
    "language_info": {
      "name": "python"
    }
  },
  "cells": [
    {
      "cell_type": "code",
      "execution_count": 6,
      "metadata": {
        "id": "1s3XiPM7H9Z7",
        "colab": {
          "base_uri": "https://localhost:8080/"
        },
        "outputId": "08ed1639-b12c-40bf-836a-e7c83206565e"
      },
      "outputs": [
        {
          "output_type": "stream",
          "name": "stdout",
          "text": [
            "Current month: 12\n"
          ]
        }
      ],
      "source": [
        "#Joel Peter Joseph\n",
        "#To get the current month\n",
        "\n",
        "from datetime import date\n",
        "\n",
        "# date object of today's date\n",
        "today = date.today() \n",
        "\n",
        "\n",
        "print(\"Current month:\", today.month)\n"
      ]
    }
  ]
}