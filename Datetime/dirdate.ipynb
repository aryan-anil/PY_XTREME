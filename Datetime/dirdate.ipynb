{
  "nbformat": 4,
  "nbformat_minor": 0,
  "metadata": {
    "colab": {
      "provenance": []
    },
    "kernelspec": {
      "name": "python3",
      "display_name": "Python 3"
    },
    "language_info": {
      "name": "python"
    }
  },
  "cells": [
    {
      "cell_type": "code",
      "execution_count": null,
      "metadata": {
        "id": "1s3XiPM7H9Z7"
      },
      "outputs": [],
      "source": [
        "#Joel Peter Joseph\n",
        "#To get the current date\n",
        "import datetime\n",
        "\n",
        "print(dir(datetime))"
      ]
    }
  ]
}