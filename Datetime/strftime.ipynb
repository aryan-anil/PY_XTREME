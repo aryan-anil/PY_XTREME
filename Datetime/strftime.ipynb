{
  "nbformat": 4,
  "nbformat_minor": 0,
  "metadata": {
    "colab": {
      "provenance": [],
      "authorship_tag": "ABX9TyO4j27WGiy+tKJyJYTja0e/",
      "include_colab_link": true
    },
    "kernelspec": {
      "name": "python3",
      "display_name": "Python 3"
    },
    "language_info": {
      "name": "python"
    }
  },
  "cells": [
    {
      "cell_type": "markdown",
      "metadata": {
        "id": "view-in-github",
        "colab_type": "text"
      },
      "source": [
        "<a href=\"https://colab.research.google.com/github/aryan-anil/PY_XTREME/blob/main/Datetime/strftime.ipynb\" target=\"_parent\"><img src=\"https://colab.research.google.com/assets/colab-badge.svg\" alt=\"Open In Colab\"/></a>"
      ]
    },
    {
      "cell_type": "code",
      "execution_count": 11,
      "metadata": {
        "colab": {
          "base_uri": "https://localhost:8080/"
        },
        "id": "GavkegHIL8EN",
        "outputId": "a5f5d3a2-5707-4e11-e212-11eca42b0686"
      },
      "outputs": [
        {
          "output_type": "stream",
          "name": "stdout",
          "text": [
            "date : 12/09/2022\n",
            "time: 14:27:53\n",
            "date: 9 December, 2022\n",
            "time: 2PM\n"
          ]
        }
      ],
      "source": [
        "from datetime import datetime\n",
        "\n",
        "date_time = datetime.now() \n",
        "\n",
        "#strftime() converts date and time objects to their string representation\n",
        "\n",
        "date = date_time.strftime(\"%m/%d/%Y\")\n",
        "print(\"date :\",date)\n",
        "#%Y, %m, %d etc. are format codes\n",
        "#it is considered as an argument\n",
        "\n",
        "time = date_time.strftime(\"%H:%M:%S\")\n",
        "print(\"time:\", time)\n",
        "\n",
        "#%-d, returns date without a zero at the start\n",
        "#%B returns month name\n",
        "date = date_time.strftime(\"%-d %B, %Y\")\n",
        "print(\"date:\", date)\n",
        "\n",
        "#%-I returns hour without a zero at the start\n",
        "#%p returns AM / PM\n",
        "time = date_time.strftime(\"%-I%p\")\n",
        "print(\"time:\", time)"
      ]
    }
  ]
}