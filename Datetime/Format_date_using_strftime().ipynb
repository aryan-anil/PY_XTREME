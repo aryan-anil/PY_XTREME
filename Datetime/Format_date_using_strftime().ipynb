{
  "nbformat": 4,
  "nbformat_minor": 0,
  "metadata": {
    "colab": {
      "provenance": [],
      "authorship_tag": "ABX9TyNQ095XWAuOf2XnyKexgAkB",
      "include_colab_link": true
    },
    "kernelspec": {
      "name": "python3",
      "display_name": "Python 3"
    },
    "language_info": {
      "name": "python"
    }
  },
  "cells": [
    {
      "cell_type": "markdown",
      "metadata": {
        "id": "view-in-github",
        "colab_type": "text"
      },
      "source": [
        "<a href=\"https://colab.research.google.com/github/amithbiju/PY_XTREME/blob/vr_12/Datetime/Format_date_using_strftime().ipynb\" target=\"_parent\"><img src=\"https://colab.research.google.com/assets/colab-badge.svg\" alt=\"Open In Colab\"/></a>"
      ]
    },
    {
      "cell_type": "code",
      "execution_count": 1,
      "metadata": {
        "colab": {
          "base_uri": "https://localhost:8080/"
        },
        "id": "78Pd4W4qwrh4",
        "outputId": "7800a8d5-62d9-4da8-8e96-7085735cd7fb"
      },
      "outputs": [
        {
          "output_type": "stream",
          "name": "stdout",
          "text": [
            "time: 16:12:17\n",
            "s1: 12/23/2022, 16:12:17\n",
            "s2: 23/12/2022, 16:12:17\n"
          ]
        }
      ],
      "source": [
        "from datetime import datetime\n",
        "\n",
        "# current date and time\n",
        "now = datetime.now()\n",
        "\n",
        "t = now.strftime(\"%H:%M:%S\")\n",
        "print(\"time:\", t)\n",
        "\n",
        "s1 = now.strftime(\"%m/%d/%Y, %H:%M:%S\")\n",
        "# mm/dd/YY H:M:S format\n",
        "print(\"s1:\", s1)\n",
        "\n",
        "s2 = now.strftime(\"%d/%m/%Y, %H:%M:%S\")\n",
        "# dd/mm/YY H:M:S format\n",
        "print(\"s2:\", s2)"
      ]
    }
  ]
}