{
  "nbformat": 4,
  "nbformat_minor": 0,
  "metadata": {
    "colab": {
      "provenance": [],
      "authorship_tag": "ABX9TyPoq0MAnImo5a4h9Amcxsc3",
      "include_colab_link": true
    },
    "kernelspec": {
      "name": "python3",
      "display_name": "Python 3"
    },
    "language_info": {
      "name": "python"
    }
  },
  "cells": [
    {
      "cell_type": "markdown",
      "metadata": {
        "id": "view-in-github",
        "colab_type": "text"
      },
      "source": [
        "<a href=\"https://colab.research.google.com/github/amithbiju/PY_XTREME/blob/vr_9/Datetime/Difference_between_two_dates_and_times.ipynb\" target=\"_parent\"><img src=\"https://colab.research.google.com/assets/colab-badge.svg\" alt=\"Open In Colab\"/></a>"
      ]
    },
    {
      "cell_type": "code",
      "execution_count": 1,
      "metadata": {
        "colab": {
          "base_uri": "https://localhost:8080/"
        },
        "id": "uM3iwP8EuSvW",
        "outputId": "865326b1-0c12-4ab7-b44f-ee74d2c6a5a2"
      },
      "outputs": [
        {
          "output_type": "stream",
          "name": "stdout",
          "text": [
            "t3 = 201 days, 0:00:00\n",
            "t6 = -333 days, 1:14:20\n",
            "type of t3 = <class 'datetime.timedelta'>\n",
            "type of t6 = <class 'datetime.timedelta'>\n"
          ]
        }
      ],
      "source": [
        "from datetime import datetime, date\n",
        "\n",
        "t1 = date(year = 2018, month = 7, day = 12)\n",
        "t2 = date(year = 2017, month = 12, day = 23)\n",
        "t3 = t1 - t2\n",
        "print(\"t3 =\", t3)\n",
        "\n",
        "t4 = datetime(year = 2018, month = 7, day = 12, hour = 7, minute = 9, second = 33)\n",
        "t5 = datetime(year = 2019, month = 6, day = 10, hour = 5, minute = 55, second = 13)\n",
        "t6 = t4 - t5\n",
        "print(\"t6 =\", t6)\n",
        "\n",
        "print(\"type of t3 =\", type(t3)) \n",
        "print(\"type of t6 =\", type(t6))  "
      ]
    }
  ]
}