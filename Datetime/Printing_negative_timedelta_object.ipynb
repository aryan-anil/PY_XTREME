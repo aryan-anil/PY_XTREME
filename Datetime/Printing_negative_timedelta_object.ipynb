{
  "nbformat": 4,
  "nbformat_minor": 0,
  "metadata": {
    "colab": {
      "provenance": [],
      "authorship_tag": "ABX9TyMgdKK/lROqgOieE7p6emGA",
      "include_colab_link": true
    },
    "kernelspec": {
      "name": "python3",
      "display_name": "Python 3"
    },
    "language_info": {
      "name": "python"
    }
  },
  "cells": [
    {
      "cell_type": "markdown",
      "metadata": {
        "id": "view-in-github",
        "colab_type": "text"
      },
      "source": [
        "<a href=\"https://colab.research.google.com/github/amithbiju/PY_XTREME/blob/vr_11/Datetime/Printing_negative_timedelta_object.ipynb\" target=\"_parent\"><img src=\"https://colab.research.google.com/assets/colab-badge.svg\" alt=\"Open In Colab\"/></a>"
      ]
    },
    {
      "cell_type": "code",
      "execution_count": 1,
      "metadata": {
        "colab": {
          "base_uri": "https://localhost:8080/"
        },
        "id": "BxR5g0nWvsDP",
        "outputId": "f60ce69d-699c-4a7b-8bb3-a06697e143a7"
      },
      "outputs": [
        {
          "output_type": "stream",
          "name": "stdout",
          "text": [
            "t3 = -1 day, 23:59:39\n",
            "t3 = 0:00:21\n"
          ]
        }
      ],
      "source": [
        "from datetime import timedelta\n",
        "\n",
        "t1 = timedelta(seconds = 33)\n",
        "t2 = timedelta(seconds = 54)\n",
        "t3 = t1 - t2\n",
        "\n",
        "print(\"t3 =\", t3)\n",
        "print(\"t3 =\", abs(t3))"
      ]
    }
  ]
}