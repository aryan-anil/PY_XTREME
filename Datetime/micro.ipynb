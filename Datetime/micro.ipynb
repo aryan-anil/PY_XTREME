{
  "nbformat": 4,
  "nbformat_minor": 0,
  "metadata": {
    "colab": {
      "provenance": []
    },
    "kernelspec": {
      "name": "python3",
      "display_name": "Python 3"
    },
    "language_info": {
      "name": "python"
    }
  },
  "cells": [
    {
      "cell_type": "code",
      "execution_count": 9,
      "metadata": {
        "id": "1s3XiPM7H9Z7",
        "colab": {
          "base_uri": "https://localhost:8080/"
        },
        "outputId": "b4e98794-252d-4f18-e8d6-07d10fdca5d6"
      },
      "outputs": [
        {
          "output_type": "stream",
          "name": "stdout",
          "text": [
            "hour = 11\n",
            "minute = 34\n",
            "second = 56\n",
            "microsecond = 0\n"
          ]
        }
      ],
      "source": [
        "#Joel Peter Joseph\n",
        "\n",
        "# Python program for printing hour,minute,second,microsecond\n",
        "\n",
        "\n",
        "\n",
        "\n",
        "from datetime import time\n",
        "\n",
        "a = time(11, 34, 56)\n",
        "\n",
        "print(\"hour =\", a.hour)\n",
        "print(\"minute =\", a.minute)\n",
        "print(\"second =\", a.second)\n",
        "print(\"microsecond =\", a.microsecond)"
      ]
    }
  ]
}