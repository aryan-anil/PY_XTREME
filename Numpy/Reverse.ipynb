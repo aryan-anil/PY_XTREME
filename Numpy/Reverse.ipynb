{
  "nbformat": 4,
  "nbformat_minor": 0,
  "metadata": {
    "colab": {
      "provenance": [],
      "authorship_tag": "ABX9TyPpTauFfbvQx7SfYfo6+Tty",
      "include_colab_link": true
    },
    "kernelspec": {
      "name": "python3",
      "display_name": "Python 3"
    },
    "language_info": {
      "name": "python"
    }
  },
  "cells": [
    {
      "cell_type": "markdown",
      "metadata": {
        "id": "view-in-github",
        "colab_type": "text"
      },
      "source": [
        "<a href=\"https://colab.research.google.com/github/Annamjohn/PY_XTREME/blob/main/Numpy/Reverse.ipynb\" target=\"_parent\"><img src=\"https://colab.research.google.com/assets/colab-badge.svg\" alt=\"Open In Colab\"/></a>"
      ]
    },
    {
      "cell_type": "code",
      "execution_count": 15,
      "metadata": {
        "colab": {
          "base_uri": "https://localhost:8080/"
        },
        "id": "0GyxdDuWRrCp",
        "outputId": "09cd54e8-f732-4101-ee5e-ff25bb2078e6"
      },
      "outputs": [
        {
          "output_type": "stream",
          "name": "stdout",
          "text": [
            "Enter size: 5\n",
            "1\n",
            "2\n",
            "3\n",
            "4\n",
            "5\n",
            "final array ['5' '4' '3' '2' '1']\n"
          ]
        }
      ],
      "source": [
        "import numpy as np\n",
        "\n",
        "# initialising numpy array\n",
        "a=[]\n",
        "n=int(input(\"Enter size: \"))\n",
        "for i in range (n):\n",
        "  x=input()\n",
        "  a.append(x)\n",
        "\n",
        "  ini_array=np.asarray(a)\n",
        "\n",
        "\n",
        "# using shortcut method to reverse\n",
        "res = np.flip(ini_array)\n",
        "\n",
        "# printing result\n",
        "print(\"final array\", str(res))\n"
      ]
    }
  ]
}