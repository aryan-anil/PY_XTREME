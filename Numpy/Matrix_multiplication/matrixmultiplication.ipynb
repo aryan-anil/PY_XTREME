{
  "nbformat": 4,
  "nbformat_minor": 0,
  "metadata": {
    "colab": {
      "provenance": [],
      "authorship_tag": "ABX9TyOmjl/ovjMc9P0OxCHae6Iw",
      "include_colab_link": true
    },
    "kernelspec": {
      "name": "python3",
      "display_name": "Python 3"
    },
    "language_info": {
      "name": "python"
    }
  },
  "cells": [
    {
      "cell_type": "markdown",
      "metadata": {
        "id": "view-in-github",
        "colab_type": "text"
      },
      "source": [
        "<a href=\"https://colab.research.google.com/github/Annamjohn/PY_XTREME/blob/main/Numpy/Matrix_multiplication/matrixmultiplication.ipynb\" target=\"_parent\"><img src=\"https://colab.research.google.com/assets/colab-badge.svg\" alt=\"Open In Colab\"/></a>"
      ]
    },
    {
      "cell_type": "code",
      "execution_count": 11,
      "metadata": {
        "colab": {
          "base_uri": "https://localhost:8080/"
        },
        "id": "0GyxdDuWRrCp",
        "outputId": "448c423e-d397-46f5-f719-609e09efd5ce"
      },
      "outputs": [
        {
          "output_type": "execute_result",
          "data": {
            "text/plain": [
              "array([[[ 9, 16, 21],\n",
              "        [24, 25, 24],\n",
              "        [21, 16,  9]]])"
            ]
          },
          "metadata": {},
          "execution_count": 11
        }
      ],
      "source": [
        "import numpy as np  \n",
        "array1=np.array([[1,2,3],[4,5,6],[7,8,9]],ndmin=3)  \n",
        "array2=np.array([[9,8,7],[6,5,4],[3,2,1]],ndmin=3)  \n",
        "result=np.multiply(array1,array2)  \n",
        "result  "
      ]
    }
  ]
}