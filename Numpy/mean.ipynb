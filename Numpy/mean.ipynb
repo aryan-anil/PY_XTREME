{
  "nbformat": 4,
  "nbformat_minor": 0,
  "metadata": {
    "colab": {
      "provenance": [],
      "authorship_tag": "ABX9TyNPJJOoy5FqcZCLhEbUFAaR",
      "include_colab_link": true
    },
    "kernelspec": {
      "name": "python3",
      "display_name": "Python 3"
    },
    "language_info": {
      "name": "python"
    }
  },
  "cells": [
    {
      "cell_type": "markdown",
      "metadata": {
        "id": "view-in-github",
        "colab_type": "text"
      },
      "source": [
        "<a href=\"https://colab.research.google.com/github/HarrelAlex/24req/blob/main/Numpy/mean.ipynb\" target=\"_parent\"><img src=\"https://colab.research.google.com/assets/colab-badge.svg\" alt=\"Open In Colab\"/></a>"
      ]
    },
    {
      "cell_type": "code",
      "execution_count": 2,
      "metadata": {
        "colab": {
          "base_uri": "https://localhost:8080/"
        },
        "id": "nbRVS9OI2aaY",
        "outputId": "03df4b00-463e-45f5-8db3-f550912fd3e6"
      },
      "outputs": [
        {
          "output_type": "stream",
          "name": "stdout",
          "text": [
            "Enter a list of numbers separated by commas: 21,54,66,33,86\n",
            "The mean of the numbers is 52.0\n"
          ]
        }
      ],
      "source": [
        "import numpy as np\n",
        "\n",
        "def calculate_mean(numbers):\n",
        "  return np.mean(numbers)\n",
        "\n",
        "# Get input from the user\n",
        "numbers_str = input(\"Enter a list of numbers separated by commas: \")\n",
        "\n",
        "# Split the input string into a list of numbers\n",
        "numbers = [float(x) for x in numbers_str.split(\",\")]\n",
        "\n",
        "# Calculate the mean of the numbers\n",
        "result = calculate_mean(numbers)\n",
        "\n",
        "# Print the result\n",
        "print(f\"The mean of the numbers is {result}\")"
      ]
    }
  ]
}