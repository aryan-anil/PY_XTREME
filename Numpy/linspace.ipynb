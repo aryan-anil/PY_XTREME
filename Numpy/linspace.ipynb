{
  "nbformat": 4,
  "nbformat_minor": 0,
  "metadata": {
    "colab": {
      "provenance": [],
      "authorship_tag": "ABX9TyOy4PPsG4//cufWHi2YjP2F",
      "include_colab_link": true
    },
    "kernelspec": {
      "name": "python3",
      "display_name": "Python 3"
    },
    "language_info": {
      "name": "python"
    }
  },
  "cells": [
    {
      "cell_type": "markdown",
      "metadata": {
        "id": "view-in-github",
        "colab_type": "text"
      },
      "source": [
        "<a href=\"https://colab.research.google.com/github/ahadanzar/PY_XTREME/blob/main/Numpy/linspace.ipynb\" target=\"_parent\"><img src=\"https://colab.research.google.com/assets/colab-badge.svg\" alt=\"Open In Colab\"/></a>"
      ]
    },
    {
      "cell_type": "code",
      "execution_count": 12,
      "metadata": {
        "colab": {
          "base_uri": "https://localhost:8080/"
        },
        "id": "86nyzHB2a2Lb",
        "outputId": "ca443b89-9ee1-4d2b-95a1-d1c92f225ffe"
      },
      "outputs": [
        {
          "output_type": "stream",
          "name": "stdout",
          "text": [
            "[ 2  4  6  8 10 12 14 16 18 20]\n"
          ]
        }
      ],
      "source": [
        "#Ahad Anzar\n",
        "#Python program to create evenly spaced numbers over a specified interval \n",
        "\n",
        "import numpy as np\n",
        "\n",
        "x, y, end = 2, 20, 10\n",
        "arr = np.linspace(x, y, end, dtype=int)\n",
        "\n",
        "print(arr)"
      ]
    }
  ]
}