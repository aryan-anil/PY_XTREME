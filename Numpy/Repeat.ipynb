{
  "nbformat": 4,
  "nbformat_minor": 0,
  "metadata": {
    "colab": {
      "provenance": [],
      "authorship_tag": "ABX9TyOLM0nueMgKztCC5TjI3dwd",
      "include_colab_link": true
    },
    "kernelspec": {
      "name": "python3",
      "display_name": "Python 3"
    },
    "language_info": {
      "name": "python"
    }
  },
  "cells": [
    {
      "cell_type": "markdown",
      "metadata": {
        "id": "view-in-github",
        "colab_type": "text"
      },
      "source": [
        "<a href=\"https://colab.research.google.com/github/ahadanzar/PY_XTREME/blob/main/Numpy/Repeat.ipynb\" target=\"_parent\"><img src=\"https://colab.research.google.com/assets/colab-badge.svg\" alt=\"Open In Colab\"/></a>"
      ]
    },
    {
      "cell_type": "code",
      "execution_count": 7,
      "metadata": {
        "colab": {
          "base_uri": "https://localhost:8080/"
        },
        "id": "Eeh7_oF6bKXj",
        "outputId": "1c2ee853-7e5a-46fc-bb83-3cb80a8d3cf8"
      },
      "outputs": [
        {
          "output_type": "stream",
          "name": "stdout",
          "text": [
            "[2 2 2 2 2 2 2 2 2 2]\n"
          ]
        }
      ],
      "source": [
        "#Ahad Anzar\n",
        "#Python program to repeat the elements of an array\n",
        "\n",
        "import numpy as np\n",
        "\n",
        "x = 2\n",
        "arr = np.repeat(x, 10)\n",
        "\n",
        "print(arr)"
      ]
    }
  ]
}