{
  "nbformat": 4,
  "nbformat_minor": 0,
  "metadata": {
    "colab": {
      "provenance": [],
      "authorship_tag": "ABX9TyNroOB2ByNWQzZyQ7erWVOt",
      "include_colab_link": true
    },
    "kernelspec": {
      "name": "python3",
      "display_name": "Python 3"
    },
    "language_info": {
      "name": "python"
    }
  },
  "cells": [
    {
      "cell_type": "markdown",
      "metadata": {
        "id": "view-in-github",
        "colab_type": "text"
      },
      "source": [
        "<a href=\"https://colab.research.google.com/github/Annamjohn/PY_XTREME/blob/main/Numpy/sortvalues.ipynb\" target=\"_parent\"><img src=\"https://colab.research.google.com/assets/colab-badge.svg\" alt=\"Open In Colab\"/></a>"
      ]
    },
    {
      "cell_type": "code",
      "execution_count": 24,
      "metadata": {
        "colab": {
          "base_uri": "https://localhost:8080/"
        },
        "id": "0GyxdDuWRrCp",
        "outputId": "4b58cda4-db92-4b31-fa21-9f2bc02c27c1"
      },
      "outputs": [
        {
          "output_type": "stream",
          "name": "stdout",
          "text": [
            "Enter size of first matrix: 3\n",
            "1\n",
            "3\n",
            "2\n",
            "5\n",
            "4\n",
            "6\n",
            "7\n",
            "5\n",
            "9\n",
            "[1 2 3 4 5 5 6 7 9]\n"
          ]
        }
      ],
      "source": [
        "import numpy as np\n",
        "\n",
        "# initialising numpy array\n",
        "a=[]\n",
        "n=int(input(\"Enter size of first matrix: \"))\n",
        "for i in range (n):                                       #temporary list to store the row\n",
        "  for j in range (n): \n",
        "    x=int(input())                #add the input to row list\n",
        "    a.append(x)                               #add the row to the list\n",
        "A=np.asarray(a)\n",
        "\n",
        "\n",
        "             \n",
        "# applying matrix.sort() method\n",
        "A.sort()\n",
        "   \n",
        "print(A)"
      ]
    }
  ]
}