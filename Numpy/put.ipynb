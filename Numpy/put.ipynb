{
  "nbformat": 4,
  "nbformat_minor": 0,
  "metadata": {
    "colab": {
      "provenance": [],
      "name": "put.ipynb",
      "authorship_tag": "ABX9TyOHSLukdYpOZB4fB2zW3kbR",
      "include_colab_link": true
    },
    "kernelspec": {
      "name": "python3",
      "display_name": "Python 3"
    },
    "language_info": {
      "name": "python"
    }
  },
  "cells": [
    {
      "cell_type": "markdown",
      "metadata": {
        "id": "view-in-github",
        "colab_type": "text"
      },
      "source": [
        "<a href=\"https://colab.research.google.com/github/ahadanzar/PY_XTREME/blob/main/Numpy/put.ipynb\" target=\"_parent\"><img src=\"https://colab.research.google.com/assets/colab-badge.svg\" alt=\"Open In Colab\"/></a>"
      ]
    },
    {
      "cell_type": "code",
      "execution_count": 8,
      "metadata": {
        "colab": {
          "base_uri": "https://localhost:8080/"
        },
        "id": "Eeh7_oF6bKXj",
        "outputId": "0b125e86-c181-4454-f45c-e99b437acc03"
      },
      "outputs": [
        {
          "output_type": "stream",
          "name": "stdout",
          "text": [
            "[1 6 7 4 5 6]\n"
          ]
        }
      ],
      "source": [
        "#Ahad Anzar\n",
        "#Python program to replace array elements\n",
        "\n",
        "import numpy as np\n",
        "\n",
        "arr = np.array([1,2,3,4,5,6])\n",
        "np.put(arr,[1,2],[6,7])\n",
        "print(arr)"
      ]
    }
  ]
}