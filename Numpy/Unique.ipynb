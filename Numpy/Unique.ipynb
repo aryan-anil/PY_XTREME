{
  "nbformat": 4,
  "nbformat_minor": 0,
  "metadata": {
    "colab": {
      "provenance": [],
      "name": "Unique.ipynb",
      "authorship_tag": "ABX9TyNK1FXNOsUln0WHWpzjdN8Z",
      "include_colab_link": true
    },
    "kernelspec": {
      "name": "python3",
      "display_name": "Python 3"
    },
    "language_info": {
      "name": "python"
    }
  },
  "cells": [
    {
      "cell_type": "markdown",
      "metadata": {
        "id": "view-in-github",
        "colab_type": "text"
      },
      "source": [
        "<a href=\"https://colab.research.google.com/github/ahadanzar/PY_XTREME/blob/main/Numpy/Unique.ipynb\" target=\"_parent\"><img src=\"https://colab.research.google.com/assets/colab-badge.svg\" alt=\"Open In Colab\"/></a>"
      ]
    },
    {
      "cell_type": "code",
      "execution_count": 14,
      "metadata": {
        "colab": {
          "base_uri": "https://localhost:8080/"
        },
        "id": "Eeh7_oF6bKXj",
        "outputId": "89fc7351-76af-4fb6-f9ae-9721d9960684"
      },
      "outputs": [
        {
          "output_type": "stream",
          "name": "stdout",
          "text": [
            "[1 3 4]\n"
          ]
        }
      ],
      "source": [
        "#Ahad Anzar\n",
        "#Python program to find unique elements in first array\n",
        "\n",
        "import numpy as np\n",
        "\n",
        "a = np.array([1, 7, 3, 2, 4, 1])\n",
        "b = np.array([9, 2, 5, 6, 7, 8])\n",
        "arr3 = np.setdiff1d(a, b)\n",
        "print(arr3)"
      ]
    }
  ]
}