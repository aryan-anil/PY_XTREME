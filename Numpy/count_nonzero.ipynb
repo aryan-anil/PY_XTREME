{
  "nbformat": 4,
  "nbformat_minor": 0,
  "metadata": {
    "colab": {
      "provenance": [],
      "authorship_tag": "ABX9TyNzz9w659vDFBwesR/PZsFE",
      "include_colab_link": true
    },
    "kernelspec": {
      "name": "python3",
      "display_name": "Python 3"
    },
    "language_info": {
      "name": "python"
    }
  },
  "cells": [
    {
      "cell_type": "markdown",
      "metadata": {
        "id": "view-in-github",
        "colab_type": "text"
      },
      "source": [
        "<a href=\"https://colab.research.google.com/github/gadhalekshmip/PY_XTREME/blob/main/Numpy/count_nonzero.ipynb\" target=\"_parent\"><img src=\"https://colab.research.google.com/assets/colab-badge.svg\" alt=\"Open In Colab\"/></a>"
      ]
    },
    {
      "cell_type": "code",
      "execution_count": 3,
      "metadata": {
        "colab": {
          "base_uri": "https://localhost:8080/"
        },
        "id": "2q9NLzodJ4Dv",
        "outputId": "a9c9bec4-ff21-459c-ae85-04bcc7ec4c47"
      },
      "outputs": [
        {
          "output_type": "stream",
          "name": "stdout",
          "text": [
            "non zero count: 6\n"
          ]
        }
      ],
      "source": [
        "# gadha lekshmi p\n",
        "# count non zero in an array using count_nonzero() function\n",
        "import numpy as np\n",
        "  \n",
        "arr = [[0, 1, 2, 3, 0], [0, 5, 6, 0, 7]]\n",
        "  \n",
        "m = np.count_nonzero(arr)\n",
        "  \n",
        "print ('non zero count:',m) "
      ]
    }
  ]
}