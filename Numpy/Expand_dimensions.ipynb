{
  "nbformat": 4,
  "nbformat_minor": 0,
  "metadata": {
    "colab": {
      "provenance": [],
      "name": "Expand_dimensions.ipynb",
      "authorship_tag": "ABX9TyPG/c4XFQNqLuNvQMQG1nNH",
      "include_colab_link": true
    },
    "kernelspec": {
      "name": "python3",
      "display_name": "Python 3"
    },
    "language_info": {
      "name": "python"
    }
  },
  "cells": [
    {
      "cell_type": "markdown",
      "metadata": {
        "id": "view-in-github",
        "colab_type": "text"
      },
      "source": [
        "<a href=\"https://colab.research.google.com/github/ahadanzar/PY_XTREME/blob/main/Numpy/Expand_dimensions.ipynb\" target=\"_parent\"><img src=\"https://colab.research.google.com/assets/colab-badge.svg\" alt=\"Open In Colab\"/></a>"
      ]
    },
    {
      "cell_type": "code",
      "execution_count": 6,
      "metadata": {
        "colab": {
          "base_uri": "https://localhost:8080/"
        },
        "id": "Eeh7_oF6bKXj",
        "outputId": "2269194c-d81b-4b6f-f0c2-f59a8fc2bd42"
      },
      "outputs": [
        {
          "output_type": "stream",
          "name": "stdout",
          "text": [
            "[[ 8]\n",
            " [14]\n",
            " [ 1]\n",
            " [ 8]\n",
            " [11]\n",
            " [ 4]\n",
            " [ 9]\n",
            " [ 4]\n",
            " [ 1]\n",
            " [13]\n",
            " [13]\n",
            " [11]]\n"
          ]
        }
      ],
      "source": [
        "#Ahad Anzar\n",
        "#Python program to expand the dimensions of an array\n",
        "\n",
        "import numpy as np\n",
        "\n",
        "arr = np.array([ 8, 14,  1,  8, 11,  4,  9,  4, 1, 13, 13, 11])\n",
        "arr = np.expand_dims(arr,axis=1)\n",
        "print(arr)"
      ]
    }
  ]
}