{
  "nbformat": 4,
  "nbformat_minor": 0,
  "metadata": {
    "colab": {
      "provenance": [],
      "authorship_tag": "ABX9TyM8OfO2LprDLfHiBX6X2ZeO",
      "include_colab_link": true
    },
    "kernelspec": {
      "name": "python3",
      "display_name": "Python 3"
    },
    "language_info": {
      "name": "python"
    }
  },
  "cells": [
    {
      "cell_type": "markdown",
      "metadata": {
        "id": "view-in-github",
        "colab_type": "text"
      },
      "source": [
        "<a href=\"https://colab.research.google.com/github/ahadanzar/PY_XTREME/blob/main/Numpy/PolyFit.ipynb\" target=\"_parent\"><img src=\"https://colab.research.google.com/assets/colab-badge.svg\" alt=\"Open In Colab\"/></a>"
      ]
    },
    {
      "cell_type": "code",
      "execution_count": 2,
      "metadata": {
        "colab": {
          "base_uri": "https://localhost:8080/"
        },
        "id": "lBswOgGvfDSP",
        "outputId": "547518af-063b-4a06-bc35-67720dbb7b12"
      },
      "outputs": [
        {
          "output_type": "stream",
          "name": "stdout",
          "text": [
            "Slope : 1.9999999999999998, Intercept : 2.877272015399067e-16\n"
          ]
        }
      ],
      "source": [
        "#Ahad Anzar\n",
        "#Python program to find a polynomial of degree deg that fits the points (x,y)\n",
        "\n",
        "import numpy as np\n",
        "\n",
        "x = [1, 2, 3, 4, 5, 6, 7]\n",
        "y = [2, 4, 6, 8, 10, 12, 14]\n",
        "fit = np.polyfit(x, y, 1)\n",
        "\n",
        "print(\"Slope : {}, Intercept : {}\".format(fit[0], fit[1]))"
      ]
    }
  ]
}