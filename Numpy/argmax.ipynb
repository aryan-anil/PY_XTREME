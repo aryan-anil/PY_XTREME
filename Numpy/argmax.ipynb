{
  "nbformat": 4,
  "nbformat_minor": 0,
  "metadata": {
    "colab": {
      "provenance": [],
      "authorship_tag": "ABX9TyMikbIuo0ShQCT2MZWfPQLj",
      "include_colab_link": true
    },
    "kernelspec": {
      "name": "python3",
      "display_name": "Python 3"
    },
    "language_info": {
      "name": "python"
    }
  },
  "cells": [
    {
      "cell_type": "markdown",
      "metadata": {
        "id": "view-in-github",
        "colab_type": "text"
      },
      "source": [
        "<a href=\"https://colab.research.google.com/github/ahadanzar/PY_XTREME/blob/main/Numpy/argmax.ipynb\" target=\"_parent\"><img src=\"https://colab.research.google.com/assets/colab-badge.svg\" alt=\"Open In Colab\"/></a>"
      ]
    },
    {
      "cell_type": "code",
      "execution_count": 17,
      "metadata": {
        "colab": {
          "base_uri": "https://localhost:8080/"
        },
        "id": "86nyzHB2a2Lb",
        "outputId": "5cc3cca4-fec4-4b0e-9a73-a4d9282a8fb5"
      },
      "outputs": [
        {
          "output_type": "stream",
          "name": "stdout",
          "text": [
            "Index of max value: 5\n"
          ]
        }
      ],
      "source": [
        "#Ahad Anzar\n",
        "#Python program to find indices of the maximum values along an axis.\n",
        "\n",
        "import numpy as np\n",
        "\n",
        "x = [[1, 2, 3], [4, 5, 6]]\n",
        "max = np.argmax(x)\n",
        "\n",
        "print(\"Index of max value:\", max)"
      ]
    }
  ]
}