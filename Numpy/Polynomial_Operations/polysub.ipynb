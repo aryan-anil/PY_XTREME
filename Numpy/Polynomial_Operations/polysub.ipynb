{
  "nbformat": 4,
  "nbformat_minor": 0,
  "metadata": {
    "colab": {
      "provenance": [],
      "authorship_tag": "ABX9TyNR7UbHUPZDdPJqTUd/l3VP",
      "include_colab_link": true
    },
    "kernelspec": {
      "name": "python3",
      "display_name": "Python 3"
    },
    "language_info": {
      "name": "python"
    }
  },
  "cells": [
    {
      "cell_type": "markdown",
      "metadata": {
        "id": "view-in-github",
        "colab_type": "text"
      },
      "source": [
        "<a href=\"https://colab.research.google.com/github/gadhalekshmip/PY_XTREME/blob/main/Numpy/Polynomial_Operations/polysub.ipynb\" target=\"_parent\"><img src=\"https://colab.research.google.com/assets/colab-badge.svg\" alt=\"Open In Colab\"/></a>"
      ]
    },
    {
      "cell_type": "code",
      "execution_count": null,
      "metadata": {
        "id": "oHCc-dirm92f"
      },
      "outputs": [],
      "source": []
    },
    {
      "cell_type": "code",
      "execution_count": 3,
      "metadata": {
        "colab": {
          "base_uri": "https://localhost:8080/"
        },
        "id": "IxfzUge8MEDV",
        "outputId": "de370e0f-e6ab-4f5d-b165-0bf457fa2dda"
      },
      "outputs": [
        {
          "output_type": "stream",
          "name": "stdout",
          "text": [
            "   2\n",
            "9 x + 5 x + 4\n",
            "   2\n",
            "2 x + 2 x + 2\n",
            "   2\n",
            "7 x + 3 x + 2\n"
          ]
        }
      ],
      "source": [
        "#gadha lekshmi p\n",
        "import numpy as np\n",
        "\n",
        "\n",
        "p1 = np.poly1d([2, 2, 2])\n",
        "p2 = np.poly1d([9, 5, 4])\n",
        "\n",
        "print(p2)\n",
        "\n",
        "print(p1)\n",
        "\n",
        "print(np.polysub(p2, p1))"
      ]
    }
  ]
}