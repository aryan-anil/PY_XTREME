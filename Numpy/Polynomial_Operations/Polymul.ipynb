{
  "nbformat": 4,
  "nbformat_minor": 0,
  "metadata": {
    "colab": {
      "provenance": [],
      "authorship_tag": "ABX9TyNA5KZecMyOqtYuz1fC+Xbn",
      "include_colab_link": true
    },
    "kernelspec": {
      "name": "python3",
      "display_name": "Python 3"
    },
    "language_info": {
      "name": "python"
    }
  },
  "cells": [
    {
      "cell_type": "markdown",
      "metadata": {
        "id": "view-in-github",
        "colab_type": "text"
      },
      "source": [
        "<a href=\"https://colab.research.google.com/github/Annamjohn/PY_XTREME/blob/main/Numpy/Polynomial_Operations/Polymul.ipynb\" target=\"_parent\"><img src=\"https://colab.research.google.com/assets/colab-badge.svg\" alt=\"Open In Colab\"/></a>"
      ]
    },
    {
      "cell_type": "code",
      "execution_count": 1,
      "metadata": {
        "colab": {
          "base_uri": "https://localhost:8080/"
        },
        "id": "ZXb0hMDLPv03",
        "outputId": "cd29b35b-0ec9-4ae4-ee61-394475d15e66"
      },
      "outputs": [
        {
          "output_type": "stream",
          "name": "stdout",
          "text": [
            "P1 :   \n",
            "1 x + 2\n",
            "\n",
            " p2 : \n",
            "    3     2\n",
            "4 x + 9 x + 5 x + 4\n"
          ]
        }
      ],
      "source": [
        "# Python code explaining\n",
        "# numpy.polymul()\n",
        "\t\n",
        "# importing libraries\n",
        "import numpy as np\n",
        "import pandas as pd\n",
        "\n",
        "# Constructing polynomial\n",
        "p1 = np.poly1d([1, 2])\n",
        "p2 = np.poly1d([4, 9, 5, 4])\n",
        "\t\n",
        "print (\"P1 : \", p1)\n",
        "print (\"\\n p2 : \\n\", p2)\n"
      ]
    }
  ]
}