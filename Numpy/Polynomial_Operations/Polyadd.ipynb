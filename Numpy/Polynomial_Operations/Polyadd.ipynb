{
  "nbformat": 4,
  "nbformat_minor": 0,
  "metadata": {
    "colab": {
      "provenance": [],
      "authorship_tag": "ABX9TyOeJhqP56QVJ+V8mQLVQ7V0",
      "include_colab_link": true
    },
    "kernelspec": {
      "name": "python3",
      "display_name": "Python 3"
    },
    "language_info": {
      "name": "python"
    }
  },
  "cells": [
    {
      "cell_type": "markdown",
      "metadata": {
        "id": "view-in-github",
        "colab_type": "text"
      },
      "source": [
        "<a href=\"https://colab.research.google.com/github/gadhalekshmip/PY_XTREME/blob/main/Numpy/Polynomial_Operations/Polyadd.ipynb\" target=\"_parent\"><img src=\"https://colab.research.google.com/assets/colab-badge.svg\" alt=\"Open In Colab\"/></a>"
      ]
    },
    {
      "cell_type": "code",
      "execution_count": 19,
      "metadata": {
        "colab": {
          "base_uri": "https://localhost:8080/"
        },
        "id": "IxfzUge8MEDV",
        "outputId": "0374b8e4-9af6-4e6a-c2c8-28314e0106cd"
      },
      "outputs": [
        {
          "output_type": "stream",
          "name": "stdout",
          "text": [
            "   2\n",
            "2 x + 2 x + 2\n",
            "   2\n",
            "9 x + 5 x + 4\n",
            "    2\n",
            "11 x + 7 x + 6\n"
          ]
        }
      ],
      "source": [
        "#gadha lekshmi p\n",
        "import numpy as np\n",
        "\n",
        "\n",
        "p1 = np.poly1d([2, 2, 2])\n",
        "p2 = np.poly1d([9, 5, 4])\n",
        "\n",
        "print(p1)\n",
        "\n",
        "print(p2)\n",
        "\n",
        "print(np.polyadd(p1, p2))"
      ]
    }
  ]
}