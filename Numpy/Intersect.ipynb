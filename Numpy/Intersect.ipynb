{
  "nbformat": 4,
  "nbformat_minor": 0,
  "metadata": {
    "colab": {
      "provenance": [],
      "name": "Intersect.ipynb",
      "authorship_tag": "ABX9TyMnNFmnUF2L9MBPNFbTvvMB",
      "include_colab_link": true
    },
    "kernelspec": {
      "name": "python3",
      "display_name": "Python 3"
    },
    "language_info": {
      "name": "python"
    }
  },
  "cells": [
    {
      "cell_type": "markdown",
      "metadata": {
        "id": "view-in-github",
        "colab_type": "text"
      },
      "source": [
        "<a href=\"https://colab.research.google.com/github/ahadanzar/PY_XTREME/blob/main/Numpy/Intersect.ipynb\" target=\"_parent\"><img src=\"https://colab.research.google.com/assets/colab-badge.svg\" alt=\"Open In Colab\"/></a>"
      ]
    },
    {
      "cell_type": "code",
      "execution_count": 10,
      "metadata": {
        "colab": {
          "base_uri": "https://localhost:8080/"
        },
        "id": "Eeh7_oF6bKXj",
        "outputId": "97f0ee77-29ac-4cb4-880e-b7180b03db09"
      },
      "outputs": [
        {
          "output_type": "stream",
          "name": "stdout",
          "text": [
            "[1 3 4 5]\n"
          ]
        }
      ],
      "source": [
        "#Ahad Anzar\n",
        "#Python program to find intersection of 2 arrays\n",
        "\n",
        "import numpy as np\n",
        "\n",
        "ar1 = np.array([1,2,3,4,5,6])\n",
        "ar2 = np.array([3,4,5,8,9,1])\n",
        "arr3 = np.intersect1d(ar1,ar2)\n",
        "print(arr3)"
      ]
    }
  ]
}