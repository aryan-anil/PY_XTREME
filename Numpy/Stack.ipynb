{
  "nbformat": 4,
  "nbformat_minor": 0,
  "metadata": {
    "colab": {
      "provenance": [],
      "name": "Stack.ipynb",
      "authorship_tag": "ABX9TyMQkLyKcvxr/S4hilnz3uuf",
      "include_colab_link": true
    },
    "kernelspec": {
      "name": "python3",
      "display_name": "Python 3"
    },
    "language_info": {
      "name": "python"
    }
  },
  "cells": [
    {
      "cell_type": "markdown",
      "metadata": {
        "id": "view-in-github",
        "colab_type": "text"
      },
      "source": [
        "<a href=\"https://colab.research.google.com/github/ahadanzar/PY_XTREME/blob/main/Numpy/Stack.ipynb\" target=\"_parent\"><img src=\"https://colab.research.google.com/assets/colab-badge.svg\" alt=\"Open In Colab\"/></a>"
      ]
    },
    {
      "cell_type": "code",
      "execution_count": 13,
      "metadata": {
        "colab": {
          "base_uri": "https://localhost:8080/"
        },
        "id": "Eeh7_oF6bKXj",
        "outputId": "1e2ba765-0e18-4433-bd36-24072aa1a9c3"
      },
      "outputs": [
        {
          "output_type": "stream",
          "name": "stdout",
          "text": [
            "[1 2 3 4 5 6 3 4 5 8 9 1]\n"
          ]
        }
      ],
      "source": [
        "#Ahad Anzar\n",
        "#Python program to stack 2 arrays\n",
        "\n",
        "import numpy as np\n",
        "\n",
        "ar1 = np.array([1,2,3,4,5,6])\n",
        "ar2 = np.array([3,4,5,8,9,1])\n",
        "arr3 = np.hstack((ar1,ar2))\n",
        "print(arr3)"
      ]
    }
  ]
}