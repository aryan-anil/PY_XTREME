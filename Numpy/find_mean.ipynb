{
  "nbformat": 4,
  "nbformat_minor": 0,
  "metadata": {
    "colab": {
      "provenance": [],
      "authorship_tag": "ABX9TyM2SNzdDPEEIFQ8XAvTvcuq",
      "include_colab_link": true
    },
    "kernelspec": {
      "name": "python3",
      "display_name": "Python 3"
    },
    "language_info": {
      "name": "python"
    }
  },
  "cells": [
    {
      "cell_type": "markdown",
      "metadata": {
        "id": "view-in-github",
        "colab_type": "text"
      },
      "source": [
        "<a href=\"https://colab.research.google.com/github/gadhalekshmip/PY_XTREME/blob/main/Numpy/find_mean.ipynb\" target=\"_parent\"><img src=\"https://colab.research.google.com/assets/colab-badge.svg\" alt=\"Open In Colab\"/></a>"
      ]
    },
    {
      "cell_type": "code",
      "execution_count": 4,
      "metadata": {
        "colab": {
          "base_uri": "https://localhost:8080/"
        },
        "id": "2q9NLzodJ4Dv",
        "outputId": "09f23b09-78a1-4271-8c2a-f9a947af6787"
      },
      "outputs": [
        {
          "output_type": "stream",
          "name": "stdout",
          "text": [
            "[5.5, 30.6, 34.0]\n"
          ]
        }
      ],
      "source": [
        "# gadha lekshmi p\n",
        "# find the mean of every NumPy array\n",
        "import numpy as np\n",
        "\n",
        "list = [\n",
        "    np.array([3, 2, 8, 9]),\n",
        "    np.array([4, 12, 34, 25, 78]),\n",
        "    np.array([23, 12, 67])\n",
        "]\n",
        "\n",
        "result = []\n",
        "for i in range(len(list)):\n",
        "    result.append(np.mean(list[i]))\n",
        "print(result)"
      ]
    }
  ]
}