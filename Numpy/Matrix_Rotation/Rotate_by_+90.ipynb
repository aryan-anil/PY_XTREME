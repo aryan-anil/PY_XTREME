{
  "nbformat": 4,
  "nbformat_minor": 0,
  "metadata": {
    "colab": {
      "provenance": [],
      "authorship_tag": "ABX9TyOPaakI0XcwXdObRGCOfRFP",
      "include_colab_link": true
    },
    "kernelspec": {
      "name": "python3",
      "display_name": "Python 3"
    },
    "language_info": {
      "name": "python"
    }
  },
  "cells": [
    {
      "cell_type": "markdown",
      "metadata": {
        "id": "view-in-github",
        "colab_type": "text"
      },
      "source": [
        "<a href=\"https://colab.research.google.com/github/gadhalekshmip/PY_XTREME/blob/main/Numpy/Matrix_Rotation/Rotate_by_%2B90.ipynb\" target=\"_parent\"><img src=\"https://colab.research.google.com/assets/colab-badge.svg\" alt=\"Open In Colab\"/></a>"
      ]
    },
    {
      "cell_type": "code",
      "execution_count": 7,
      "metadata": {
        "colab": {
          "base_uri": "https://localhost:8080/"
        },
        "id": "IxfzUge8MEDV",
        "outputId": "aa26aa98-e274-4e0b-bc11-940e76dbe11b"
      },
      "outputs": [
        {
          "output_type": "stream",
          "name": "stdout",
          "text": [
            "Enter the number of rows:2\n",
            "Enter the number of columns:2\n",
            "Enter the entries rowwise:\n",
            "1\n",
            "2\n",
            "3\n",
            "4\n",
            "orginal array\n",
            "1 2 \n",
            "3 4 \n",
            "The Matrix after rotation by the given degree.\n",
            "[[3 1]\n",
            " [4 2]]\n"
          ]
        }
      ],
      "source": [
        "#gadha lekshmi p\n",
        "import numpy as np\n",
        "\n",
        "\n",
        "R = int(input(\"Enter the number of rows:\"))\n",
        "C = int(input(\"Enter the number of columns:\"))\n",
        "  \n",
        "# Initialize matrix\n",
        "matrix = []\n",
        "print(\"Enter the entries rowwise:\")\n",
        "  \n",
        "# For user input\n",
        "for i in range(R):          # A for loop for row entries\n",
        "    a =[]\n",
        "    for j in range(C):      # A for loop for column entries\n",
        "         a.append(int(input()))\n",
        "    matrix.append(a)\n",
        "m=np.array(matrix)\n",
        "print(\"orginal array\")\n",
        "  \n",
        "# For printing the matrix\n",
        "for i in range(R):\n",
        "    for j in range(C):\n",
        "        print(matrix[i][j], end = \" \")\n",
        "    print()\n",
        "\n",
        "rm=np.rot90(m,3)\n",
        "print(\"The Matrix after rotation by +ve 90 degree.\")\n",
        "print(rm)"
      ]
    }
  ]
}
