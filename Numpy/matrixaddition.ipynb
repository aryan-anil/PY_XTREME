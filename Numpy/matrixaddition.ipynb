{
  "nbformat": 4,
  "nbformat_minor": 0,
  "metadata": {
    "colab": {
      "provenance": [],
      "authorship_tag": "ABX9TyMGbVMvjFCdiP9cYYEsnT5Q",
      "include_colab_link": true
    },
    "kernelspec": {
      "name": "python3",
      "display_name": "Python 3"
    },
    "language_info": {
      "name": "python"
    }
  },
  "cells": [
    {
      "cell_type": "markdown",
      "metadata": {
        "id": "view-in-github",
        "colab_type": "text"
      },
      "source": [
        "<a href=\"https://colab.research.google.com/github/Annamjohn/PY_XTREME/blob/main/Numpy/matrixaddition.ipynb\" target=\"_parent\"><img src=\"https://colab.research.google.com/assets/colab-badge.svg\" alt=\"Open In Colab\"/></a>"
      ]
    },
    {
      "cell_type": "code",
      "execution_count": 22,
      "metadata": {
        "colab": {
          "base_uri": "https://localhost:8080/"
        },
        "id": "0GyxdDuWRrCp",
        "outputId": "f83668d1-c848-4698-c4aa-f9a71cd84f81"
      },
      "outputs": [
        {
          "output_type": "stream",
          "name": "stdout",
          "text": [
            "Enter size of first matrix: 2\n",
            "1\n",
            "2\n",
            "3\n",
            "4\n",
            "Enter size of second matrix: 2\n",
            "1\n",
            "3\n",
            "5\n",
            "2\n",
            "Printing elements of first matrix\n",
            "[1 2 3 4]\n",
            "Printing elements of second matrix\n",
            "[1 3 5 2]\n",
            "Addition of two matrix\n",
            "[2 5 8 6]\n"
          ]
        }
      ],
      "source": [
        "import numpy as np\n",
        "\n",
        "# initialising numpy array\n",
        "a=[]\n",
        "n=int(input(\"Enter size of first matrix: \"))\n",
        "for i in range (n):                                       #temporary list to store the row\n",
        "  for j in range (n): \n",
        "    x=int(input())                #add the input to row list\n",
        "    a.append(x)                               #add the row to the list\n",
        "A=np.asarray(a)\n",
        "\n",
        "b=[]\n",
        "m=int(input(\"Enter size of second matrix: \"))\n",
        "if n==m:\n",
        "  for i in range (m):\n",
        "    for j in range (m): \n",
        "      x=int(input())                #add the input to row list\n",
        "      b.append(x)                               #add the row to the list\n",
        "  B=np.asarray(b)\n",
        "\n",
        "\n",
        "\n",
        "  print(\"Printing elements of first matrix\")\n",
        "  print(A)\n",
        "  print(\"Printing elements of second matrix\")\n",
        "  print(B)\n",
        "\n",
        "  # adding two matrix\n",
        "  print(\"Addition of two matrix\")\n",
        "  print(np.add(A, B))\n"
      ]
    }
  ]
}