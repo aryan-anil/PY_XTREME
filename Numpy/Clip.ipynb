{
  "nbformat": 4,
  "nbformat_minor": 0,
  "metadata": {
    "colab": {
      "provenance": [],
      "name": "Clip.ipynb",
      "authorship_tag": "ABX9TyPvt62bU2BxWMzK7HnXe3Nc",
      "include_colab_link": true
    },
    "kernelspec": {
      "name": "python3",
      "display_name": "Python 3"
    },
    "language_info": {
      "name": "python"
    }
  },
  "cells": [
    {
      "cell_type": "markdown",
      "metadata": {
        "id": "view-in-github",
        "colab_type": "text"
      },
      "source": [
        "<a href=\"https://colab.research.google.com/github/ahadanzar/PY_XTREME/blob/main/Numpy/Clip.ipynb\" target=\"_parent\"><img src=\"https://colab.research.google.com/assets/colab-badge.svg\" alt=\"Open In Colab\"/></a>"
      ]
    },
    {
      "cell_type": "code",
      "execution_count": 16,
      "metadata": {
        "colab": {
          "base_uri": "https://localhost:8080/"
        },
        "id": "Eeh7_oF6bKXj",
        "outputId": "984abac4-676a-48e8-e958-4c51a8989b78"
      },
      "outputs": [
        {
          "output_type": "stream",
          "name": "stdout",
          "text": [
            "[0 1 0 0 5 5 5 2 3]\n"
          ]
        }
      ],
      "source": [
        "#Ahad Anzar\n",
        "#Python program to keep the values of an array within a range.\n",
        "\n",
        "import numpy as np\n",
        "\n",
        "arr = np.array([0,1,-3,-4,5,6,7,2,3])\n",
        "arr = arr.clip(0,5)\n",
        "print(arr)"
      ]
    }
  ]
}