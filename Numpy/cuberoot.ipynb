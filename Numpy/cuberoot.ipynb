{
  "nbformat": 4,
  "nbformat_minor": 0,
  "metadata": {
    "colab": {
      "provenance": [],
      "authorship_tag": "ABX9TyOIWtZXnGvRLieIk53Gc3j2",
      "include_colab_link": true
    },
    "kernelspec": {
      "name": "python3",
      "display_name": "Python 3"
    },
    "language_info": {
      "name": "python"
    }
  },
  "cells": [
    {
      "cell_type": "markdown",
      "metadata": {
        "id": "view-in-github",
        "colab_type": "text"
      },
      "source": [
        "<a href=\"https://colab.research.google.com/github/aryan-anil/PY_XTREME/blob/aryan-anil/Numpy/cuberoot.ipynb\" target=\"_parent\"><img src=\"https://colab.research.google.com/assets/colab-badge.svg\" alt=\"Open In Colab\"/></a>"
      ]
    },
    {
      "cell_type": "code",
      "execution_count": 2,
      "metadata": {
        "colab": {
          "base_uri": "https://localhost:8080/"
        },
        "id": "E4X8wvf2bUYP",
        "outputId": "d97e0e6e-bc24-40ca-fa5f-68950bc8046e"
      },
      "outputs": [
        {
          "output_type": "stream",
          "name": "stdout",
          "text": [
            "cuberoot value of arr1 :  [  1.  30.   4. -10.]\n",
            "\n",
            "cube root value of arr2 :  [ 4.62606501 -5.0396842 ]\n"
          ]
        }
      ],
      "source": [
        "\n",
        "# cbrt () from numpy\n",
        "\n",
        "import numpy as np\n",
        "\n",
        "arr1 = [1, 27000, 64, -1000]\n",
        "print (\"cuberoot value of arr1 : \", np.cbrt(arr1))\n",
        "\n",
        "arr2 = [99,-128]\n",
        "print (\"\\ncube root value of arr2 : \", np.cbrt(arr2))\n"
      ]
    }
  ]
}