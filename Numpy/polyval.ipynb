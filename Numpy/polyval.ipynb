{
  "nbformat": 4,
  "nbformat_minor": 0,
  "metadata": {
    "colab": {
      "provenance": [],
      "authorship_tag": "ABX9TyNfHfzuFyrpUhkgLdrpBzkw",
      "include_colab_link": true
    },
    "kernelspec": {
      "name": "python3",
      "display_name": "Python 3"
    },
    "language_info": {
      "name": "python"
    }
  },
  "cells": [
    {
      "cell_type": "markdown",
      "metadata": {
        "id": "view-in-github",
        "colab_type": "text"
      },
      "source": [
        "<a href=\"https://colab.research.google.com/github/ahadanzar/PY_XTREME/blob/main/Numpy/polyval.ipynb\" target=\"_parent\"><img src=\"https://colab.research.google.com/assets/colab-badge.svg\" alt=\"Open In Colab\"/></a>"
      ]
    },
    {
      "cell_type": "code",
      "execution_count": 3,
      "metadata": {
        "colab": {
          "base_uri": "https://localhost:8080/"
        },
        "id": "KgYiO9MIgDlq",
        "outputId": "4c81123c-2425-4686-a8d4-b6f136b5c7f1"
      },
      "outputs": [
        {
          "output_type": "stream",
          "name": "stdout",
          "text": [
            "Y at x=8 : 15.999999999999998\n"
          ]
        }
      ],
      "source": [
        "#Ahad Anzar\n",
        "#Python program to evaluate a polynomial at specific values\n",
        "\n",
        "import numpy as np\n",
        "\n",
        "x = [1, 2, 3, 4, 5, 6, 7]\n",
        "y = [2, 4, 6, 8, 10, 12, 14]\n",
        "fit = np.polyfit(x, y, 1)\n",
        "\n",
        "find = np.polyval(fit, 8)\n",
        "\n",
        "print(\"Y at x=8 : {}\".format(find))"
      ]
    }
  ]
}