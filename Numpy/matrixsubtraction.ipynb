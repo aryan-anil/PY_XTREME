{
  "nbformat": 4,
  "nbformat_minor": 0,
  "metadata": {
    "colab": {
      "provenance": [],
      "authorship_tag": "ABX9TyM6OY2b7SxysKdg06C/DRSC",
      "include_colab_link": true
    },
    "kernelspec": {
      "name": "python3",
      "display_name": "Python 3"
    },
    "language_info": {
      "name": "python"
    }
  },
  "cells": [
    {
      "cell_type": "markdown",
      "metadata": {
        "id": "view-in-github",
        "colab_type": "text"
      },
      "source": [
        "<a href=\"https://colab.research.google.com/github/Annamjohn/PY_XTREME/blob/main/Numpy/matrixsubtraction.ipynb\" target=\"_parent\"><img src=\"https://colab.research.google.com/assets/colab-badge.svg\" alt=\"Open In Colab\"/></a>"
      ]
    },
    {
      "cell_type": "code",
      "execution_count": 23,
      "metadata": {
        "colab": {
          "base_uri": "https://localhost:8080/"
        },
        "id": "0GyxdDuWRrCp",
        "outputId": "58b7cec1-b3cc-4e4f-ce10-ba782b12c63c"
      },
      "outputs": [
        {
          "output_type": "stream",
          "name": "stdout",
          "text": [
            "Enter size of first matrix: 2\n",
            "1\n",
            "5\n",
            "1\n",
            "3\n",
            "Enter size of second matrix: 2\n",
            "0\n",
            "2\n",
            "1\n",
            "4\n",
            "Printing elements of first matrix\n",
            "[1 5 1 3]\n",
            "Printing elements of second matrix\n",
            "[0 2 1 4]\n",
            "Subtraction of two matrix\n",
            "[ 1  3  0 -1]\n"
          ]
        }
      ],
      "source": [
        "import numpy as np\n",
        "\n",
        "# initialising numpy array\n",
        "a=[]\n",
        "n=int(input(\"Enter size of first matrix: \"))\n",
        "for i in range (n):                                       #temporary list to store the row\n",
        "  for j in range (n): \n",
        "    x=int(input())                #add the input to row list\n",
        "    a.append(x)                               #add the row to the list\n",
        "A=np.asarray(a)\n",
        "\n",
        "b=[]\n",
        "m=int(input(\"Enter size of second matrix: \"))\n",
        "if n==m:\n",
        "  for i in range (m):\n",
        "    for j in range (m): \n",
        "      x=int(input())                #add the input to row list\n",
        "      b.append(x)                               #add the row to the list\n",
        "  B=np.asarray(b)\n",
        "\n",
        "\n",
        "\n",
        "  print(\"Printing elements of first matrix\")\n",
        "  print(A)\n",
        "  print(\"Printing elements of second matrix\")\n",
        "  print(B)\n",
        "\n",
        "  # adding two matrix\n",
        "  print(\"Subtraction of two matrix\")\n",
        "  print(np.subtract(A, B))\n"
      ]
    }
  ]
}