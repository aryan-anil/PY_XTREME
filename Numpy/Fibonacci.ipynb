{
  "nbformat": 4,
  "nbformat_minor": 0,
  "metadata": {
    "colab": {
      "provenance": [],
      "authorship_tag": "ABX9TyOsnEX6LhNSPakRDUshmgJa",
      "include_colab_link": true
    },
    "kernelspec": {
      "name": "python3",
      "display_name": "Python 3"
    },
    "language_info": {
      "name": "python"
    }
  },
  "cells": [
    {
      "cell_type": "markdown",
      "metadata": {
        "id": "view-in-github",
        "colab_type": "text"
      },
      "source": [
        "<a href=\"https://colab.research.google.com/github/Annamjohn/PY_XTREME/blob/main/Numpy/Fibonacci.ipynb\" target=\"_parent\"><img src=\"https://colab.research.google.com/assets/colab-badge.svg\" alt=\"Open In Colab\"/></a>"
      ]
    },
    {
      "cell_type": "code",
      "execution_count": 10,
      "metadata": {
        "colab": {
          "base_uri": "https://localhost:8080/"
        },
        "id": "0GyxdDuWRrCp",
        "outputId": "b23ec6ba-44ee-4194-f524-6062ca1a4185"
      },
      "outputs": [
        {
          "output_type": "stream",
          "name": "stdout",
          "text": [
            "Enter the value of n + 1'th number : 7\n",
            "The first 6 numbers of Fibonacci series are [1. 1. 2. 3. 5. 8.] . \n"
          ]
        }
      ],
      "source": [
        "import numpy as np\n",
        "\n",
        "# We are creating an array contains n elements\n",
        "# for getting first 'n' Fibonacci numbers\n",
        "fNumber = int(input(\"Enter the value of n + 1'th number : \"))\n",
        "a = np.arange(1, fNumber)\n",
        "length_a = len(a)\n",
        "\n",
        "# splitting of terms for easiness\n",
        "sqrt_five = np.sqrt(5)\n",
        "alpha = (1 + sqrt_five) / 2\n",
        "beta = (1 - sqrt_five) / 2\n",
        "\n",
        "# Implementation of formula\n",
        "# np.rint is used for rounding off to integer\n",
        "Fn = np.rint(((alpha ** a) - (beta ** a)) / (sqrt_five))\n",
        "print(\"The first {} numbers of Fibonacci series are {} . \".format(length_a, Fn))\n"
      ]
    }
  ]
}