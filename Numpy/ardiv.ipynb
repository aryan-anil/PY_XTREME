{
  "nbformat": 4,
  "nbformat_minor": 0,
  "metadata": {
    "colab": {
      "provenance": []
    },
    "kernelspec": {
      "name": "python3",
      "display_name": "Python 3"
    },
    "language_info": {
      "name": "python"
    }
  },
  "cells": [
    {
      "cell_type": "code",
      "execution_count": 11,
      "metadata": {
        "id": "1s3XiPM7H9Z7",
        "colab": {
          "base_uri": "https://localhost:8080/"
        },
        "outputId": "7cada7ac-c886-4499-9c3e-fa93cec4e858"
      },
      "outputs": [
        {
          "output_type": "stream",
          "name": "stdout",
          "text": [
            "Enter the size:3\n",
            "Enter the divisor:2\n",
            "arr1         :  [0, 1, 2]\n",
            "\n",
            "Output array : \n",
            " [0.  0.5 1. ]\n"
          ]
        }
      ],
      "source": [
        "#Joel Peter Joseph\n",
        "#To divide a range of elements in an array\n",
        "\n",
        "import numpy as np\n",
        "  \n",
        "# input_array\n",
        "arr1 = []\n",
        "n=int(input(\"Enter the size:\"))\n",
        "for i in range(n):\n",
        "  arr1.append(i)\n",
        "divisor = int(input(\"Enter the divisor:\"))\n",
        "print (\"arr1         : \", arr1)\n",
        "  \n",
        "# output_array\n",
        "out = np.divide(arr1, divisor)\n",
        "print (\"\\nOutput array : \\n\", out)"
      ]
    }
  ]
}