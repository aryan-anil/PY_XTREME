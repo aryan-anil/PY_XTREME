{
  "nbformat": 4,
  "nbformat_minor": 0,
  "metadata": {
    "colab": {
      "provenance": [],
      "authorship_tag": "ABX9TyPMQP/gltGyQ7VlPdMJ0mdx",
      "include_colab_link": true
    },
    "kernelspec": {
      "name": "python3",
      "display_name": "Python 3"
    },
    "language_info": {
      "name": "python"
    }
  },
  "cells": [
    {
      "cell_type": "markdown",
      "metadata": {
        "id": "view-in-github",
        "colab_type": "text"
      },
      "source": [
        "<a href=\"https://colab.research.google.com/github/ahadanzar/PY_XTREME/blob/main/Numpy/Sort.ipynb\" target=\"_parent\"><img src=\"https://colab.research.google.com/assets/colab-badge.svg\" alt=\"Open In Colab\"/></a>"
      ]
    },
    {
      "cell_type": "code",
      "execution_count": 2,
      "metadata": {
        "colab": {
          "base_uri": "https://localhost:8080/"
        },
        "id": "d4JhKqnnfX7k",
        "outputId": "27c88c44-1099-4ef7-f2e5-46892a50db05"
      },
      "outputs": [
        {
          "output_type": "stream",
          "name": "stdout",
          "text": [
            "[1 2 3 4 5 5 6 7 8 9]\n"
          ]
        }
      ],
      "source": [
        "#Ahad Anzar\n",
        "#Python program to sort a numpy array\n",
        "\n",
        "import numpy as np\n",
        "\n",
        "x = np.array([5,4,8,7,1,2,3,9,5,6])\n",
        "sorted = np.sort(x)\n",
        "\n",
        "print(sorted)"
      ]
    }
  ]
}