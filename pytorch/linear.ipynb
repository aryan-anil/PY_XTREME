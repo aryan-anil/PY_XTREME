{
  "nbformat": 4,
  "nbformat_minor": 0,
  "metadata": {
    "colab": {
      "provenance": [],
      "authorship_tag": "ABX9TyMMQQEoYx10HGSfihp+N1Y+",
      "include_colab_link": true
    },
    "kernelspec": {
      "name": "python3",
      "display_name": "Python 3"
    },
    "language_info": {
      "name": "python"
    }
  },
  "cells": [
    {
      "cell_type": "markdown",
      "metadata": {
        "id": "view-in-github",
        "colab_type": "text"
      },
      "source": [
        "<a href=\"https://colab.research.google.com/github/Vishnupriya286/PY_XTREME/blob/main/pytorch/linear.ipynb\" target=\"_parent\"><img src=\"https://colab.research.google.com/assets/colab-badge.svg\" alt=\"Open In Colab\"/></a>"
      ]
    },
    {
      "cell_type": "code",
      "execution_count": null,
      "metadata": {
        "id": "U6k8PFaybrrK"
      },
      "outputs": [],
      "source": [
        "import torch\n",
        "import torch.nn as nn\n",
        "from torch.autograd import Variable\n",
        "x_train = x.reshape(-1, 1).astype('float32')\n",
        "y_train = y.reshape(-1, 1).astype('float32')\n",
        "\n",
        "class LinearRegressionModel(nn.Module):\n",
        "   def __init__(self, input_dim, output_dim):\n",
        "      super(LinearRegressionModel, self).__init__()\n",
        "      self.linear = nn.Linear(input_dim, output_dim)\n",
        "\n",
        "   def forward(self, x):\n",
        "      out = self.linear(x)\n",
        "      return out\n",
        "input_dim = x_train.shape[1]\n",
        "output_dim = y_train.shape[1]\n",
        "input_dim, output_dim(1, 1)\n",
        "model = LinearRegressionModel(input_dim, output_dim)\n",
        "criterion = nn.MSELoss()\n",
        "[w, b] = model.parameters()\n",
        "\n",
        "def get_param_values():\n",
        "   return w.data[0][0], b.data[0]\n",
        "\n",
        "def plot_current_fit(title = \"\"):\n",
        "plt.figure(figsize = (12,4))\n",
        "plt.title(title)\n",
        "plt.scatter(x, y, s = 8)\n",
        "w1 = w.data[0][0]\n",
        "b1 = b.data[0]\n",
        "x1 = np.array([0., 1.])\n",
        "y1 = x1 * w1 + b1\n",
        "plt.plot(x1, y1, 'r', label = 'Current Fit ({:.3f}, {:.3f})'.format(w1, b1))\n",
        "plt.xlabel('x (input)')\n",
        "plt.ylabel('y (target)')\n",
        "plt.legend()\n",
        "plt.show()\n",
        "plot_current_fit('Before training')"
      ]
    }
  ]
}