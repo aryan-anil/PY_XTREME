{
  "nbformat": 4,
  "nbformat_minor": 0,
  "metadata": {
    "colab": {
      "provenance": [],
      "authorship_tag": "ABX9TyPVQbvAqORSrv4h+Jm0azev",
      "include_colab_link": true
    },
    "kernelspec": {
      "name": "python3",
      "display_name": "Python 3"
    },
    "language_info": {
      "name": "python"
    }
  },
  "cells": [
    {
      "cell_type": "markdown",
      "metadata": {
        "id": "view-in-github",
        "colab_type": "text"
      },
      "source": [
        "<a href=\"https://colab.research.google.com/github/Vishnupriya286/PY_XTREME/blob/main/pytorch/cnn.ipynb\" target=\"_parent\"><img src=\"https://colab.research.google.com/assets/colab-badge.svg\" alt=\"Open In Colab\"/></a>"
      ]
    },
    {
      "cell_type": "code",
      "execution_count": null,
      "metadata": {
        "id": "x8xShQ1MhACp"
      },
      "outputs": [],
      "source": [
        "from torch.autograd import Variable\n",
        "import torch.nn.functional as F\n",
        "class SimpleCNN(torch.nn.Module):\n",
        "   def __init__(self):\n",
        "      super(SimpleCNN, self).__init__()\n",
        "      #Input channels = 3, output channels = 18\n",
        "      self.conv1 = torch.nn.Conv2d(3, 18, kernel_size = 3, stride = 1, padding = 1)\n",
        "      self.pool = torch.nn.MaxPool2d(kernel_size = 2, stride = 2, padding = 0)\n",
        "      #4608 input features, 64 output features (see sizing flow below)\n",
        "      self.fc1 = torch.nn.Linear(18 * 16 * 16, 64)\n",
        "      #64 input features, 10 output features for our 10 defined classes\n",
        "      self.fc2 = torch.nn.Linear(64, 10)\n",
        "def forward(self, x):\n",
        "   x = F.relu(self.conv1(x))\n",
        "   x = self.pool(x)\n",
        "   x = x.view(-1, 18 * 16 *16)\n",
        "   x = F.relu(self.fc1(x))\n",
        "   #Computes the second fully connected layer (activation applied later)\n",
        "   #Size changes from (1, 64) to (1, 10)\n",
        "   x = self.fc2(x)\n",
        "   return(x)"
      ]
    }
  ]
}