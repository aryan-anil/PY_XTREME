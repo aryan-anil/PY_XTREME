{
  "nbformat": 4,
  "nbformat_minor": 0,
  "metadata": {
    "colab": {
      "provenance": [],
      "authorship_tag": "ABX9TyM3RG2JJHVxGyUD70Pys5hS",
      "include_colab_link": true
    },
    "kernelspec": {
      "name": "python3",
      "display_name": "Python 3"
    },
    "language_info": {
      "name": "python"
    }
  },
  "cells": [
    {
      "cell_type": "markdown",
      "metadata": {
        "id": "view-in-github",
        "colab_type": "text"
      },
      "source": [
        "<a href=\"https://colab.research.google.com/github/amithbiju/PY_XTREME/blob/vr_6/sklearn/Splitting_the_dataset.ipynb\" target=\"_parent\"><img src=\"https://colab.research.google.com/assets/colab-badge.svg\" alt=\"Open In Colab\"/></a>"
      ]
    },
    {
      "cell_type": "code",
      "execution_count": 1,
      "metadata": {
        "colab": {
          "base_uri": "https://localhost:8080/"
        },
        "id": "Cl5Cfl6ogJ8j",
        "outputId": "82b3bd52-3614-403a-e38a-38149bb20477"
      },
      "outputs": [
        {
          "output_type": "stream",
          "name": "stdout",
          "text": [
            "(90, 4)\n",
            "(60, 4)\n",
            "(90,)\n",
            "(60,)\n"
          ]
        }
      ],
      "source": [
        "# load the iris dataset as an example\n",
        "from sklearn.datasets import load_iris\n",
        "iris = load_iris()\n",
        "\n",
        "# store the feature matrix (X) and response vector (y)\n",
        "X = iris.data\n",
        "y = iris.target\n",
        "\n",
        "# splitting X and y into training and testing sets\n",
        "from sklearn.model_selection import train_test_split\n",
        "X_train, X_test, y_train, y_test = train_test_split(X, y, test_size=0.4, random_state=1)\n",
        "\n",
        "# printing the shapes of the new X objects\n",
        "print(X_train.shape)\n",
        "print(X_test.shape)\n",
        "\n",
        "# printing the shapes of the new y objects\n",
        "print(y_train.shape)\n",
        "print(y_test.shape)\n"
      ]
    }
  ]
}