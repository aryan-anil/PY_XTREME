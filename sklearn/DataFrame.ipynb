{
  "nbformat": 4,
  "nbformat_minor": 0,
  "metadata": {
    "colab": {
      "provenance": [],
      "authorship_tag": "ABX9TyOHiQx+2InObLnmw1gpgP5j",
      "include_colab_link": true
    },
    "kernelspec": {
      "name": "python3",
      "display_name": "Python 3"
    },
    "language_info": {
      "name": "python"
    }
  },
  "cells": [
    {
      "cell_type": "markdown",
      "metadata": {
        "id": "view-in-github",
        "colab_type": "text"
      },
      "source": [
        "<a href=\"https://colab.research.google.com/github/amithbiju/PY_XTREME/blob/vr_5/sklearn/DataFrame.ipynb\" target=\"_parent\"><img src=\"https://colab.research.google.com/assets/colab-badge.svg\" alt=\"Open In Colab\"/></a>"
      ]
    },
    {
      "cell_type": "code",
      "source": [
        "import pandas as pd\n",
        "\n",
        "# reading csv file\n",
        "data = pd.read_csv('weather.csv')\n",
        "\n",
        "# shape of dataset\n",
        "print(\"Shape:\", data.shape)\n",
        "\n",
        "# column names\n",
        "print(\"\\nFeatures:\", data.columns)\n",
        "\n",
        "# storing the feature matrix (X) and response vector (y)\n",
        "X = data[data.columns[:-1]]\n",
        "y = data[data.columns[-1]]\n",
        "\n",
        "# printing first 5 rows of feature matrix\n",
        "print(\"\\nFeature matrix:\\n\", X.head())\n",
        "\n",
        "# printing first 5 values of response vector\n",
        "print(\"\\nResponse vector:\\n\", y.head())\n"
      ],
      "metadata": {
        "id": "LkNH69Ndc2l4"
      },
      "execution_count": null,
      "outputs": []
    }
  ]
}