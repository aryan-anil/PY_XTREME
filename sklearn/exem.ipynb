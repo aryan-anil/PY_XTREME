{
  "nbformat": 4,
  "nbformat_minor": 0,
  "metadata": {
    "colab": {
      "provenance": []
    },
    "kernelspec": {
      "name": "python3",
      "display_name": "Python 3"
    },
    "language_info": {
      "name": "python"
    }
  },
  "cells": [
    {
      "cell_type": "code",
      "execution_count": null,
      "metadata": {
        "id": "1s3XiPM7H9Z7"
      },
      "outputs": [],
      "source": [
        "#Joel Peter Joseph\n",
        "#To load an exemplar dataset\n",
        "\n",
        "from sklearn.datasets import load_iris\n",
        "iris = load_iris()\n",
        "   \n",
        "# store the feature matrix (X) and response vector (y)\n",
        "X = iris.data\n",
        "y = iris.target\n",
        "   \n",
        "# store the feature and target names\n",
        "feature_names = iris.feature_names\n",
        "target_names = iris.target_names\n",
        "   \n",
        "# printing features and target names of our dataset\n",
        "print(\"Feature names:\", feature_names)\n",
        "print(\"Target names:\", target_names)\n",
        "   \n",
        "# X and y are numpy arrays\n",
        "print(\"\\nType of X is:\", type(X))\n",
        "   \n",
        "# printing first 5 input rows\n",
        "print(\"\\nFirst 5 rows of X:\\n\", X[:5])"
      ]
    }
  ]
}